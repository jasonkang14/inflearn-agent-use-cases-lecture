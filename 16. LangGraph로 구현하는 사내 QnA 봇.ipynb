{
 "cells": [
  {
   "cell_type": "code",
   "execution_count": 1,
   "metadata": {},
   "outputs": [
    {
     "data": {
      "text/plain": [
       "True"
      ]
     },
     "execution_count": 1,
     "metadata": {},
     "output_type": "execute_result"
    }
   ],
   "source": [
    "from dotenv import load_dotenv\n",
    "load_dotenv() # OPENAI_API_KEY, PINECONE_API_KEY"
   ]
  },
  {
   "cell_type": "code",
   "execution_count": 2,
   "metadata": {},
   "outputs": [
    {
     "name": "stderr",
     "output_type": "stream",
     "text": [
      "/Users/jasonkang/inflearn/agent-use-cases/.venv/lib/python3.12/site-packages/tqdm/auto.py:21: TqdmWarning: IProgress not found. Please update jupyter and ipywidgets. See https://ipywidgets.readthedocs.io/en/stable/user_install.html\n",
      "  from .autonotebook import tqdm as notebook_tqdm\n"
     ]
    }
   ],
   "source": [
    "from langchain_openai import ChatOpenAI, OpenAIEmbeddings\n",
    "from langchain_pinecone import PineconeVectorStore\n",
    "\n",
    "llm = ChatOpenAI(model=\"gpt-4.1\", temperature=0)\n",
    "small_llm = ChatOpenAI(model=\"gpt-4.1-mini\", temperature=0)\n",
    "embeddings = OpenAIEmbeddings(model=\"text-embedding-3-large\")\n",
    "\n",
    "vector_store = PineconeVectorStore(\n",
    "    index_name=\"inhouse-python-index\",\n",
    "    embedding=embeddings,\n",
    ")\n",
    "retriever = vector_store.as_retriever()"
   ]
  },
  {
   "cell_type": "code",
   "execution_count": 3,
   "metadata": {},
   "outputs": [],
   "source": [
    "from typing_extensions import TypedDict\n",
    "from langgraph.graph import StateGraph\n",
    "from langchain_core.documents import Document\n",
    "\n",
    "\n",
    "class AgentState(TypedDict):\n",
    "    question: str\n",
    "    answer: str\n",
    "    context: list[Document]\n",
    "    document_name: str\n",
    "    is_in_faq: bool\n",
    "    \n",
    "graph_builder = StateGraph(AgentState)"
   ]
  },
  {
   "cell_type": "code",
   "execution_count": 4,
   "metadata": {},
   "outputs": [],
   "source": [
    "from langchain_core.prompts import ChatPromptTemplate \n",
    "from langchain_core.output_parsers import StrOutputParser\n",
    "\n",
    "\n",
    "def check_faq(state: AgentState) -> AgentState:\n",
    "    question = state['question']\n",
    "    context = retriever.invoke(question, filter={\"source\": \"employee_benefits_and_welfare_faq\"})\n",
    "    check_faq_prompt = ChatPromptTemplate.from_messages([\n",
    "        (\"system\", \"\"\"You are a helpful assistant that checks if the question is in the FAQ. \n",
    "If the question is in the FAQ, return 'Yes'. Otherwise, return 'No'.\"\"\"),\n",
    "        (\"user\", \"Question: {question}\\nContext: {context}\"),\n",
    "    ])\n",
    "    check_faq_chain = check_faq_prompt | llm | StrOutputParser()\n",
    "    is_in_faq = check_faq_chain.invoke({\"question\": question, \"context\": context})\n",
    "    return {\"is_in_faq\": is_in_faq == \"Yes\", \"context\": context if is_in_faq == \"Yes\" else []}"
   ]
  },
  {
   "cell_type": "code",
   "execution_count": 5,
   "metadata": {},
   "outputs": [],
   "source": [
    "def get_document_name(state: AgentState) -> AgentState:\n",
    "    determine_document_prompt = ChatPromptTemplate.from_messages(\n",
    "    [\n",
    "        (\"system\", \"\"\"You are a helpful assistant that determines the most relevant document name based on the user's question. \n",
    "Choose from the following document names:\n",
    "- delegation_of_authority\n",
    "- employee_benefits_and_welfare_faq\n",
    "- employee_benefits_and_welfare_guide\n",
    "- employee_handbook_and_hr_policy\n",
    "- expense_management_guide\n",
    "- it_support_guide\n",
    "- legal_and_compliance_policy\n",
    "\n",
    "Return ONLY the document name (e.g., 'it_support_guide').\n",
    "\n",
    "Examples:\n",
    "- If the question is about who can approve expenses, return 'delegation_of_authority' or 'expense_management_guide' as appropriate.\n",
    "- If the question is about employee benefits, return 'employee_benefits_and_welfare_guide'.\n",
    "- If the question is about HR policies or the employee handbook, return 'employee_handbook_and_hr_policy'.\n",
    "- If the question is about IT support or technical issues, return 'it_support_guide'.\n",
    "- If the question is about legal or compliance matters, return 'legal_and_compliance_policy'.\n",
    "- If the question is a frequently asked question about benefits, return 'employee_benefits_and_welfare_faq'.\n",
    "\"\"\"),\n",
    "        (\"user\", \"Question: {question}\"),\n",
    "    ]\n",
    ")\n",
    "    question = state['question']\n",
    "    determine_document_chain = determine_document_prompt | small_llm | StrOutputParser()\n",
    "    document_name = determine_document_chain.invoke({\"question\": question})\n",
    "    return {\"document_name\": document_name}"
   ]
  },
  {
   "cell_type": "code",
   "execution_count": 6,
   "metadata": {},
   "outputs": [],
   "source": [
    "def retrieve_document(state: AgentState) -> AgentState:\n",
    "    question = state['question']\n",
    "    document_name = state['document_name']\n",
    "    context = retriever.invoke(question, filter={\"source\": document_name})\n",
    "    return {\"context\": context}"
   ]
  },
  {
   "cell_type": "code",
   "execution_count": 7,
   "metadata": {},
   "outputs": [],
   "source": [
    "def generate_answer(state: AgentState) -> AgentState:\n",
    "    question = state['question']\n",
    "    context = state['context']\n",
    "    generate_answer_prompt = ChatPromptTemplate.from_messages([\n",
    "        (\"system\", \"\"\"You are a helpful assistant that generates an answer to the user's question based on the context.\n",
    "        \"\"\"),\n",
    "        (\"user\", \"Question: {question}\\nContext: {context}\"),\n",
    "    ])\n",
    "    generate_answer_chain = generate_answer_prompt | llm | StrOutputParser()\n",
    "    answer = generate_answer_chain.invoke({\"question\": question, \"context\": context})\n",
    "    return {\"answer\": answer}"
   ]
  },
  {
   "cell_type": "code",
   "execution_count": 8,
   "metadata": {},
   "outputs": [],
   "source": [
    "from typing import Literal\n",
    "\n",
    "def check_if_in_faq(state: AgentState) -> Literal[\"generate_answer\", \"get_document_name\"]:\n",
    "    is_in_faq = state['is_in_faq']\n",
    "    if is_in_faq:\n",
    "        return \"generate_answer\"\n",
    "    else:\n",
    "        return \"get_document_name\""
   ]
  },
  {
   "cell_type": "code",
   "execution_count": 9,
   "metadata": {},
   "outputs": [],
   "source": [
    "from langgraph.graph import START, END\n",
    "\n",
    "graph_builder.add_node(check_faq)\n",
    "graph_builder.add_node(get_document_name)\n",
    "graph_builder.add_node(retrieve_document)\n",
    "graph_builder.add_node(generate_answer)\n",
    "\n",
    "graph_builder.add_edge(START, \"check_faq\")\n",
    "graph_builder.add_conditional_edges(\"check_faq\", check_if_in_faq)\n",
    "graph_builder.add_edge(\"get_document_name\", \"retrieve_document\")\n",
    "graph_builder.add_edge(\"retrieve_document\", \"generate_answer\")\n",
    "graph_builder.add_edge(\"generate_answer\", END)\n",
    "\n",
    "graph = graph_builder.compile()"
   ]
  },
  {
   "cell_type": "code",
   "execution_count": 10,
   "metadata": {},
   "outputs": [
    {
     "data": {
      "image/png": "[encoded data removed]",
      "text/plain": [
       "<langgraph.graph.state.CompiledStateGraph object at 0x11d4c0ce0>"
      ]
     },
     "execution_count": 10,
     "metadata": {},
     "output_type": "execute_result"
    }
   ],
   "source": [
    "graph"
   ]
  },
  {
   "cell_type": "code",
   "execution_count": 11,
   "metadata": {},
   "outputs": [
    {
     "data": {
      "text/plain": [
       "{'question': '사내 네트워크 담당자는 누구인가요?',\n",
       " 'answer': '사내 네트워크 담당자는 김영수 (IT 네트워크 관리자)입니다.  \\n이메일: kimys@company.com  \\n전화번호: 02-1234-5680',\n",
       " 'context': [Document(id='c4fc05d7-76c2-48e0-b51f-2c0aa8405ba3', metadata={'chapter': '제 1 장 IT 지원 기본 정책', 'section': '제 3 조 (IT 지원 담당자)', 'source': 'it_support_guide', 'title': 'IT 지원 가이드'}, page_content='- **네트워크 지원**\\n- 담당자: 김영수 (IT 네트워크 관리자)\\n- 이메일: kimys@company.com\\n- 전화번호: 02-1234-5680\\n- **계정관리 및 보안**\\n- 담당자: 이민정 (보안 관리자)\\n- 이메일: leemj@company.com\\n- 전화번호: 02-1234-5681\\n- **소프트웨어 및 시스템 유지보수**\\n- 담당자: 박상호 (IT 시스템 관리자)\\n- 이메일: parksh@company.com\\n- 전화번호: 02-1234-5682  \\n---'),\n",
       "  Document(id='a413c123-ba06-4c91-bec2-3bcd96e8697e', metadata={'chapter': '제 3장 네트워크 및 VPN 접속', 'section': '제 6조 (사내 네트워크 접속)', 'source': 'it_support_guide', 'title': 'IT 지원 가이드'}, page_content='- 모든 사내 네트워크 접속은 인증된 사용자 계정으로만 가능하다.\\n- 외부 접속 시 VPN 사용이 필수이다.\\n- VPN 계정은 IT 지원팀을 통해 신청할 수 있다.'),\n",
       "  Document(id='73334394-4602-4b4d-b57d-d4e16f376cc9', metadata={'chapter': '제 6장 데이터 보안', 'section': '제 12조 (데이터 보호)', 'source': 'it_support_guide', 'title': 'IT 지원 가이드'}, page_content='- 모든 회사 데이터는 사내 서버 또는 클라우드에 안전하게 저장한다.\\n- 민감한 데이터는 암호화하여 저장한다.\\n- 기밀 자료는 사내 네트워크에서만 접근 가능하도록 설정한다.'),\n",
       "  Document(id='73299f9a-059d-4036-9737-77afb75489df', metadata={'chapter': '제 3장 네트워크 및 VPN 접속', 'section': '제 7조 (VPN 접속 오류 해결)', 'source': 'it_support_guide', 'title': 'IT 지원 가이드'}, page_content='- VPN 접속 불가 시 네트워크 상태 확인\\n- VPN 클라이언트 최신 버전 설치 확인\\n- 오류 지속 시 IT 지원팀에 문의')],\n",
       " 'document_name': 'it_support_guide',\n",
       " 'is_in_faq': False}"
      ]
     },
     "execution_count": 11,
     "metadata": {},
     "output_type": "execute_result"
    }
   ],
   "source": [
    "graph.invoke({\"question\": \"사내 네트워크 담당자는 누구인가요?\"})"
   ]
  },
  {
   "cell_type": "code",
   "execution_count": 14,
   "metadata": {},
   "outputs": [
    {
     "data": {
      "text/plain": [
       "{'question': '출산휴가는 얼마나 보장되나요?',\n",
       " 'answer': '출산휴가는 출산 예정일 전후로 자유롭게 사용할 수 있으며, 최대 20일 유급으로 보장됩니다.',\n",
       " 'context': [Document(id='824b9c66-269f-409d-b59f-9fcd389d75fb', metadata={'chapter': '2. 출산 및 육아 휴가 관련', 'section': 'Q4: 출산 휴가는 언제부터 사용할 수 있나요?', 'source': 'employee_benefits_and_welfare_faq', 'title': '직원 복리후생 및 복지 FAQ'}, page_content='- A: 출산 예정일 전후로 자유롭게 사용할 수 있으며, 최대 20일 유급으로 제공됩니다.'),\n",
       "  Document(id='1036ec07-8314-47ef-97f1-2b74ef2cfd65', metadata={'chapter': '3. 경조 휴가 및 지원', 'section': 'Q6: 경조 휴가는 어떤 경우에 사용할 수 있나요?', 'source': 'employee_benefits_and_welfare_faq', 'title': '직원 복리후생 및 복지 FAQ'}, page_content='- A: 본인 결혼, 자녀 출생, 부모/배우자 사망 등 경조사 사유에 따라 휴가가 부여됩니다.'),\n",
       "  Document(id='f0b7c834-5d42-42b5-8f47-3acb418c29ac', metadata={'chapter': '2. 출산 및 육아 휴가 관련', 'section': 'Q5: 육아 휴가는 누구에게 적용되나요?', 'source': 'employee_benefits_and_welfare_faq', 'title': '직원 복리후생 및 복지 FAQ'}, page_content='- A: 모든 직원이 신청할 수 있으며, 최대 1년까지 사용할 수 있으며, 첫 3개월은 급여의 50%가 지급됩니다.  \\n---'),\n",
       "  Document(id='1bd85b06-53b0-4cee-991e-95fd2680c731', metadata={'chapter': '3. 경조 휴가 및 지원', 'section': '7. 문의 및 기타', 'source': 'employee_benefits_and_welfare_faq', 'title': '직원 복리후생 및 복지 FAQ'}, page_content='**Q14: 복리후생 관련 문의는 어디로 하면 되나요?**\\n- A: HR 담당자 김지현 (이메일: kimjh@company.com, 전화번호: 02-1234-5678)에게 문의 가능합니다.')],\n",
       " 'is_in_faq': True}"
      ]
     },
     "execution_count": 14,
     "metadata": {},
     "output_type": "execute_result"
    }
   ],
   "source": [
    "graph.invoke({\"question\": \"출산휴가는 얼마나 보장되나요?\"})"
   ]
  },
  {
   "cell_type": "code",
   "execution_count": null,
   "metadata": {},
   "outputs": [],
   "source": []
  }
 ],
 "metadata": {
  "kernelspec": {
   "display_name": ".venv",
   "language": "python",
   "name": "python3"
  },
  "language_info": {
   "codemirror_mode": {
    "name": "ipython",
    "version": 3
   },
   "file_extension": ".py",
   "mimetype": "text/x-python",
   "name": "python",
   "nbconvert_exporter": "python",
   "pygments_lexer": "ipython3",
   "version": "3.12.9"
  }
 },
 "nbformat": 4,
 "nbformat_minor": 2
}
