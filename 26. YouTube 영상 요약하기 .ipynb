{
 "cells": [
  {
   "cell_type": "markdown",
   "id": "4f993f5c",
   "metadata": {
    "vscode": {
     "languageId": "raw"
    }
   },
   "source": [
    "# 26. YouTube 영상 요약하기 \n",
    "\n",
    "## 프로젝트 개요\n",
    "\n",
    "이 노트북은 YouTube 영상을 자동으로 다운로드하고, OpenAI Whisper를 사용하여 텍스트로 변환한 후, 내용을 요약하여 Notion 데이터베이스에 자동으로 업로드하는 고급 시스템을 구축합니다. \n",
    "\n",
    "### 주요 기능\n",
    "1. **YouTube 영상 처리**: URL을 통한 자동 다운로드 및 텍스트 변환\n",
    "2. **자동 요약**: AI를 활용한 마크다운 형식의 구조화된 아웃라인 생성\n",
    "3. **MCP 연동**: Model Context Protocol을 사용한 Notion API 고급 활용\n",
    "4. **ReAct 에이전트**: 복잡한 작업을 수행하는 지능형 에이전트 구현"
   ]
  },
  {
   "cell_type": "markdown",
   "id": "6525c622",
   "metadata": {},
   "source": [
    "## 1. 환경 설정"
   ]
  },
  {
   "cell_type": "code",
   "execution_count": null,
   "id": "19baad98",
   "metadata": {},
   "outputs": [
    {
     "data": {
      "text/plain": [
       "True"
      ]
     },
     "execution_count": 1,
     "metadata": {},
     "output_type": "execute_result"
    }
   ],
   "source": [
    "# 환경 변수 로드 - OpenAI API 키와 Notion API 키를 .env 파일에서 불러옵니다\n",
    "from dotenv import load_dotenv\n",
    "\n",
    "# .env 파일에서 환경 변수 로드 (OpenAI API 키, Notion API 키 등)\n",
    "load_dotenv()"
   ]
  },
  {
   "cell_type": "markdown",
   "id": "1951e98b",
   "metadata": {
    "vscode": {
     "languageId": "raw"
    }
   },
   "source": [
    "## 2. 워크플로우 상태 정의\n",
    "\n",
    "LangGraph에서 사용할 고급 상태 구조를 정의합니다. 이 상태는 YouTube URL부터 Notion 페이지 생성까지의 전체 워크플로우를 관리합니다.\n"
   ]
  },
  {
   "cell_type": "code",
   "execution_count": null,
   "id": "4d6dcefb",
   "metadata": {},
   "outputs": [],
   "source": [
    "from typing_extensions import TypedDict\n",
    "from langgraph.graph import StateGraph\n",
    "\n",
    "# 워크플로우에서 사용할 고급 상태 구조 정의\n",
    "class AgentState(TypedDict):\n",
    "    url: str           # YouTube 영상 URL\n",
    "    transcript: str    # Whisper로 추출한 텍스트\n",
    "    outline: str       # 생성된 마크다운 아웃라인\n",
    "    title: str         # 영상/문서 제목\n",
    "    database_id: str   # Notion 데이터베이스 ID\n",
    "    page_id: str       # 생성된 Notion 페이지 ID\n",
    "    save_dir: str      # 다운로드한 영상 파일 저장 경로\n",
    "    \n",
    "# 상태 그래프 빌더 초기화\n",
    "graph_builder = StateGraph(AgentState)"
   ]
  },
  {
   "cell_type": "raw",
   "metadata": {
    "vscode": {
     "languageId": "raw"
    }
   },
   "source": [
    "## 3. AI 모델 및 로더 초기화\n",
    "\n",
    "YouTube 영상 처리를 위한 다양한 모델과 로더를 초기화합니다.\n"
   ]
  },
  {
   "cell_type": "code",
   "execution_count": null,
   "id": "a82c81ca",
   "metadata": {},
   "outputs": [],
   "source": [
    "from langchain_openai import ChatOpenAI\n",
    "from langchain_community.document_loaders.parsers.audio import OpenAIWhisperParser\n",
    "from langchain_community.document_loaders.blob_loaders.youtube_audio import (\n",
    "    YoutubeAudioLoader,  # YouTube 영상 오디오 다운로더\n",
    ")\n",
    "from langchain_community.document_loaders.generic import GenericLoader  # 범용 로더\n",
    "\n",
    "# ChatGPT 모델 초기화 - 텍스트 요약과 아웃라인 생성에 사용\n",
    "llm = ChatOpenAI(model=\"gpt-4o\", temperature=0)  # 더 높은 품질의 결과를 위해 gpt-4o 사용\n"
   ]
  },
  {
   "cell_type": "markdown",
   "id": "03c98102",
   "metadata": {
    "vscode": {
     "languageId": "raw"
    }
   },
   "source": [
    "## 4. 워크플로우 노드 함수 정의\n",
    "\n",
    "### 4.1 YouTube 트랜스크립트 추출 함수\n",
    "\n",
    "YouTube URL에서 영상을 다운로드하고 OpenAI Whisper를 사용하여 음성을 텍스트로 변환하는 함수입니다.\n"
   ]
  },
  {
   "cell_type": "code",
   "execution_count": null,
   "id": "0cdd5b14",
   "metadata": {},
   "outputs": [],
   "source": [
    "from langchain_core.documents.base import Blob\n",
    "from langchain_community.document_loaders.parsers.audio import OpenAIWhisperParser\n",
    "\n",
    "def extract_transcript(state: AgentState) -> AgentState:\n",
    "    \"\"\"\n",
    "    YouTube URL에서 영상을 다운로드하고 음성을 텍스트로 변환하는 함수\n",
    "    \"\"\"\n",
    "    # 상태에서 YouTube URL과 저장 경로 가져오기\n",
    "    url = state[\"url\"]\n",
    "    save_dir = state[\"save_dir\"]\n",
    "    \n",
    "    # YouTube 오디오 다운로더와 Whisper 파서를 결합한 로더 생성\n",
    "    loader = GenericLoader(\n",
    "        YoutubeAudioLoader([url], save_dir),  # YouTube 영상 다운로드\n",
    "        OpenAIWhisperParser()                 # Whisper를 사용한 음성-텍스트 변환\n",
    "    )\n",
    "    \n",
    "    # 변환된 텍스트들을 하나의 문자열로 결합\n",
    "    transcript = \"\"\n",
    "    documents = loader.load()\n",
    "    for doc in documents:\n",
    "        transcript += doc.page_content\n",
    "    \n",
    "    # 결과를 상태로 반환\n",
    "    return {\"transcript\": transcript}"
   ]
  },
  {
   "cell_type": "markdown",
   "id": "be32d690",
   "metadata": {
    "vscode": {
     "languageId": "raw"
    }
   },
   "source": [
    "### 4.2 마크다운 아웃라인 생성 함수\n",
    "\n",
    "추출된 텍스트를 바탕으로 구조화된 마크다운 형식의 한국어 아웃라인을 생성하는 함수입니다.\n"
   ]
  },
  {
   "cell_type": "code",
   "execution_count": null,
   "id": "8e9f2169",
   "metadata": {},
   "outputs": [],
   "source": [
    "from langchain_openai import ChatOpenAI\n",
    "from langchain_core.prompts import ChatPromptTemplate\n",
    "from langchain_core.output_parsers import StrOutputParser\n",
    "\n",
    "# 아웃라인 생성용 모델 (고품질 결과를 위해 gpt-4o 사용)\n",
    "llm = ChatOpenAI(model=\"gpt-4o\", temperature=0)\n",
    "\n",
    "def generate_outline(state: AgentState) -> AgentState:\n",
    "    \"\"\"\n",
    "    추출된 텍스트를 바탕으로 구조화된 마크다운 형식의 한국어 아웃라인을 생성하는 함수\n",
    "    \"\"\"\n",
    "    # 상태에서 트랜스크립트 가져오기\n",
    "    transcript = state[\"transcript\"]\n",
    "    \n",
    "    # 마크다운 형식의 아웃라인 생성을 위한 프롬프트 템플릿 설정\n",
    "    outline_prompt = ChatPromptTemplate.from_messages([\n",
    "        (\"system\", \"\"\"You are a helpful assistant that generates an outline for a transcript. \n",
    "Your outline must be in the markdown format using necessary headings and subheadings.\n",
    "You can also use bullet points and numbered lists where you think necessary.\n",
    "Make sure to use Korean when you generate the outline.\"\"\"),\n",
    "        (\"user\", \"Generate an outline for the following transcript: {transcript}\"),\n",
    "    ])\n",
    "    \n",
    "    # 체인 구성: 프롬프트 -> LLM -> 문자열 파서\n",
    "    outline_chain = outline_prompt | llm | StrOutputParser()\n",
    "    \n",
    "    # 마크다운 아웃라인 생성\n",
    "    outline = outline_chain.invoke({\"transcript\": transcript})\n",
    "    \n",
    "    # 결과를 상태로 반환\n",
    "    return {\"outline\": outline}"
   ]
  },
  {
   "cell_type": "markdown",
   "id": "bb60d122",
   "metadata": {
    "vscode": {
     "languageId": "raw"
    }
   },
   "source": [
    "## 5. MCP (Model Context Protocol) 클라이언트 설정\n",
    "\n",
    "### 5.1 MCP 클라이언트 초기화\n",
    "\n",
    "MCP를 사용하여 Notion API와의 고급 상호작용을 위한 클라이언트를 설정합니다. 이는 26번 노트북의 직접적인 API 호출보다 더 유연하고 강력한 방법입니다.\n"
   ]
  },
  {
   "cell_type": "code",
   "execution_count": null,
   "id": "4e133035",
   "metadata": {},
   "outputs": [],
   "source": [
    "import os\n",
    "from langchain_mcp_adapters.client import MultiServerMCPClient\n",
    "\n",
    "# 환경 변수에서 Notion API 키 가져오기\n",
    "notion_api_key = os.getenv(\"NOTION_API_KEY\")\n",
    "\n",
    "# MCP 클라이언트 설정 - Notion API와의 고급 상호작용을 위한 프로토콜\n",
    "mcp_client = MultiServerMCPClient({\n",
    "  \"notionApi\": {\n",
    "      \"command\": \"npx\",  # Node.js 패키지 실행 명령\n",
    "      \"args\": [\"-y\", \"@notionhq/notion-mcp-server\"],  # Notion MCP 서버 패키지 실행\n",
    "      \"env\": {\n",
    "        # OpenAPI MCP 헤더 설정 (인증 정보 포함)\n",
    "        \"OPENAPI_MCP_HEADERS\": f\"{{\\\"Authorization\\\": \\\"Bearer {notion_api_key}\\\", \\\"Notion-Version\\\": \\\"2022-06-28\\\" }}\"\n",
    "      },\n",
    "      \"transport\": \"stdio\"  # 표준 입출력을 통한 통신\n",
    "    }  \n",
    "})\n"
   ]
  },
  {
   "cell_type": "markdown",
   "id": "072f8680",
   "metadata": {
    "vscode": {
     "languageId": "raw"
    }
   },
   "source": [
    "### 5.2 도구 목록 가져오기\n",
    "\n",
    "MCP 클라이언트에서 사용 가능한 도구들을 가져옵니다. 이 도구들은 Notion API와의 상호작용에 사용됩니다.\n"
   ]
  },
  {
   "cell_type": "code",
   "execution_count": null,
   "id": "a7f70af7",
   "metadata": {},
   "outputs": [],
   "source": [
    "# MCP 클라이언트에서 사용 가능한 도구 목록 가져오기\n",
    "# 이 도구들은 Notion API와의 상호작용에 사용됩니다\n",
    "tool_list = await mcp_client.get_tools()"
   ]
  },
  {
   "cell_type": "markdown",
   "id": "eac9ceb4",
   "metadata": {
    "vscode": {
     "languageId": "raw"
    }
   },
   "source": [
    "### 5.3 ReAct 에이전트 생성\n",
    "\n",
    "ReAct (Reasoning and Acting) 에이전트를 생성합니다. 이 에이전트는 복잡한 작업을 수행하기 위해 추론과 행동을 반복합니다.\n"
   ]
  },
  {
   "cell_type": "code",
   "execution_count": null,
   "id": "e88d351d",
   "metadata": {},
   "outputs": [],
   "source": [
    "from langgraph.prebuilt import create_react_agent\n",
    "\n",
    "# ReAct 에이전트 생성 - 복잡한 작업을 위한 추론과 행동을 반복하는 에이전트\n",
    "agent = create_react_agent(\n",
    "    model=llm,       # 사용할 언어 모델\n",
    "    tools=tool_list, # MCP에서 가져온 도구 목록\n",
    "    prompt=\"Use the tools provided to you to answer the user's question\"  # 에이전트의 기본 프롬프트\n",
    ")"
   ]
  },
  {
   "cell_type": "markdown",
   "id": "a4b22757",
   "metadata": {
    "vscode": {
     "languageId": "raw"
    }
   },
   "source": [
    "### 5.4 스트림 처리 함수\n",
    "\n",
    "에이전트 실행 중 생성되는 스트림을 처리하는 유틸리티 함수입니다. 실시간으로 에이전트의 행동을 추적할 수 있습니다.\n"
   ]
  },
  {
   "cell_type": "code",
   "execution_count": null,
   "id": "54bfdd7c",
   "metadata": {},
   "outputs": [],
   "source": [
    "async def process_stream(stream_generator):\n",
    "    \"\"\"\n",
    "    에이전트 실행 중 생성되는 스트림을 처리하는 함수\n",
    "    실시간으로 에이전트의 행동과 도구 사용을 추적합니다\n",
    "    \"\"\"\n",
    "    results = []\n",
    "    try:\n",
    "        # 스트림에서 각 청크를 비동기적으로 처리\n",
    "        async for chunk in stream_generator:\n",
    "            # 청크에서 첫 번째 키 가져오기\n",
    "            key = list(chunk.keys())[0]\n",
    "            \n",
    "            if key == 'agent':\n",
    "                # Agent 메시지의 내용을 가져옴. 메세지가 비어있는 경우 어떤 도구를 어떻게 호출할지 정보를 가져옴\n",
    "                content = chunk['agent']['messages'][0].content if chunk['agent']['messages'][0].content != '' else chunk['agent']['messages'][0].additional_kwargs\n",
    "                print(f\"'agent': '{content}'\")\n",
    "            \n",
    "            elif key == 'tools':\n",
    "                # 도구 메시지의 내용을 가져옴\n",
    "                for tool_msg in chunk['tools']['messages']:\n",
    "                    print(f\"'tools': '{tool_msg.content}'\")\n",
    "            \n",
    "            # 결과에 청크 추가\n",
    "            results.append(chunk)\n",
    "        return results\n",
    "    except Exception as e:\n",
    "        print(f\"Error processing stream: {e}\")\n",
    "        return results"
   ]
  },
  {
   "cell_type": "markdown",
   "id": "6281af7c",
   "metadata": {
    "vscode": {
     "languageId": "raw"
    }
   },
   "source": [
    "## 6. Notion 페이지 생성 및 업로드 함수\n",
    "\n",
    "### 6.1 Notion 페이지 생성 함수\n",
    "\n",
    "Notion 데이터베이스에 새로운 페이지를 생성하는 함수입니다. 이 함수는 직접적인 API 호출을 사용합니다.\n"
   ]
  },
  {
   "cell_type": "code",
   "execution_count": null,
   "id": "b72106b9",
   "metadata": {},
   "outputs": [],
   "source": [
    "import requests\n",
    "import os\n",
    "\n",
    "def create_notion_page(state: AgentState) -> AgentState:\n",
    "    \"\"\"\n",
    "    Notion 데이터베이스에 새로운 페이지를 생성하는 함수\n",
    "    직접적인 API 호출을 사용하여 제목만 설정된 빈 페이지를 생성합니다\n",
    "    \"\"\"\n",
    "    # 상태에서 필요한 정보 가져오기\n",
    "    database_id = state['database_id']  # Notion 데이터베이스 ID\n",
    "    title = state['title']              # 페이지 제목\n",
    "    \n",
    "    # 환경 변수에서 Notion API 키 가져오기\n",
    "    notion_api_key = os.getenv(\"NOTION_API_KEY\")\n",
    "    \n",
    "    # Notion API 요청 헤더 설정\n",
    "    headers = {\n",
    "        'Authorization': f'Bearer {notion_api_key}',\n",
    "        'Content-Type': 'application/json',\n",
    "        'Notion-Version': '2022-06-28'  # Notion API 버전 지정\n",
    "    }\n",
    "    \n",
    "    # 새 페이지 생성을 위한 데이터 구성\n",
    "    data = {\n",
    "        'parent': {'database_id': database_id},  # 부모 데이터베이스 지정\n",
    "        'properties': {\n",
    "            'Title': {'title': [{'text': {'content': title}}]},  # 페이지 제목만 설정\n",
    "        },\n",
    "    }\n",
    "    \n",
    "    # Notion API에 페이지 생성 요청\n",
    "    response = requests.post(\n",
    "        'https://api.notion.com/v1/pages',\n",
    "        headers=headers,\n",
    "        json=data\n",
    "    )\n",
    "    \n",
    "    # 응답 결과 출력\n",
    "    print(response.json())\n",
    "    \n",
    "    # 생성된 페이지 ID를 상태로 반환\n",
    "    return {'page_id': response.json()['id']}"
   ]
  },
  {
   "cell_type": "markdown",
   "id": "58fb34b6",
   "metadata": {
    "vscode": {
     "languageId": "raw"
    }
   },
   "source": [
    "### 6.2 Notion 콘텐츠 업로드 함수\n",
    "\n",
    "생성된 페이지에 마크다운 형식의 아웃라인을 구조화된 블록으로 추가하는 함수입니다. ReAct 에이전트와 MCP를 사용하여 복잡한 작업을 수행합니다.\n"
   ]
  },
  {
   "cell_type": "code",
   "execution_count": null,
   "id": "3e5b0248",
   "metadata": {},
   "outputs": [],
   "source": [
    "from langchain_core.messages import HumanMessage\n",
    "from langchain_core.prompts import PromptTemplate\n",
    "\n",
    "async def upload_to_notion(state: AgentState) -> AgentState:\n",
    "    \"\"\"\n",
    "    생성된 Notion 페이지에 마크다운 형식의 아웃라인을 구조화된 블록으로 추가하는 함수\n",
    "    ReAct 에이전트와 MCP를 사용하여 복잡한 작업을 수행합니다\n",
    "    \"\"\"\n",
    "    # 상태에서 필요한 정보 가져오기\n",
    "    page_id = state['page_id']  # 이전 단계에서 생성된 페이지 ID\n",
    "    outline = state['outline']  # 생성된 마크다운 아웃라인\n",
    "    \n",
    "    # 에이전트에게 전달할 메시지 프롬프트 템플릿 생성\n",
    "    human_message_prompt = PromptTemplate.from_template(\"\"\"Add block to the page of which id is {page_id}\n",
    "and add the outline as children blocks to the page. \n",
    "Make sure to follow the format of the outline which is in markdown format\n",
    "When you use headings, make sure to follow the format below:\n",
    "{{\n",
    "  //...other keys excluded\n",
    "  \"type\": \"heading_1\", # heading_1, heading_2, heading_3\n",
    "  //...other keys excluded\n",
    "  \"heading_1\": {{\n",
    "    \"rich_text\": [{{\n",
    "      \"type\": \"text\",\n",
    "      \"text\": {{\n",
    "        \"content\": \"Lacinato kale\",\n",
    "        \"link\": null\n",
    "      }}\n",
    "    }}],\n",
    "    \"color\": \"default\",\n",
    "    \"is_toggleable\": false\n",
    "  }}\n",
    "}}\n",
    "\n",
    "The outline is as follows: \n",
    "{outline}\"\"\")\n",
    "    \n",
    "    # 프롬프트 템플릿에 페이지 ID와 아웃라인 내용 삽입\n",
    "    human_message = human_message_prompt.format(page_id=page_id, outline=outline)\n",
    "    \n",
    "    # 에이전트 실행 - 비동기 스트림 모드로 실행\n",
    "    stream_generator = agent.astream({\"messages\": [HumanMessage(human_message)]}, stream_mode=\"updates\")\n",
    "    \n",
    "    # 스트림 처리 함수를 사용하여 실행 과정 추적\n",
    "    all_chunks = await process_stream(stream_generator)\n",
    "\n",
    "    # 최종 결과 출력\n",
    "    if all_chunks:\n",
    "        final_result = all_chunks[-1]\n",
    "        print(\"\\nFinal result:\", final_result)"
   ]
  },
  {
   "cell_type": "markdown",
   "id": "21942b54",
   "metadata": {
    "vscode": {
     "languageId": "raw"
    }
   },
   "source": [
    "## 7. 워크플로우 그래프 구성\n",
    "\n",
    "### 7.1 노드 추가\n",
    "\n",
    "정의한 모든 함수들을 그래프의 노드로 추가합니다. 이는 26번 노트북보다 하나 더 많은 노드를 가집니다.\n"
   ]
  },
  {
   "cell_type": "code",
   "execution_count": null,
   "id": "7704480d",
   "metadata": {},
   "outputs": [
    {
     "data": {
      "text/plain": [
       "<langgraph.graph.state.StateGraph at 0x1041a46e0>"
      ]
     },
     "execution_count": 12,
     "metadata": {},
     "output_type": "execute_result"
    }
   ],
   "source": [
    "# 워크플로우 그래프에 노드 추가\n",
    "graph_builder.add_node(extract_transcript)   # YouTube 트랜스크립트 추출 노드\n",
    "graph_builder.add_node(generate_outline)     # 마크다운 아웃라인 생성 노드\n",
    "graph_builder.add_node(create_notion_page)   # Notion 페이지 생성 노드\n",
    "graph_builder.add_node(upload_to_notion)     # Notion 콘텐츠 업로드 노드"
   ]
  },
  {
   "cell_type": "markdown",
   "id": "c3aecb3d",
   "metadata": {
    "vscode": {
     "languageId": "raw"
    }
   },
   "source": [
    "### 7.2 워크플로우 엣지 연결 및 그래프 컴파일\n",
    "\n",
    "노드들 간의 실행 순서를 정의하고 그래프를 컴파일합니다. 이는 4단계로 구성된 워크플로우입니다.\n"
   ]
  },
  {
   "cell_type": "code",
   "execution_count": null,
   "id": "8a5549ad",
   "metadata": {},
   "outputs": [],
   "source": [
    "from langgraph.graph import START, END\n",
    "\n",
    "# 워크플로우 실행 순서 정의 (엣지 연결) - 4단계 워크플로우\n",
    "graph_builder.add_edge(START, 'extract_transcript')                    # 시작 → YouTube 트랜스크립트 추출\n",
    "graph_builder.add_edge('extract_transcript', 'generate_outline')       # 트랜스크립트 추출 → 마크다운 아웃라인 생성\n",
    "graph_builder.add_edge('generate_outline', 'create_notion_page')       # 아웃라인 생성 → Notion 페이지 생성\n",
    "graph_builder.add_edge('create_notion_page', 'upload_to_notion')       # 페이지 생성 → 콘텐츠 업로드\n",
    "graph_builder.add_edge('upload_to_notion', END)                        # 콘텐츠 업로드 → 종료\n",
    "\n",
    "# 그래프 컴파일 (실행 가능한 상태로 변환)\n",
    "graph = graph_builder.compile()"
   ]
  },
  {
   "cell_type": "markdown",
   "id": "859a2dc8",
   "metadata": {
    "vscode": {
     "languageId": "raw"
    }
   },
   "source": [
    "## 8. 워크플로우 시각화\n",
    "\n",
    "구성된 고급 워크플로우를 시각적으로 확인할 수 있습니다. 이는 4단계로 구성된 워크플로우입니다.\n"
   ]
  },
  {
   "cell_type": "code",
   "execution_count": null,
   "id": "e932962e",
   "metadata": {},
   "outputs": [
    {
     "data": {
      "image/png": "[encoded data removed]",
      "text/plain": [
       "<langgraph.graph.state.CompiledStateGraph object at 0x10ec4e7b0>"
      ]
     },
     "execution_count": 14,
     "metadata": {},
     "output_type": "execute_result"
    }
   ],
   "source": [
    "# 워크플로우 그래프 시각화 - 4단계 워크플로우 구조 확인\n",
    "graph"
   ]
  },
  {
   "cell_type": "markdown",
   "id": "f4975f0f",
   "metadata": {
    "vscode": {
     "languageId": "raw"
    }
   },
   "source": [
    "## 9. 워크플로우 실행\n",
    "\n",
    "실제 YouTube 영상을 처리하여 전체 워크플로우를 실행합니다.\n",
    "\n",
    "### 실행 파라미터\n",
    "- `url`: YouTube 영상 URL\n",
    "- `database_id`: Notion 데이터베이스 ID\n",
    "- `title`: 생성될 페이지 제목\n",
    "- `save_dir`: 다운로드한 영상 파일 저장 경로\n",
    "\n",
    "### 실행 순서\n",
    "1. YouTube 영상 다운로드 및 음성 추출\n",
    "2. OpenAI Whisper를 사용한 텍스트 변환\n",
    "3. 추출된 텍스트를 바탕으로 마크다운 아웃라인 생성\n",
    "4. Notion 데이터베이스에 새 페이지 생성\n",
    "5. ReAct 에이전트와 MCP를 사용하여 구조화된 콘텐츠 업로드\n"
   ]
  },
  {
   "cell_type": "code",
   "execution_count": null,
   "id": "8e47be84",
   "metadata": {},
   "outputs": [
    {
     "name": "stdout",
     "output_type": "stream",
     "text": [
      "[youtube] Extracting URL: https://youtu.be/JYZuZRADCBc?si=oH9UGl-_eLLrzecZ\n",
      "[youtube] JYZuZRADCBc: Downloading webpage\n",
      "[youtube] JYZuZRADCBc: Downloading tv client config\n",
      "[youtube] JYZuZRADCBc: Downloading tv player API JSON\n",
      "[youtube] JYZuZRADCBc: Downloading ios player API JSON\n",
      "[youtube] JYZuZRADCBc: Downloading m3u8 information\n",
      "[info] JYZuZRADCBc: Downloading 1 format(s): 140\n",
      "[download] Destination: ./videos/RAG(Retrieval Augmented Generation)란？│인프런.m4a\n",
      "[download] 100% of    6.34MiB in 00:00:03 at 1.71MiB/s   \n",
      "[FixupM4a] Correcting container of \"./videos/RAG(Retrieval Augmented Generation)란？│인프런.m4a\"\n",
      "[ExtractAudio] Not converting audio ./videos/RAG(Retrieval Augmented Generation)란？│인프런.m4a; file is already in target format m4a\n",
      "Transcribing part 1!\n",
      "{'object': 'page', 'id': '22fe40c4-77c5-8186-8e2c-ce6cf3c24328', 'created_time': '2025-07-13T09:41:00.000Z', 'last_edited_time': '2025-07-13T09:41:00.000Z', 'created_by': {'object': 'user', 'id': 'afb99aa5-48e7-4e20-b8ea-e9c736064885'}, 'last_edited_by': {'object': 'user', 'id': 'afb99aa5-48e7-4e20-b8ea-e9c736064885'}, 'cover': None, 'icon': None, 'parent': {'type': 'database_id', 'database_id': '22fe40c4-77c5-8067-98a7-f51edc0ab976'}, 'archived': False, 'in_trash': False, 'properties': {'Title': {'id': 'title', 'type': 'title', 'title': [{'type': 'text', 'text': {'content': 'RAG란 무엇인가?', 'link': None}, 'annotations': {'bold': False, 'italic': False, 'strikethrough': False, 'underline': False, 'code': False, 'color': 'default'}, 'plain_text': 'RAG란 무엇인가?', 'href': None}]}}, 'url': 'https://www.notion.so/RAG-22fe40c477c581868e2cce6cf3c24328', 'public_url': None, 'request_id': '8835f402-34fa-44c0-9a22-7d129666328c'}\n",
      "'agent': '{'tool_calls': [{'id': 'call_2qPX4d4Wo6YtaR3U1QNb8En9', 'function': {'arguments': '{\"block_id\":\"22fe40c4-77c5-8186-8e2c-ce6cf3c24328\",\"children\":[{\"type\":\"heading_1\",\"heading_1\":{\"rich_text\":[{\"type\":\"text\",\"text\":{\"content\":\"강의 개요\",\"link\":null}}],\"color\":\"default\",\"is_toggleable\":false}},{\"type\":\"heading_2\",\"heading_2\":{\"rich_text\":[{\"type\":\"text\",\"text\":{\"content\":\"RAZ (Retrieval Augmented Generation) 소개\",\"link\":null}}],\"color\":\"default\",\"is_toggleable\":false}},{\"bulleted_list_item\":{\"rich_text\":[{\"type\":\"text\",\"text\":{\"content\":\"RAZ의 중요성\",\"link\":null}}]}},{\"bulleted_list_item\":{\"rich_text\":[{\"type\":\"text\",\"text\":{\"content\":\"자연어처리에서 출발한 개념\",\"link\":null}}]}},{\"bulleted_list_item\":{\"rich_text\":[{\"type\":\"text\",\"text\":{\"content\":\"한국어로 \\\\\"검색 증강 생성\\\\\"\",\"link\":null}}]}},{\"type\":\"heading_2\",\"heading_2\":{\"rich_text\":[{\"type\":\"text\",\"text\":{\"content\":\"RAZ의 구성 요소\",\"link\":null}}],\"color\":\"default\",\"is_toggleable\":false}},{\"type\":\"heading_3\",\"heading_3\":{\"rich_text\":[{\"type\":\"text\",\"text\":{\"content\":\"Retrieval (검색)\",\"link\":null}}],\"color\":\"default\",\"is_toggleable\":false}},{\"bulleted_list_item\":{\"rich_text\":[{\"type\":\"text\",\"text\":{\"content\":\"데이터 취득의 의미\",\"link\":null}}]}},{\"bulleted_list_item\":{\"rich_text\":[{\"type\":\"text\",\"text\":{\"content\":\"벡터 스토어 활용\",\"link\":null}}]}},{\"bulleted_list_item\":{\"rich_text\":[{\"type\":\"text\",\"text\":{\"content\":\"언어모델이 가지지 않은 정보 취득의 필요성\",\"link\":null}}]}},{\"bulleted_list_item\":{\"rich_text\":[{\"type\":\"text\",\"text\":{\"content\":\"사내 자료와 보안 문제\",\"link\":null}}]}},{\"bulleted_list_item\":{\"rich_text\":[{\"type\":\"text\",\"text\":{\"content\":\"최신 정보의 부족 문제\",\"link\":null}}]}},{\"type\":\"heading_3\",\"heading_3\":{\"rich_text\":[{\"type\":\"text\",\"text\":{\"content\":\"Augmented (증강)\",\"link\":null}}],\"color\":\"default\",\"is_toggleable\":false}},{\"bulleted_list_item\":{\"rich_text\":[{\"type\":\"text\",\"text\":{\"content\":\"AR, VR과의 유사성\",\"link\":null}}]}},{\"bulleted_list_item\":{\"rich_text\":[{\"type\":\"text\",\"text\":{\"content\":\"리트리벌된 데이터를 언어모델에 제공\",\"link\":null}}]}},{\"bulleted_list_item\":{\"rich_text\":[{\"type\":\"text\",\"text\":{\"content\":\"정보 제공의 중요성\",\"link\":null}}]}},{\"type\":\"heading_3\",\"heading_3\":{\"rich_text\":[{\"type\":\"text\",\"text\":{\"content\":\"Generation (생성)\",\"link\":null}}],\"color\":\"default\",\"is_toggleable\":false}},{\"bulleted_list_item\":{\"rich_text\":[{\"type\":\"text\",\"text\":{\"content\":\"LLM의 역할\",\"link\":null}}]}},{\"bulleted_list_item\":{\"rich_text\":[{\"type\":\"text\",\"text\":{\"content\":\"개발자의 역할: 데이터 취득 및 전달\",\"link\":null}}]}},{\"type\":\"heading_1\",\"heading_1\":{\"rich_text\":[{\"type\":\"text\",\"text\":{\"content\":\"개발자의 역할\",\"link\":null}}],\"color\":\"default\",\"is_toggleable\":false}},{\"type\":\"heading_2\",\"heading_2\":{\"rich_text\":[{\"type\":\"text\",\"text\":{\"content\":\"데이터 저장 및 취득\",\"link\":null}}],\"color\":\"default\",\"is_toggleable\":false}},{\"bulleted_list_item\":{\"rich_text\":[{\"type\":\"text\",\"text\":{\"content\":\"데이터 저장의 어려움\",\"link\":null}}]}},{\"bulleted_list_item\":{\"rich_text\":[{\"type\":\"text\",\"text\":{\"content\":\"공식 문서의 한계\",\"link\":null}}]}},{\"bulleted_list_item\":{\"rich_text\":[{\"type\":\"text\",\"text\":{\"content\":\"현업에서의 기술 및 노하우\",\"link\":null}}]}},{\"type\":\"heading_2\",\"heading_2\":{\"rich_text\":[{\"type\":\"text\",\"text\":{\"content\":\"데이터 전달\",\"link\":null}}],\"color\":\"default\",\"is_toggleable\":false}},{\"bulleted_list_item\":{\"rich_text\":[{\"type\":\"text\",\"text\":{\"content\":\"프롬프트의 중요성\",\"link\":null}}]}},{\"bulleted_list_item\":{\"rich_text\":[{\"type\":\"text\",\"text\":{\"content\":\"문맥 제공의 중요성\",\"link\":null}}]}},{\"bulleted_list_item\":{\"rich_text\":[{\"type\":\"text\",\"text\":{\"content\":\"랭체인의 이점\",\"link\":null}}]}},{\"bulleted_list_item\":{\"rich_text\":[{\"type\":\"text\",\"text\":{\"content\":\"프롬프트 테스트 및 제공\",\"link\":null}}]}},{\"bulleted_list_item\":{\"rich_text\":[{\"type\":\"text\",\"text\":{\"content\":\"다양한 기능에 적합한 프롬프트 제공\",\"link\":null}}]}},{\"type\":\"heading_1\",\"heading_1\":{\"rich_text\":[{\"type\":\"text\",\"text\":{\"content\":\"벡터 스토어 설명\",\"link\":null}}],\"color\":\"default\",\"is_toggleable\":false}},{\"bulleted_list_item\":{\"rich_text\":[{\"type\":\"text\",\"text\":{\"content\":\"데이터 저장의 중요성\",\"link\":null}}]}},{\"bulleted_list_item\":{\"rich_text\":[{\"type\":\"text\",\"text\":{\"content\":\"벡터 스토어의 역할\",\"link\":null}}]}},{\"type\":\"heading_1\",\"heading_1\":{\"rich_text\":[{\"type\":\"text\",\"text\":{\"content\":\"결론\",\"link\":null}}],\"color\":\"default\",\"is_toggleable\":false}},{\"bulleted_list_item\":{\"rich_text\":[{\"type\":\"text\",\"text\":{\"content\":\"RAZ의 이해와 활용\",\"link\":null}}]}},{\"bulleted_list_item\":{\"rich_text\":[{\"type\":\"text\",\"text\":{\"content\":\"데이터 저장 및 전달의 중요성\",\"link\":null}}]}},{\"bulleted_list_item\":{\"rich_text\":[{\"type\":\"text\",\"text\":{\"content\":\"랭체인의 활용 방법\",\"link\":null}}]}},{\"paragraph\":{\"rich_text\":[{\"type\":\"text\",\"text\":{\"content\":\"이 강의는 RAZ의 개념과 개발자가 해야 할 역할, 그리고 벡터 스토어의 중요성에 대해 설명합니다. RAZ를 효과적으로 활용하기 위해서는 데이터의 저장과 전달이 중요하며, 이를 위해 랭체인의 프롬프트 기능을 활용할 수 있습니다.\",\"link\":null}}]}}]}', 'name': 'API-patch-block-children'}, 'type': 'function'}], 'refusal': None}'\n",
      "'tools': '{\"object\":\"list\",\"results\":[{\"object\":\"block\",\"id\":\"22fe40c4-77c5-815b-bc26-cbd680bca794\",\"parent\":{\"type\":\"page_id\",\"page_id\":\"22fe40c4-77c5-8186-8e2c-ce6cf3c24328\"},\"created_time\":\"2025-07-13T09:42:00.000Z\",\"last_edited_time\":\"2025-07-13T09:42:00.000Z\",\"created_by\":{\"object\":\"user\",\"id\":\"afb99aa5-48e7-4e20-b8ea-e9c736064885\"},\"last_edited_by\":{\"object\":\"user\",\"id\":\"afb99aa5-48e7-4e20-b8ea-e9c736064885\"},\"has_children\":false,\"archived\":false,\"in_trash\":false,\"type\":\"heading_1\",\"heading_1\":{\"rich_text\":[{\"type\":\"text\",\"text\":{\"content\":\"강의 개요\",\"link\":null},\"annotations\":{\"bold\":false,\"italic\":false,\"strikethrough\":false,\"underline\":false,\"code\":false,\"color\":\"default\"},\"plain_text\":\"강의 개요\",\"href\":null}],\"is_toggleable\":false,\"color\":\"default\"}},{\"object\":\"block\",\"id\":\"22fe40c4-77c5-8161-b688-d7135fea0135\",\"parent\":{\"type\":\"page_id\",\"page_id\":\"22fe40c4-77c5-8186-8e2c-ce6cf3c24328\"},\"created_time\":\"2025-07-13T09:42:00.000Z\",\"last_edited_time\":\"2025-07-13T09:42:00.000Z\",\"created_by\":{\"object\":\"user\",\"id\":\"afb99aa5-48e7-4e20-b8ea-e9c736064885\"},\"last_edited_by\":{\"object\":\"user\",\"id\":\"afb99aa5-48e7-4e20-b8ea-e9c736064885\"},\"has_children\":false,\"archived\":false,\"in_trash\":false,\"type\":\"heading_2\",\"heading_2\":{\"rich_text\":[{\"type\":\"text\",\"text\":{\"content\":\"RAZ (Retrieval Augmented Generation) 소개\",\"link\":null},\"annotations\":{\"bold\":false,\"italic\":false,\"strikethrough\":false,\"underline\":false,\"code\":false,\"color\":\"default\"},\"plain_text\":\"RAZ (Retrieval Augmented Generation) 소개\",\"href\":null}],\"is_toggleable\":false,\"color\":\"default\"}},{\"object\":\"block\",\"id\":\"22fe40c4-77c5-8183-b215-f7cdce6b86fb\",\"parent\":{\"type\":\"page_id\",\"page_id\":\"22fe40c4-77c5-8186-8e2c-ce6cf3c24328\"},\"created_time\":\"2025-07-13T09:42:00.000Z\",\"last_edited_time\":\"2025-07-13T09:42:00.000Z\",\"created_by\":{\"object\":\"user\",\"id\":\"afb99aa5-48e7-4e20-b8ea-e9c736064885\"},\"last_edited_by\":{\"object\":\"user\",\"id\":\"afb99aa5-48e7-4e20-b8ea-e9c736064885\"},\"has_children\":false,\"archived\":false,\"in_trash\":false,\"type\":\"bulleted_list_item\",\"bulleted_list_item\":{\"rich_text\":[{\"type\":\"text\",\"text\":{\"content\":\"RAZ의 중요성\",\"link\":null},\"annotations\":{\"bold\":false,\"italic\":false,\"strikethrough\":false,\"underline\":false,\"code\":false,\"color\":\"default\"},\"plain_text\":\"RAZ의 중요성\",\"href\":null}],\"color\":\"default\"}},{\"object\":\"block\",\"id\":\"22fe40c4-77c5-815a-966b-c779f49cc4a8\",\"parent\":{\"type\":\"page_id\",\"page_id\":\"22fe40c4-77c5-8186-8e2c-ce6cf3c24328\"},\"created_time\":\"2025-07-13T09:42:00.000Z\",\"last_edited_time\":\"2025-07-13T09:42:00.000Z\",\"created_by\":{\"object\":\"user\",\"id\":\"afb99aa5-48e7-4e20-b8ea-e9c736064885\"},\"last_edited_by\":{\"object\":\"user\",\"id\":\"afb99aa5-48e7-4e20-b8ea-e9c736064885\"},\"has_children\":false,\"archived\":false,\"in_trash\":false,\"type\":\"bulleted_list_item\",\"bulleted_list_item\":{\"rich_text\":[{\"type\":\"text\",\"text\":{\"content\":\"자연어처리에서 출발한 개념\",\"link\":null},\"annotations\":{\"bold\":false,\"italic\":false,\"strikethrough\":false,\"underline\":false,\"code\":false,\"color\":\"default\"},\"plain_text\":\"자연어처리에서 출발한 개념\",\"href\":null}],\"color\":\"default\"}},{\"object\":\"block\",\"id\":\"22fe40c4-77c5-8146-86c5-c479c008638b\",\"parent\":{\"type\":\"page_id\",\"page_id\":\"22fe40c4-77c5-8186-8e2c-ce6cf3c24328\"},\"created_time\":\"2025-07-13T09:42:00.000Z\",\"last_edited_time\":\"2025-07-13T09:42:00.000Z\",\"created_by\":{\"object\":\"user\",\"id\":\"afb99aa5-48e7-4e20-b8ea-e9c736064885\"},\"last_edited_by\":{\"object\":\"user\",\"id\":\"afb99aa5-48e7-4e20-b8ea-e9c736064885\"},\"has_children\":false,\"archived\":false,\"in_trash\":false,\"type\":\"bulleted_list_item\",\"bulleted_list_item\":{\"rich_text\":[{\"type\":\"text\",\"text\":{\"content\":\"한국어로 \\\"검색 증강 생성\\\"\",\"link\":null},\"annotations\":{\"bold\":false,\"italic\":false,\"strikethrough\":false,\"underline\":false,\"code\":false,\"color\":\"default\"},\"plain_text\":\"한국어로 \\\"검색 증강 생성\\\"\",\"href\":null}],\"color\":\"default\"}},{\"object\":\"block\",\"id\":\"22fe40c4-77c5-8116-87ea-f9f38d15b26e\",\"parent\":{\"type\":\"page_id\",\"page_id\":\"22fe40c4-77c5-8186-8e2c-ce6cf3c24328\"},\"created_time\":\"2025-07-13T09:42:00.000Z\",\"last_edited_time\":\"2025-07-13T09:42:00.000Z\",\"created_by\":{\"object\":\"user\",\"id\":\"afb99aa5-48e7-4e20-b8ea-e9c736064885\"},\"last_edited_by\":{\"object\":\"user\",\"id\":\"afb99aa5-48e7-4e20-b8ea-e9c736064885\"},\"has_children\":false,\"archived\":false,\"in_trash\":false,\"type\":\"heading_2\",\"heading_2\":{\"rich_text\":[{\"type\":\"text\",\"text\":{\"content\":\"RAZ의 구성 요소\",\"link\":null},\"annotations\":{\"bold\":false,\"italic\":false,\"strikethrough\":false,\"underline\":false,\"code\":false,\"color\":\"default\"},\"plain_text\":\"RAZ의 구성 요소\",\"href\":null}],\"is_toggleable\":false,\"color\":\"default\"}},{\"object\":\"block\",\"id\":\"22fe40c4-77c5-81e6-8998-c9c6e631f321\",\"parent\":{\"type\":\"page_id\",\"page_id\":\"22fe40c4-77c5-8186-8e2c-ce6cf3c24328\"},\"created_time\":\"2025-07-13T09:42:00.000Z\",\"last_edited_time\":\"2025-07-13T09:42:00.000Z\",\"created_by\":{\"object\":\"user\",\"id\":\"afb99aa5-48e7-4e20-b8ea-e9c736064885\"},\"last_edited_by\":{\"object\":\"user\",\"id\":\"afb99aa5-48e7-4e20-b8ea-e9c736064885\"},\"has_children\":false,\"archived\":false,\"in_trash\":false,\"type\":\"heading_3\",\"heading_3\":{\"rich_text\":[{\"type\":\"text\",\"text\":{\"content\":\"Retrieval (검색)\",\"link\":null},\"annotations\":{\"bold\":false,\"italic\":false,\"strikethrough\":false,\"underline\":false,\"code\":false,\"color\":\"default\"},\"plain_text\":\"Retrieval (검색)\",\"href\":null}],\"is_toggleable\":false,\"color\":\"default\"}},{\"object\":\"block\",\"id\":\"22fe40c4-77c5-81fd-a3f6-f30f7aa23526\",\"parent\":{\"type\":\"page_id\",\"page_id\":\"22fe40c4-77c5-8186-8e2c-ce6cf3c24328\"},\"created_time\":\"2025-07-13T09:42:00.000Z\",\"last_edited_time\":\"2025-07-13T09:42:00.000Z\",\"created_by\":{\"object\":\"user\",\"id\":\"afb99aa5-48e7-4e20-b8ea-e9c736064885\"},\"last_edited_by\":{\"object\":\"user\",\"id\":\"afb99aa5-48e7-4e20-b8ea-e9c736064885\"},\"has_children\":false,\"archived\":false,\"in_trash\":false,\"type\":\"bulleted_list_item\",\"bulleted_list_item\":{\"rich_text\":[{\"type\":\"text\",\"text\":{\"content\":\"데이터 취득의 의미\",\"link\":null},\"annotations\":{\"bold\":false,\"italic\":false,\"strikethrough\":false,\"underline\":false,\"code\":false,\"color\":\"default\"},\"plain_text\":\"데이터 취득의 의미\",\"href\":null}],\"color\":\"default\"}},{\"object\":\"block\",\"id\":\"22fe40c4-77c5-81dd-af03-de0e330cc724\",\"parent\":{\"type\":\"page_id\",\"page_id\":\"22fe40c4-77c5-8186-8e2c-ce6cf3c24328\"},\"created_time\":\"2025-07-13T09:42:00.000Z\",\"last_edited_time\":\"2025-07-13T09:42:00.000Z\",\"created_by\":{\"object\":\"user\",\"id\":\"afb99aa5-48e7-4e20-b8ea-e9c736064885\"},\"last_edited_by\":{\"object\":\"user\",\"id\":\"afb99aa5-48e7-4e20-b8ea-e9c736064885\"},\"has_children\":false,\"archived\":false,\"in_trash\":false,\"type\":\"bulleted_list_item\",\"bulleted_list_item\":{\"rich_text\":[{\"type\":\"text\",\"text\":{\"content\":\"벡터 스토어 활용\",\"link\":null},\"annotations\":{\"bold\":false,\"italic\":false,\"strikethrough\":false,\"underline\":false,\"code\":false,\"color\":\"default\"},\"plain_text\":\"벡터 스토어 활용\",\"href\":null}],\"color\":\"default\"}},{\"object\":\"block\",\"id\":\"22fe40c4-77c5-818d-b35e-cccee231673c\",\"parent\":{\"type\":\"page_id\",\"page_id\":\"22fe40c4-77c5-8186-8e2c-ce6cf3c24328\"},\"created_time\":\"2025-07-13T09:42:00.000Z\",\"last_edited_time\":\"2025-07-13T09:42:00.000Z\",\"created_by\":{\"object\":\"user\",\"id\":\"afb99aa5-48e7-4e20-b8ea-e9c736064885\"},\"last_edited_by\":{\"object\":\"user\",\"id\":\"afb99aa5-48e7-4e20-b8ea-e9c736064885\"},\"has_children\":false,\"archived\":false,\"in_trash\":false,\"type\":\"bulleted_list_item\",\"bulleted_list_item\":{\"rich_text\":[{\"type\":\"text\",\"text\":{\"content\":\"언어모델이 가지지 않은 정보 취득의 필요성\",\"link\":null},\"annotations\":{\"bold\":false,\"italic\":false,\"strikethrough\":false,\"underline\":false,\"code\":false,\"color\":\"default\"},\"plain_text\":\"언어모델이 가지지 않은 정보 취득의 필요성\",\"href\":null}],\"color\":\"default\"}},{\"object\":\"block\",\"id\":\"22fe40c4-77c5-8137-9487-d316a9a5f162\",\"parent\":{\"type\":\"page_id\",\"page_id\":\"22fe40c4-77c5-8186-8e2c-ce6cf3c24328\"},\"created_time\":\"2025-07-13T09:42:00.000Z\",\"last_edited_time\":\"2025-07-13T09:42:00.000Z\",\"created_by\":{\"object\":\"user\",\"id\":\"afb99aa5-48e7-4e20-b8ea-e9c736064885\"},\"last_edited_by\":{\"object\":\"user\",\"id\":\"afb99aa5-48e7-4e20-b8ea-e9c736064885\"},\"has_children\":false,\"archived\":false,\"in_trash\":false,\"type\":\"bulleted_list_item\",\"bulleted_list_item\":{\"rich_text\":[{\"type\":\"text\",\"text\":{\"content\":\"사내 자료와 보안 문제\",\"link\":null},\"annotations\":{\"bold\":false,\"italic\":false,\"strikethrough\":false,\"underline\":false,\"code\":false,\"color\":\"default\"},\"plain_text\":\"사내 자료와 보안 문제\",\"href\":null}],\"color\":\"default\"}},{\"object\":\"block\",\"id\":\"22fe40c4-77c5-819b-958f-f2af7d155522\",\"parent\":{\"type\":\"page_id\",\"page_id\":\"22fe40c4-77c5-8186-8e2c-ce6cf3c24328\"},\"created_time\":\"2025-07-13T09:42:00.000Z\",\"last_edited_time\":\"2025-07-13T09:42:00.000Z\",\"created_by\":{\"object\":\"user\",\"id\":\"afb99aa5-48e7-4e20-b8ea-e9c736064885\"},\"last_edited_by\":{\"object\":\"user\",\"id\":\"afb99aa5-48e7-4e20-b8ea-e9c736064885\"},\"has_children\":false,\"archived\":false,\"in_trash\":false,\"type\":\"bulleted_list_item\",\"bulleted_list_item\":{\"rich_text\":[{\"type\":\"text\",\"text\":{\"content\":\"최신 정보의 부족 문제\",\"link\":null},\"annotations\":{\"bold\":false,\"italic\":false,\"strikethrough\":false,\"underline\":false,\"code\":false,\"color\":\"default\"},\"plain_text\":\"최신 정보의 부족 문제\",\"href\":null}],\"color\":\"default\"}},{\"object\":\"block\",\"id\":\"22fe40c4-77c5-8147-a5fe-fb7bdd7ea156\",\"parent\":{\"type\":\"page_id\",\"page_id\":\"22fe40c4-77c5-8186-8e2c-ce6cf3c24328\"},\"created_time\":\"2025-07-13T09:42:00.000Z\",\"last_edited_time\":\"2025-07-13T09:42:00.000Z\",\"created_by\":{\"object\":\"user\",\"id\":\"afb99aa5-48e7-4e20-b8ea-e9c736064885\"},\"last_edited_by\":{\"object\":\"user\",\"id\":\"afb99aa5-48e7-4e20-b8ea-e9c736064885\"},\"has_children\":false,\"archived\":false,\"in_trash\":false,\"type\":\"heading_3\",\"heading_3\":{\"rich_text\":[{\"type\":\"text\",\"text\":{\"content\":\"Augmented (증강)\",\"link\":null},\"annotations\":{\"bold\":false,\"italic\":false,\"strikethrough\":false,\"underline\":false,\"code\":false,\"color\":\"default\"},\"plain_text\":\"Augmented (증강)\",\"href\":null}],\"is_toggleable\":false,\"color\":\"default\"}},{\"object\":\"block\",\"id\":\"22fe40c4-77c5-810a-97e0-eb1036ddb560\",\"parent\":{\"type\":\"page_id\",\"page_id\":\"22fe40c4-77c5-8186-8e2c-ce6cf3c24328\"},\"created_time\":\"2025-07-13T09:42:00.000Z\",\"last_edited_time\":\"2025-07-13T09:42:00.000Z\",\"created_by\":{\"object\":\"user\",\"id\":\"afb99aa5-48e7-4e20-b8ea-e9c736064885\"},\"last_edited_by\":{\"object\":\"user\",\"id\":\"afb99aa5-48e7-4e20-b8ea-e9c736064885\"},\"has_children\":false,\"archived\":false,\"in_trash\":false,\"type\":\"bulleted_list_item\",\"bulleted_list_item\":{\"rich_text\":[{\"type\":\"text\",\"text\":{\"content\":\"AR, VR과의 유사성\",\"link\":null},\"annotations\":{\"bold\":false,\"italic\":false,\"strikethrough\":false,\"underline\":false,\"code\":false,\"color\":\"default\"},\"plain_text\":\"AR, VR과의 유사성\",\"href\":null}],\"color\":\"default\"}},{\"object\":\"block\",\"id\":\"22fe40c4-77c5-81d7-a34d-df4ee7ae49fb\",\"parent\":{\"type\":\"page_id\",\"page_id\":\"22fe40c4-77c5-8186-8e2c-ce6cf3c24328\"},\"created_time\":\"2025-07-13T09:42:00.000Z\",\"last_edited_time\":\"2025-07-13T09:42:00.000Z\",\"created_by\":{\"object\":\"user\",\"id\":\"afb99aa5-48e7-4e20-b8ea-e9c736064885\"},\"last_edited_by\":{\"object\":\"user\",\"id\":\"afb99aa5-48e7-4e20-b8ea-e9c736064885\"},\"has_children\":false,\"archived\":false,\"in_trash\":false,\"type\":\"bulleted_list_item\",\"bulleted_list_item\":{\"rich_text\":[{\"type\":\"text\",\"text\":{\"content\":\"리트리벌된 데이터를 언어모델에 제공\",\"link\":null},\"annotations\":{\"bold\":false,\"italic\":false,\"strikethrough\":false,\"underline\":false,\"code\":false,\"color\":\"default\"},\"plain_text\":\"리트리벌된 데이터를 언어모델에 제공\",\"href\":null}],\"color\":\"default\"}},{\"object\":\"block\",\"id\":\"22fe40c4-77c5-8165-8bb5-fe40d3927bd7\",\"parent\":{\"type\":\"page_id\",\"page_id\":\"22fe40c4-77c5-8186-8e2c-ce6cf3c24328\"},\"created_time\":\"2025-07-13T09:42:00.000Z\",\"last_edited_time\":\"2025-07-13T09:42:00.000Z\",\"created_by\":{\"object\":\"user\",\"id\":\"afb99aa5-48e7-4e20-b8ea-e9c736064885\"},\"last_edited_by\":{\"object\":\"user\",\"id\":\"afb99aa5-48e7-4e20-b8ea-e9c736064885\"},\"has_children\":false,\"archived\":false,\"in_trash\":false,\"type\":\"bulleted_list_item\",\"bulleted_list_item\":{\"rich_text\":[{\"type\":\"text\",\"text\":{\"content\":\"정보 제공의 중요성\",\"link\":null},\"annotations\":{\"bold\":false,\"italic\":false,\"strikethrough\":false,\"underline\":false,\"code\":false,\"color\":\"default\"},\"plain_text\":\"정보 제공의 중요성\",\"href\":null}],\"color\":\"default\"}},{\"object\":\"block\",\"id\":\"22fe40c4-77c5-8112-8657-f2b758ced0db\",\"parent\":{\"type\":\"page_id\",\"page_id\":\"22fe40c4-77c5-8186-8e2c-ce6cf3c24328\"},\"created_time\":\"2025-07-13T09:42:00.000Z\",\"last_edited_time\":\"2025-07-13T09:42:00.000Z\",\"created_by\":{\"object\":\"user\",\"id\":\"afb99aa5-48e7-4e20-b8ea-e9c736064885\"},\"last_edited_by\":{\"object\":\"user\",\"id\":\"afb99aa5-48e7-4e20-b8ea-e9c736064885\"},\"has_children\":false,\"archived\":false,\"in_trash\":false,\"type\":\"heading_3\",\"heading_3\":{\"rich_text\":[{\"type\":\"text\",\"text\":{\"content\":\"Generation (생성)\",\"link\":null},\"annotations\":{\"bold\":false,\"italic\":false,\"strikethrough\":false,\"underline\":false,\"code\":false,\"color\":\"default\"},\"plain_text\":\"Generation (생성)\",\"href\":null}],\"is_toggleable\":false,\"color\":\"default\"}},{\"object\":\"block\",\"id\":\"22fe40c4-77c5-81b4-a7ca-d2d279906dc2\",\"parent\":{\"type\":\"page_id\",\"page_id\":\"22fe40c4-77c5-8186-8e2c-ce6cf3c24328\"},\"created_time\":\"2025-07-13T09:42:00.000Z\",\"last_edited_time\":\"2025-07-13T09:42:00.000Z\",\"created_by\":{\"object\":\"user\",\"id\":\"afb99aa5-48e7-4e20-b8ea-e9c736064885\"},\"last_edited_by\":{\"object\":\"user\",\"id\":\"afb99aa5-48e7-4e20-b8ea-e9c736064885\"},\"has_children\":false,\"archived\":false,\"in_trash\":false,\"type\":\"bulleted_list_item\",\"bulleted_list_item\":{\"rich_text\":[{\"type\":\"text\",\"text\":{\"content\":\"LLM의 역할\",\"link\":null},\"annotations\":{\"bold\":false,\"italic\":false,\"strikethrough\":false,\"underline\":false,\"code\":false,\"color\":\"default\"},\"plain_text\":\"LLM의 역할\",\"href\":null}],\"color\":\"default\"}},{\"object\":\"block\",\"id\":\"22fe40c4-77c5-813e-ac81-dc8a59e3375e\",\"parent\":{\"type\":\"page_id\",\"page_id\":\"22fe40c4-77c5-8186-8e2c-ce6cf3c24328\"},\"created_time\":\"2025-07-13T09:42:00.000Z\",\"last_edited_time\":\"2025-07-13T09:42:00.000Z\",\"created_by\":{\"object\":\"user\",\"id\":\"afb99aa5-48e7-4e20-b8ea-e9c736064885\"},\"last_edited_by\":{\"object\":\"user\",\"id\":\"afb99aa5-48e7-4e20-b8ea-e9c736064885\"},\"has_children\":false,\"archived\":false,\"in_trash\":false,\"type\":\"bulleted_list_item\",\"bulleted_list_item\":{\"rich_text\":[{\"type\":\"text\",\"text\":{\"content\":\"개발자의 역할: 데이터 취득 및 전달\",\"link\":null},\"annotations\":{\"bold\":false,\"italic\":false,\"strikethrough\":false,\"underline\":false,\"code\":false,\"color\":\"default\"},\"plain_text\":\"개발자의 역할: 데이터 취득 및 전달\",\"href\":null}],\"color\":\"default\"}},{\"object\":\"block\",\"id\":\"22fe40c4-77c5-81cf-a3fa-f8abecfc3ff5\",\"parent\":{\"type\":\"page_id\",\"page_id\":\"22fe40c4-77c5-8186-8e2c-ce6cf3c24328\"},\"created_time\":\"2025-07-13T09:42:00.000Z\",\"last_edited_time\":\"2025-07-13T09:42:00.000Z\",\"created_by\":{\"object\":\"user\",\"id\":\"afb99aa5-48e7-4e20-b8ea-e9c736064885\"},\"last_edited_by\":{\"object\":\"user\",\"id\":\"afb99aa5-48e7-4e20-b8ea-e9c736064885\"},\"has_children\":false,\"archived\":false,\"in_trash\":false,\"type\":\"heading_1\",\"heading_1\":{\"rich_text\":[{\"type\":\"text\",\"text\":{\"content\":\"개발자의 역할\",\"link\":null},\"annotations\":{\"bold\":false,\"italic\":false,\"strikethrough\":false,\"underline\":false,\"code\":false,\"color\":\"default\"},\"plain_text\":\"개발자의 역할\",\"href\":null}],\"is_toggleable\":false,\"color\":\"default\"}},{\"object\":\"block\",\"id\":\"22fe40c4-77c5-8137-865a-ce8a5346b791\",\"parent\":{\"type\":\"page_id\",\"page_id\":\"22fe40c4-77c5-8186-8e2c-ce6cf3c24328\"},\"created_time\":\"2025-07-13T09:42:00.000Z\",\"last_edited_time\":\"2025-07-13T09:42:00.000Z\",\"created_by\":{\"object\":\"user\",\"id\":\"afb99aa5-48e7-4e20-b8ea-e9c736064885\"},\"last_edited_by\":{\"object\":\"user\",\"id\":\"afb99aa5-48e7-4e20-b8ea-e9c736064885\"},\"has_children\":false,\"archived\":false,\"in_trash\":false,\"type\":\"heading_2\",\"heading_2\":{\"rich_text\":[{\"type\":\"text\",\"text\":{\"content\":\"데이터 저장 및 취득\",\"link\":null},\"annotations\":{\"bold\":false,\"italic\":false,\"strikethrough\":false,\"underline\":false,\"code\":false,\"color\":\"default\"},\"plain_text\":\"데이터 저장 및 취득\",\"href\":null}],\"is_toggleable\":false,\"color\":\"default\"}},{\"object\":\"block\",\"id\":\"22fe40c4-77c5-8154-9cf8-f466db600e87\",\"parent\":{\"type\":\"page_id\",\"page_id\":\"22fe40c4-77c5-8186-8e2c-ce6cf3c24328\"},\"created_time\":\"2025-07-13T09:42:00.000Z\",\"last_edited_time\":\"2025-07-13T09:42:00.000Z\",\"created_by\":{\"object\":\"user\",\"id\":\"afb99aa5-48e7-4e20-b8ea-e9c736064885\"},\"last_edited_by\":{\"object\":\"user\",\"id\":\"afb99aa5-48e7-4e20-b8ea-e9c736064885\"},\"has_children\":false,\"archived\":false,\"in_trash\":false,\"type\":\"bulleted_list_item\",\"bulleted_list_item\":{\"rich_text\":[{\"type\":\"text\",\"text\":{\"content\":\"데이터 저장의 어려움\",\"link\":null},\"annotations\":{\"bold\":false,\"italic\":false,\"strikethrough\":false,\"underline\":false,\"code\":false,\"color\":\"default\"},\"plain_text\":\"데이터 저장의 어려움\",\"href\":null}],\"color\":\"default\"}},{\"object\":\"block\",\"id\":\"22fe40c4-77c5-8181-a654-fb2e4119d3ad\",\"parent\":{\"type\":\"page_id\",\"page_id\":\"22fe40c4-77c5-8186-8e2c-ce6cf3c24328\"},\"created_time\":\"2025-07-13T09:42:00.000Z\",\"last_edited_time\":\"2025-07-13T09:42:00.000Z\",\"created_by\":{\"object\":\"user\",\"id\":\"afb99aa5-48e7-4e20-b8ea-e9c736064885\"},\"last_edited_by\":{\"object\":\"user\",\"id\":\"afb99aa5-48e7-4e20-b8ea-e9c736064885\"},\"has_children\":false,\"archived\":false,\"in_trash\":false,\"type\":\"bulleted_list_item\",\"bulleted_list_item\":{\"rich_text\":[{\"type\":\"text\",\"text\":{\"content\":\"공식 문서의 한계\",\"link\":null},\"annotations\":{\"bold\":false,\"italic\":false,\"strikethrough\":false,\"underline\":false,\"code\":false,\"color\":\"default\"},\"plain_text\":\"공식 문서의 한계\",\"href\":null}],\"color\":\"default\"}},{\"object\":\"block\",\"id\":\"22fe40c4-77c5-8154-bf62-c121dfa5b3f7\",\"parent\":{\"type\":\"page_id\",\"page_id\":\"22fe40c4-77c5-8186-8e2c-ce6cf3c24328\"},\"created_time\":\"2025-07-13T09:42:00.000Z\",\"last_edited_time\":\"2025-07-13T09:42:00.000Z\",\"created_by\":{\"object\":\"user\",\"id\":\"afb99aa5-48e7-4e20-b8ea-e9c736064885\"},\"last_edited_by\":{\"object\":\"user\",\"id\":\"afb99aa5-48e7-4e20-b8ea-e9c736064885\"},\"has_children\":false,\"archived\":false,\"in_trash\":false,\"type\":\"bulleted_list_item\",\"bulleted_list_item\":{\"rich_text\":[{\"type\":\"text\",\"text\":{\"content\":\"현업에서의 기술 및 노하우\",\"link\":null},\"annotations\":{\"bold\":false,\"italic\":false,\"strikethrough\":false,\"underline\":false,\"code\":false,\"color\":\"default\"},\"plain_text\":\"현업에서의 기술 및 노하우\",\"href\":null}],\"color\":\"default\"}},{\"object\":\"block\",\"id\":\"22fe40c4-77c5-8182-9a7c-c0d6f1062ab9\",\"parent\":{\"type\":\"page_id\",\"page_id\":\"22fe40c4-77c5-8186-8e2c-ce6cf3c24328\"},\"created_time\":\"2025-07-13T09:42:00.000Z\",\"last_edited_time\":\"2025-07-13T09:42:00.000Z\",\"created_by\":{\"object\":\"user\",\"id\":\"afb99aa5-48e7-4e20-b8ea-e9c736064885\"},\"last_edited_by\":{\"object\":\"user\",\"id\":\"afb99aa5-48e7-4e20-b8ea-e9c736064885\"},\"has_children\":false,\"archived\":false,\"in_trash\":false,\"type\":\"heading_2\",\"heading_2\":{\"rich_text\":[{\"type\":\"text\",\"text\":{\"content\":\"데이터 전달\",\"link\":null},\"annotations\":{\"bold\":false,\"italic\":false,\"strikethrough\":false,\"underline\":false,\"code\":false,\"color\":\"default\"},\"plain_text\":\"데이터 전달\",\"href\":null}],\"is_toggleable\":false,\"color\":\"default\"}},{\"object\":\"block\",\"id\":\"22fe40c4-77c5-8190-948b-d659057d986d\",\"parent\":{\"type\":\"page_id\",\"page_id\":\"22fe40c4-77c5-8186-8e2c-ce6cf3c24328\"},\"created_time\":\"2025-07-13T09:42:00.000Z\",\"last_edited_time\":\"2025-07-13T09:42:00.000Z\",\"created_by\":{\"object\":\"user\",\"id\":\"afb99aa5-48e7-4e20-b8ea-e9c736064885\"},\"last_edited_by\":{\"object\":\"user\",\"id\":\"afb99aa5-48e7-4e20-b8ea-e9c736064885\"},\"has_children\":false,\"archived\":false,\"in_trash\":false,\"type\":\"bulleted_list_item\",\"bulleted_list_item\":{\"rich_text\":[{\"type\":\"text\",\"text\":{\"content\":\"프롬프트의 중요성\",\"link\":null},\"annotations\":{\"bold\":false,\"italic\":false,\"strikethrough\":false,\"underline\":false,\"code\":false,\"color\":\"default\"},\"plain_text\":\"프롬프트의 중요성\",\"href\":null}],\"color\":\"default\"}},{\"object\":\"block\",\"id\":\"22fe40c4-77c5-81f6-ae95-f78864249cee\",\"parent\":{\"type\":\"page_id\",\"page_id\":\"22fe40c4-77c5-8186-8e2c-ce6cf3c24328\"},\"created_time\":\"2025-07-13T09:42:00.000Z\",\"last_edited_time\":\"2025-07-13T09:42:00.000Z\",\"created_by\":{\"object\":\"user\",\"id\":\"afb99aa5-48e7-4e20-b8ea-e9c736064885\"},\"last_edited_by\":{\"object\":\"user\",\"id\":\"afb99aa5-48e7-4e20-b8ea-e9c736064885\"},\"has_children\":false,\"archived\":false,\"in_trash\":false,\"type\":\"bulleted_list_item\",\"bulleted_list_item\":{\"rich_text\":[{\"type\":\"text\",\"text\":{\"content\":\"문맥 제공의 중요성\",\"link\":null},\"annotations\":{\"bold\":false,\"italic\":false,\"strikethrough\":false,\"underline\":false,\"code\":false,\"color\":\"default\"},\"plain_text\":\"문맥 제공의 중요성\",\"href\":null}],\"color\":\"default\"}},{\"object\":\"block\",\"id\":\"22fe40c4-77c5-817d-90d7-f6b22bc4a704\",\"parent\":{\"type\":\"page_id\",\"page_id\":\"22fe40c4-77c5-8186-8e2c-ce6cf3c24328\"},\"created_time\":\"2025-07-13T09:42:00.000Z\",\"last_edited_time\":\"2025-07-13T09:42:00.000Z\",\"created_by\":{\"object\":\"user\",\"id\":\"afb99aa5-48e7-4e20-b8ea-e9c736064885\"},\"last_edited_by\":{\"object\":\"user\",\"id\":\"afb99aa5-48e7-4e20-b8ea-e9c736064885\"},\"has_children\":false,\"archived\":false,\"in_trash\":false,\"type\":\"bulleted_list_item\",\"bulleted_list_item\":{\"rich_text\":[{\"type\":\"text\",\"text\":{\"content\":\"랭체인의 이점\",\"link\":null},\"annotations\":{\"bold\":false,\"italic\":false,\"strikethrough\":false,\"underline\":false,\"code\":false,\"color\":\"default\"},\"plain_text\":\"랭체인의 이점\",\"href\":null}],\"color\":\"default\"}},{\"object\":\"block\",\"id\":\"22fe40c4-77c5-81c9-b5b8-e8175c6e3931\",\"parent\":{\"type\":\"page_id\",\"page_id\":\"22fe40c4-77c5-8186-8e2c-ce6cf3c24328\"},\"created_time\":\"2025-07-13T09:42:00.000Z\",\"last_edited_time\":\"2025-07-13T09:42:00.000Z\",\"created_by\":{\"object\":\"user\",\"id\":\"afb99aa5-48e7-4e20-b8ea-e9c736064885\"},\"last_edited_by\":{\"object\":\"user\",\"id\":\"afb99aa5-48e7-4e20-b8ea-e9c736064885\"},\"has_children\":false,\"archived\":false,\"in_trash\":false,\"type\":\"bulleted_list_item\",\"bulleted_list_item\":{\"rich_text\":[{\"type\":\"text\",\"text\":{\"content\":\"프롬프트 테스트 및 제공\",\"link\":null},\"annotations\":{\"bold\":false,\"italic\":false,\"strikethrough\":false,\"underline\":false,\"code\":false,\"color\":\"default\"},\"plain_text\":\"프롬프트 테스트 및 제공\",\"href\":null}],\"color\":\"default\"}},{\"object\":\"block\",\"id\":\"22fe40c4-77c5-81ce-89b4-d3efc33818db\",\"parent\":{\"type\":\"page_id\",\"page_id\":\"22fe40c4-77c5-8186-8e2c-ce6cf3c24328\"},\"created_time\":\"2025-07-13T09:42:00.000Z\",\"last_edited_time\":\"2025-07-13T09:42:00.000Z\",\"created_by\":{\"object\":\"user\",\"id\":\"afb99aa5-48e7-4e20-b8ea-e9c736064885\"},\"last_edited_by\":{\"object\":\"user\",\"id\":\"afb99aa5-48e7-4e20-b8ea-e9c736064885\"},\"has_children\":false,\"archived\":false,\"in_trash\":false,\"type\":\"bulleted_list_item\",\"bulleted_list_item\":{\"rich_text\":[{\"type\":\"text\",\"text\":{\"content\":\"다양한 기능에 적합한 프롬프트 제공\",\"link\":null},\"annotations\":{\"bold\":false,\"italic\":false,\"strikethrough\":false,\"underline\":false,\"code\":false,\"color\":\"default\"},\"plain_text\":\"다양한 기능에 적합한 프롬프트 제공\",\"href\":null}],\"color\":\"default\"}},{\"object\":\"block\",\"id\":\"22fe40c4-77c5-81ec-9832-ed372186d32f\",\"parent\":{\"type\":\"page_id\",\"page_id\":\"22fe40c4-77c5-8186-8e2c-ce6cf3c24328\"},\"created_time\":\"2025-07-13T09:42:00.000Z\",\"last_edited_time\":\"2025-07-13T09:42:00.000Z\",\"created_by\":{\"object\":\"user\",\"id\":\"afb99aa5-48e7-4e20-b8ea-e9c736064885\"},\"last_edited_by\":{\"object\":\"user\",\"id\":\"afb99aa5-48e7-4e20-b8ea-e9c736064885\"},\"has_children\":false,\"archived\":false,\"in_trash\":false,\"type\":\"heading_1\",\"heading_1\":{\"rich_text\":[{\"type\":\"text\",\"text\":{\"content\":\"벡터 스토어 설명\",\"link\":null},\"annotations\":{\"bold\":false,\"italic\":false,\"strikethrough\":false,\"underline\":false,\"code\":false,\"color\":\"default\"},\"plain_text\":\"벡터 스토어 설명\",\"href\":null}],\"is_toggleable\":false,\"color\":\"default\"}},{\"object\":\"block\",\"id\":\"22fe40c4-77c5-81bd-9626-ee5f1079144d\",\"parent\":{\"type\":\"page_id\",\"page_id\":\"22fe40c4-77c5-8186-8e2c-ce6cf3c24328\"},\"created_time\":\"2025-07-13T09:42:00.000Z\",\"last_edited_time\":\"2025-07-13T09:42:00.000Z\",\"created_by\":{\"object\":\"user\",\"id\":\"afb99aa5-48e7-4e20-b8ea-e9c736064885\"},\"last_edited_by\":{\"object\":\"user\",\"id\":\"afb99aa5-48e7-4e20-b8ea-e9c736064885\"},\"has_children\":false,\"archived\":false,\"in_trash\":false,\"type\":\"bulleted_list_item\",\"bulleted_list_item\":{\"rich_text\":[{\"type\":\"text\",\"text\":{\"content\":\"데이터 저장의 중요성\",\"link\":null},\"annotations\":{\"bold\":false,\"italic\":false,\"strikethrough\":false,\"underline\":false,\"code\":false,\"color\":\"default\"},\"plain_text\":\"데이터 저장의 중요성\",\"href\":null}],\"color\":\"default\"}},{\"object\":\"block\",\"id\":\"22fe40c4-77c5-8165-9cd2-f7999cf05ad3\",\"parent\":{\"type\":\"page_id\",\"page_id\":\"22fe40c4-77c5-8186-8e2c-ce6cf3c24328\"},\"created_time\":\"2025-07-13T09:42:00.000Z\",\"last_edited_time\":\"2025-07-13T09:42:00.000Z\",\"created_by\":{\"object\":\"user\",\"id\":\"afb99aa5-48e7-4e20-b8ea-e9c736064885\"},\"last_edited_by\":{\"object\":\"user\",\"id\":\"afb99aa5-48e7-4e20-b8ea-e9c736064885\"},\"has_children\":false,\"archived\":false,\"in_trash\":false,\"type\":\"bulleted_list_item\",\"bulleted_list_item\":{\"rich_text\":[{\"type\":\"text\",\"text\":{\"content\":\"벡터 스토어의 역할\",\"link\":null},\"annotations\":{\"bold\":false,\"italic\":false,\"strikethrough\":false,\"underline\":false,\"code\":false,\"color\":\"default\"},\"plain_text\":\"벡터 스토어의 역할\",\"href\":null}],\"color\":\"default\"}},{\"object\":\"block\",\"id\":\"22fe40c4-77c5-812a-a976-f2e579cd8fd8\",\"parent\":{\"type\":\"page_id\",\"page_id\":\"22fe40c4-77c5-8186-8e2c-ce6cf3c24328\"},\"created_time\":\"2025-07-13T09:42:00.000Z\",\"last_edited_time\":\"2025-07-13T09:42:00.000Z\",\"created_by\":{\"object\":\"user\",\"id\":\"afb99aa5-48e7-4e20-b8ea-e9c736064885\"},\"last_edited_by\":{\"object\":\"user\",\"id\":\"afb99aa5-48e7-4e20-b8ea-e9c736064885\"},\"has_children\":false,\"archived\":false,\"in_trash\":false,\"type\":\"heading_1\",\"heading_1\":{\"rich_text\":[{\"type\":\"text\",\"text\":{\"content\":\"결론\",\"link\":null},\"annotations\":{\"bold\":false,\"italic\":false,\"strikethrough\":false,\"underline\":false,\"code\":false,\"color\":\"default\"},\"plain_text\":\"결론\",\"href\":null}],\"is_toggleable\":false,\"color\":\"default\"}},{\"object\":\"block\",\"id\":\"22fe40c4-77c5-81a4-b3d9-faf19fbf9ba9\",\"parent\":{\"type\":\"page_id\",\"page_id\":\"22fe40c4-77c5-8186-8e2c-ce6cf3c24328\"},\"created_time\":\"2025-07-13T09:42:00.000Z\",\"last_edited_time\":\"2025-07-13T09:42:00.000Z\",\"created_by\":{\"object\":\"user\",\"id\":\"afb99aa5-48e7-4e20-b8ea-e9c736064885\"},\"last_edited_by\":{\"object\":\"user\",\"id\":\"afb99aa5-48e7-4e20-b8ea-e9c736064885\"},\"has_children\":false,\"archived\":false,\"in_trash\":false,\"type\":\"bulleted_list_item\",\"bulleted_list_item\":{\"rich_text\":[{\"type\":\"text\",\"text\":{\"content\":\"RAZ의 이해와 활용\",\"link\":null},\"annotations\":{\"bold\":false,\"italic\":false,\"strikethrough\":false,\"underline\":false,\"code\":false,\"color\":\"default\"},\"plain_text\":\"RAZ의 이해와 활용\",\"href\":null}],\"color\":\"default\"}},{\"object\":\"block\",\"id\":\"22fe40c4-77c5-810b-b343-ffd149f55a36\",\"parent\":{\"type\":\"page_id\",\"page_id\":\"22fe40c4-77c5-8186-8e2c-ce6cf3c24328\"},\"created_time\":\"2025-07-13T09:42:00.000Z\",\"last_edited_time\":\"2025-07-13T09:42:00.000Z\",\"created_by\":{\"object\":\"user\",\"id\":\"afb99aa5-48e7-4e20-b8ea-e9c736064885\"},\"last_edited_by\":{\"object\":\"user\",\"id\":\"afb99aa5-48e7-4e20-b8ea-e9c736064885\"},\"has_children\":false,\"archived\":false,\"in_trash\":false,\"type\":\"bulleted_list_item\",\"bulleted_list_item\":{\"rich_text\":[{\"type\":\"text\",\"text\":{\"content\":\"데이터 저장 및 전달의 중요성\",\"link\":null},\"annotations\":{\"bold\":false,\"italic\":false,\"strikethrough\":false,\"underline\":false,\"code\":false,\"color\":\"default\"},\"plain_text\":\"데이터 저장 및 전달의 중요성\",\"href\":null}],\"color\":\"default\"}},{\"object\":\"block\",\"id\":\"22fe40c4-77c5-816b-8f76-da422c36733e\",\"parent\":{\"type\":\"page_id\",\"page_id\":\"22fe40c4-77c5-8186-8e2c-ce6cf3c24328\"},\"created_time\":\"2025-07-13T09:42:00.000Z\",\"last_edited_time\":\"2025-07-13T09:42:00.000Z\",\"created_by\":{\"object\":\"user\",\"id\":\"afb99aa5-48e7-4e20-b8ea-e9c736064885\"},\"last_edited_by\":{\"object\":\"user\",\"id\":\"afb99aa5-48e7-4e20-b8ea-e9c736064885\"},\"has_children\":false,\"archived\":false,\"in_trash\":false,\"type\":\"bulleted_list_item\",\"bulleted_list_item\":{\"rich_text\":[{\"type\":\"text\",\"text\":{\"content\":\"랭체인의 활용 방법\",\"link\":null},\"annotations\":{\"bold\":false,\"italic\":false,\"strikethrough\":false,\"underline\":false,\"code\":false,\"color\":\"default\"},\"plain_text\":\"랭체인의 활용 방법\",\"href\":null}],\"color\":\"default\"}},{\"object\":\"block\",\"id\":\"22fe40c4-77c5-8165-9dde-f1019e29d3ac\",\"parent\":{\"type\":\"page_id\",\"page_id\":\"22fe40c4-77c5-8186-8e2c-ce6cf3c24328\"},\"created_time\":\"2025-07-13T09:42:00.000Z\",\"last_edited_time\":\"2025-07-13T09:42:00.000Z\",\"created_by\":{\"object\":\"user\",\"id\":\"afb99aa5-48e7-4e20-b8ea-e9c736064885\"},\"last_edited_by\":{\"object\":\"user\",\"id\":\"afb99aa5-48e7-4e20-b8ea-e9c736064885\"},\"has_children\":false,\"archived\":false,\"in_trash\":false,\"type\":\"paragraph\",\"paragraph\":{\"rich_text\":[{\"type\":\"text\",\"text\":{\"content\":\"이 강의는 RAZ의 개념과 개발자가 해야 할 역할, 그리고 벡터 스토어의 중요성에 대해 설명합니다. RAZ를 효과적으로 활용하기 위해서는 데이터의 저장과 전달이 중요하며, 이를 위해 랭체인의 프롬프트 기능을 활용할 수 있습니다.\",\"link\":null},\"annotations\":{\"bold\":false,\"italic\":false,\"strikethrough\":false,\"underline\":false,\"code\":false,\"color\":\"default\"},\"plain_text\":\"이 강의는 RAZ의 개념과 개발자가 해야 할 역할, 그리고 벡터 스토어의 중요성에 대해 설명합니다. RAZ를 효과적으로 활용하기 위해서는 데이터의 저장과 전달이 중요하며, 이를 위해 랭체인의 프롬프트 기능을 활용할 수 있습니다.\",\"href\":null}],\"color\":\"default\"}}],\"next_cursor\":null,\"has_more\":false,\"type\":\"block\",\"block\":{},\"request_id\":\"0356a05d-d9c2-4e83-9f7f-703c118a7b25\"}'\n",
      "'agent': 'The outline has been successfully added to the page with ID `22fe40c4-77c5-8186-8e2c-ce6cf3c24328`. If you need any more modifications or additions, feel free to ask!'\n",
      "\n",
      "Final result: {'agent': {'messages': [AIMessage(content='The outline has been successfully added to the page with ID `22fe40c4-77c5-8186-8e2c-ce6cf3c24328`. If you need any more modifications or additions, feel free to ask!', additional_kwargs={'refusal': None}, response_metadata={'token_usage': {'completion_tokens': 52, 'prompt_tokens': 14986, 'total_tokens': 15038, 'completion_tokens_details': {'accepted_prediction_tokens': 0, 'audio_tokens': 0, 'reasoning_tokens': 0, 'rejected_prediction_tokens': 0}, 'prompt_tokens_details': {'audio_tokens': 0, 'cached_tokens': 4224}}, 'model_name': 'gpt-4o-2024-08-06', 'system_fingerprint': 'fp_07871e2ad8', 'id': 'chatcmpl-BsnVbxj6kznvzshG9W6HtN9UbTNtU', 'service_tier': 'default', 'finish_reason': 'stop', 'logprobs': None}, id='run--238f322b-e5fe-49a5-b571-36c125085c9a-0', usage_metadata={'input_tokens': 14986, 'output_tokens': 52, 'total_tokens': 15038, 'input_token_details': {'audio': 0, 'cache_read': 4224}, 'output_token_details': {'audio': 0, 'reasoning': 0}})]}}\n"
     ]
    },
    {
     "data": {
      "text/plain": [
       "{'url': 'https://youtu.be/JYZuZRADCBc?si=oH9UGl-_eLLrzecZ',\n",
       " 'transcript': '그러면 이 강의의 핵심인 RAZ, Retrieval Augmented Generation에 대해서 설명해 드리도록 하겠습니다 일단 RAZ는 LLM 어플리케이션에서 굉장히 중요한 개념이에요 그런데 이게 라지 랭규지 모델과 같이 나온 개념은 아니고 훨씬 이전인 자연어처리, 내추럴 랭규지 프로세싱에서 출발된 개념입니다 우리말로 따지면 검색 증강 생성입니다 순서대로 검색 증강 생성인데 이게 어떤 걸 여타내는지 단어를 하나씩 뜯어 보면서 설명해 드리도록 하겠습니다 먼저 Retrieval입니다 Retrieval은 데이터를 가져오는 거예요 데이터를 가져오는 것인데 조금 더 구체적으로 보자면 컴퓨터 시스템에 저장된 자료를 취득하는 것이라는 뜻도 있습니다 저희가 RAZ를 구성할 때 뒤에서 설명해 드릴 벡터 스토어를 활용할 건데 우리가 활용한 벡터 스토어에서 우리가 필요로 하는 데이터를 잘 가져오는 것이라고 보시면 되겠습니다 이거는 구체적으로 말하자면 언어모델이 가지고 있지 않은 정보를 가져오는 거예요 근데 왜 언어모델이 가지고 있지 않은 정보를 가져오냐면 우리는 언어모델이 아웃풋을 만드는데 필요한 정보를 제공해야 되기 때문입니다 언어모델이 답변을 생성하는데 굉장히 능숙하지만 답변 생성을 위한 모든 정보를 가지고 있진 않습니다 최근에 많은 회사들에서 사내 절차 같은 거를 RAZ를 구성을 해가지고 LLM 서비스를 만들고 있습니다 사내 자료는 일반적으로 보안이 걸려 있잖아요 그렇기 때문에 LLM이 학습을 할 때 크롤링을 한다고 해도 보안이 걸려있는 자료를 가지고 있을 수는 없겠죠 그래서 우리가 LLM을 활용한다고 해도 걔네가 답변 생성을 위한 정보를 가지고 있지 않기 때문에 우리가 그 정보를 제공해 주는 거예요 사내 자료가 아니라고 하더라도 GPT-4는 23년 10월까지 학습되어 있습니다 그러니까 24년의 정보는 없는 거예요 예를 들면 24년 카타르 아시안컵 대한민국 축구 결과 이런 정보를 가지고 있지 않는 겁니다 그래서 채취 PT에 그 질문을 하시면 얘네가 웹크롤링을 한 다음에 그 데이터를 넣어서 답변을 생성을 할 거예요 그 원리도 마찬가지로 RAZ인 겁니다 실제 채취 PT 화면에서 한번 테스트를 해보자면 돌리면 방금 웹을 찾아보고 있죠 왜냐면 GPT-45에는 24년도의 데이터는 가지고 있지 않기 때문입니다 소스를 주고 이것도 마찬가지로 RAZ를 했다라고 보시면 됩니다 그 다음은 Augmented Augmented는 AR, VR에 사용되는 거랑 같은 단어예요 그래서 마치 사실인 것처럼 한다는 겁니다 혹시 포켓몬고라는 게임을 기억을 하시면 지금 이 위치에 꼬부기가 없잖아요 그런데 AR 기술을 활용해서 마치 꼬부기가 여기 있는 것처럼 게임을 진행하는 건데 이거랑 마찬가지로 리트리벌린 데이터를 라지 랭기지 모델한테 주면서 마치 네가 이 정보를 아는 것처럼 답변을 생성해라 하는 게 RAZ라고 보시면 됩니다 그래서 다시 한번 말씀드리자면 RAZ는 내가 네가 답변을 생성할 때 필요한 정보를 제공할 테니 마치 네가 이 정보를 이미 알고 있던 것처럼 답변을 생성해라 라고 보시면 되겠습니다 그럼 이제 우리가 RAZ가 뭔지는 알았으니까 개발자로서 우리가 해야 될 고민은 뭐냐면 답변을 생성하는 거는 라지 랭기지 모델의 역할이에요 왜냐면 얘가 Generative AI, 생성용 AI 잖아요 그러니까 답변 생성은 LLM이 알아서 할 겁니다 그래서 우리는 데이터를 잘 가져와서 LLM한테 잘 전달해주면 되는 거예요 여기 있는 RAZ에서 R과 A까지가 개발자의 역할인 겁니다 그러면 데이터를 잘 가져와야겠죠 잘 전달하기 위해서 그래서 데이터를 잘 가져오려면 데이터를 잘 저장해야 돼요 근데 잘 저장하는 게 생각보다 굉장히 어렵습니다 공식문서에도 이렇게 하세요 이런 게 있는데 잘 안 돼요 랭체인 공식문서에서도 이렇게 하세요 라고 나와 있는데 이걸 그대로 따라한다고 해도 잘 되지 않아요 예를 들면 이게 지금 공식문서인데 여기 보시면은 순서가 나와 있습니다 데이터 로드한 다음에 스플릿해서 저장한 다음에 가져오고 생성해라 참 간단하죠 근데 이렇게 시키는 대로 똑같이 해도 잘 안 돼요 저는 어떻게 저장하느냐가 강의에서 제일 중요한 부분이라고 생각합니다 그래서 단순히 저장하는 거 말고 제가 현업에서 업무를 하면서 취득한 여러 가지 잔기술들을 설명해 드릴 거예요 약간 이렇게까지 해야 되나 싶으신 것도 있을 수 있고 그리고 이게 정말 되는 거야라고 느끼실 수도 있는데 이렇게 하면 잘 나옵니다 그래서 이런 기술들을 설명을 해 드릴 거고 그럼 이제 잘 저장해서 잘 가져왔으면 잘 전달을 해야겠죠 잘 전달하려면 프롬프트를 잘 써야 됩니다 왜냐면 프롬프트가 LLM과 소통할 수 있는 방법이기 때문이에요 근데 제가 이걸 왜 잘 활용해야 된다고 말씀드리냐면 문맥을 어떻게 제공하는 지고 굉장히 중요하기 때문입니다 프롬프트도 이런 식으로 내용이 방대하게 들어갈 수 있습니다 그럼 설명 이런 데 들어간다고 해볼게요 설명 여기 들어가면 문맥을 여기 넣느냐 여기 넣느냐 여기 넣느냐 즉 답변을 생성하기 위해 우리가 가져온 데이터를 어디에 넣는지가 답변 생성에 굉장히 큰 영향을 미칩니다 그리고 잘 가져오더라도 제대로 전달을 못하면 LLM이 올바른 답변을 만들지 못해요 이것도 실습하면서 보실 거거든요 데이터가 분명히 들어있는데 답변이 정확하지 않거나 아니면 답변이 정확하긴 한데 뭔가 만족스럽지 않아요 그렇기 때문에 제대로 전달을 해야 되고 그 부분에서 랭체인이 굉장한 이점이 있습니다 랭체인의 이점은 뭐냐면 이게 방금 제가 보여드렸던 공식 문서인데 여기 프리뷰에 보시면은 이 프롬프트 보이시나요 랭체인이 자체적으로 본인들이 프롬프트를 많이 테스트를 한 다음에 RAG 할 때는 이 프롬프트가 제일 괜찮다라는 걸 제공을 해요 이거는 하나의 예시이고 다양한 기능들에서 예를 들면 채팅에 적합한 프롬프트라든지 요약에 적합한 프롬프트라든지 이런 것들을 랭체인이 제공을 합니다 그래서 이런 거를 활용하시면은 맨땅에서 프롬프트를 작성하시는 것보다는 훨씬 더 효율적으로 서비스를 운영할 수가 있어요 그래서 이렇게까지 해서 RAG가 뭔지 설명을 드렸고 그러면 데이터를 저장하는 벡터 스토어에 대해서 설명을 이어가도록 하겠습니다',\n",
       " 'outline': '# 강의 개요\\n\\n## RAZ (Retrieval Augmented Generation) 소개\\n- RAZ의 중요성\\n- 자연어처리에서 출발한 개념\\n- 한국어로 \"검색 증강 생성\"\\n\\n## RAZ의 구성 요소\\n1. **Retrieval (검색)**\\n   - 데이터 취득의 의미\\n   - 벡터 스토어 활용\\n   - 언어모델이 가지지 않은 정보 취득의 필요성\\n   - 사내 자료와 보안 문제\\n   - 최신 정보의 부족 문제\\n\\n2. **Augmented (증강)**\\n   - AR, VR과의 유사성\\n   - 리트리벌된 데이터를 언어모델에 제공\\n   - 정보 제공의 중요성\\n\\n3. **Generation (생성)**\\n   - LLM의 역할\\n   - 개발자의 역할: 데이터 취득 및 전달\\n\\n# 개발자의 역할\\n\\n## 데이터 저장 및 취득\\n- 데이터 저장의 어려움\\n- 공식 문서의 한계\\n- 현업에서의 기술 및 노하우\\n\\n## 데이터 전달\\n- 프롬프트의 중요성\\n- 문맥 제공의 중요성\\n- 랭체인의 이점\\n  - 프롬프트 테스트 및 제공\\n  - 다양한 기능에 적합한 프롬프트 제공\\n\\n# 벡터 스토어 설명\\n- 데이터 저장의 중요성\\n- 벡터 스토어의 역할\\n\\n# 결론\\n- RAZ의 이해와 활용\\n- 데이터 저장 및 전달의 중요성\\n- 랭체인의 활용 방법\\n\\n이 강의는 RAZ의 개념과 개발자가 해야 할 역할, 그리고 벡터 스토어의 중요성에 대해 설명합니다. RAZ를 효과적으로 활용하기 위해서는 데이터의 저장과 전달이 중요하며, 이를 위해 랭체인의 프롬프트 기능을 활용할 수 있습니다.',\n",
       " 'title': 'RAG란 무엇인가?',\n",
       " 'database_id': '22fe40c477c5806798a7f51edc0ab976',\n",
       " 'page_id': '22fe40c4-77c5-8186-8e2c-ce6cf3c24328',\n",
       " 'save_dir': './videos'}"
      ]
     },
     "execution_count": 15,
     "metadata": {},
     "output_type": "execute_result"
    }
   ],
   "source": [
    "# 워크플로우 실행 - 비동기 방식으로 실행\n",
    "# YouTube 영상 URL, Notion 데이터베이스 ID, 제목, 저장 경로를 설정하여 전체 프로세스 실행\n",
    "await graph.ainvoke({\n",
    "    \"url\": \"https://youtu.be/JYZuZRADCBc?si=oH9UGl-_eLLrzecZ\",  # 처리할 YouTube 영상 URL\n",
    "    \"database_id\": \"22fe40c477c5806798a7f51edc0ab976\",         # Notion 데이터베이스 ID\n",
    "    \"title\": \"RAG란 무엇인가?\",                                    # 페이지 제목\n",
    "    \"save_dir\": \"./videos\"                                      # 다운로드한 영상 파일 저장 경로\n",
    "})"
   ]
  },
  {
   "cell_type": "code",
   "execution_count": null,
   "id": "2a6562d3",
   "metadata": {},
   "outputs": [],
   "source": []
  }
 ],
 "metadata": {
  "kernelspec": {
   "display_name": ".venv",
   "language": "python",
   "name": "python3"
  },
  "language_info": {
   "codemirror_mode": {
    "name": "ipython",
    "version": 3
   },
   "file_extension": ".py",
   "mimetype": "text/x-python",
   "name": "python",
   "nbconvert_exporter": "python",
   "pygments_lexer": "ipython3",
   "version": "3.12.9"
  }
 },
 "nbformat": 4,
 "nbformat_minor": 5
}
