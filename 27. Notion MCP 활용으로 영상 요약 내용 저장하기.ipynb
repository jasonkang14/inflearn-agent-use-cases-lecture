{
 "cells": [
  {
   "cell_type": "markdown",
   "id": "43ee7ad5",
   "metadata": {
    "vscode": {
     "languageId": "raw"
    }
   },
   "source": [
    "# 27. Notion MCP 활용으로 영상 요약 내용 저장하기\n",
    "\n",
    "## 프로젝트 개요\n",
    "\n",
    "이 노트북은 YouTube 영상 파일에서 음성을 추출하고, OpenAI Whisper를 사용하여 텍스트로 변환한 후, 마크다운 형태의 구조적인 요약을 생성하여 Notion 데이터베이스에 자동으로 업로드하는 고급 시스템을 구축합니다."
   ]
  },
  {
   "cell_type": "markdown",
   "id": "76242720",
   "metadata": {
    "vscode": {
     "languageId": "raw"
    }
   },
   "source": [
    "## 1. 환경 설정\n",
    "\n",
    "필요한 환경 변수를 로드합니다. OpenAI API 키와 Notion API 키가 `.env` 파일에 설정되어 있어야 합니다.\n"
   ]
  },
  {
   "cell_type": "code",
   "execution_count": null,
   "id": "19baad98",
   "metadata": {},
   "outputs": [
    {
     "data": {
      "text/plain": [
       "True"
      ]
     },
     "execution_count": 1,
     "metadata": {},
     "output_type": "execute_result"
    }
   ],
   "source": [
    "# 환경 변수 로드 - OpenAI API 키와 Notion API 키를 .env 파일에서 불러옵니다\n",
    "from dotenv import load_dotenv\n",
    "\n",
    "# .env 파일에서 환경 변수 로드\n",
    "load_dotenv()"
   ]
  },
  {
   "cell_type": "markdown",
   "id": "30017aef",
   "metadata": {
    "vscode": {
     "languageId": "raw"
    }
   },
   "source": [
    "## 2. 워크플로우 상태 정의\n",
    "\n",
    "LangGraph에서 사용할 상태 구조를 정의합니다. 이 상태는 전체 워크플로우에서 데이터가 어떻게 흘러가는지 관리하며, 26번 노트북에서 `page_id` 필드가 추가되었습니다.\n"
   ]
  },
  {
   "cell_type": "code",
   "execution_count": null,
   "id": "4d6dcefb",
   "metadata": {},
   "outputs": [],
   "source": [
    "from typing_extensions import TypedDict\n",
    "from langgraph.graph import StateGraph\n",
    "\n",
    "# 워크플로우에서 사용할 상태 구조 정의\n",
    "class AgentState(TypedDict):\n",
    "    file_path: str      # 처리할 영상 파일 경로\n",
    "    transcript: str     # Whisper로 추출한 텍스트\n",
    "    outline: str        # 생성된 마크다운 아웃라인\n",
    "    title: str          # 영상/문서 제목\n",
    "    database_id: str    # Notion 데이터베이스 ID\n",
    "    page_id: str        # 생성된 Notion 페이지 ID (2단계 업로드를 위해 추가)\n",
    "    \n",
    "# 상태 그래프 빌더 초기화\n",
    "graph_builder = StateGraph(AgentState)"
   ]
  },
  {
   "cell_type": "markdown",
   "id": "933fae93",
   "metadata": {
    "vscode": {
     "languageId": "raw"
    }
   },
   "source": [
    "## 3. AI 모델 초기화\n",
    "\n",
    "OpenAI의 ChatGPT와 Whisper 모델을 초기화합니다. 이 모델들은 각각 마크다운 아웃라인 생성과 음성-텍스트 변환에 사용됩니다.\n"
   ]
  },
  {
   "cell_type": "code",
   "execution_count": null,
   "id": "a82c81ca",
   "metadata": {},
   "outputs": [],
   "source": [
    "from langchain_openai import ChatOpenAI\n",
    "from langchain_community.document_loaders.parsers.audio import OpenAIWhisperParser\n",
    "\n",
    "# ChatGPT 모델 초기화 - 마크다운 아웃라인 생성에 사용\n",
    "llm = ChatOpenAI(model=\"gpt-4o\", temperature=0)  # temperature=0으로 설정하여 일관된 결과 생성\n",
    "\n",
    "# Whisper 파서 초기화 - 음성/영상 파일에서 텍스트 추출에 사용\n",
    "audio_parser = OpenAIWhisperParser()"
   ]
  },
  {
   "cell_type": "markdown",
   "id": "e5888827",
   "metadata": {
    "vscode": {
     "languageId": "raw"
    }
   },
   "source": [
    "## 4. 워크플로우 노드 함수 정의\n",
    "\n",
    "### 4.1 트랜스크립트 추출 함수\n",
    "\n",
    "영상 파일에서 OpenAI Whisper를 사용하여 음성을 텍스트로 변환하는 함수입니다. 26번 노트북과 동일한 구조를 가지고 있습니다.\n"
   ]
  },
  {
   "cell_type": "code",
   "execution_count": null,
   "id": "0cdd5b14",
   "metadata": {},
   "outputs": [],
   "source": [
    "from langchain_core.documents.base import Blob\n",
    "from langchain_community.document_loaders.parsers.audio import OpenAIWhisperParser\n",
    "\n",
    "def extract_transcript(state: AgentState) -> AgentState:\n",
    "    \"\"\"\n",
    "    영상 파일에서 음성을 추출하여 텍스트로 변환하는 함수\n",
    "    \"\"\"\n",
    "    # 상태에서 파일 경로 가져오기\n",
    "    file_path = state[\"file_path\"]\n",
    "    \n",
    "    # 파일을 Blob 객체로 변환 (Whisper가 처리할 수 있는 형태)\n",
    "    audio_blob = Blob(path=file_path)\n",
    "    \n",
    "    # Whisper를 사용하여 음성을 텍스트로 변환\n",
    "    documents = audio_parser.lazy_parse(audio_blob)\n",
    "    \n",
    "    # 변환된 텍스트들을 하나의 문자열로 결합\n",
    "    transcript = \"\"\n",
    "    for doc in documents:\n",
    "        transcript += doc.page_content\n",
    "    \n",
    "    # 결과를 상태로 반환\n",
    "    return {\"transcript\": transcript}"
   ]
  },
  {
   "cell_type": "markdown",
   "id": "b4c10bd5",
   "metadata": {
    "vscode": {
     "languageId": "raw"
    }
   },
   "source": [
    "### 4.2 마크다운 아웃라인 생성 함수\n",
    "\n",
    "추출된 텍스트를 바탕으로 ChatGPT를 사용하여 구조화된 마크다운 아웃라인을 생성하는 함수입니다. 26번 노트북과 달리 마크다운 형식으로 더 구조화된 결과를 생성합니다.\n"
   ]
  },
  {
   "cell_type": "code",
   "execution_count": null,
   "id": "8e9f2169",
   "metadata": {},
   "outputs": [],
   "source": [
    "from langchain_openai import ChatOpenAI\n",
    "from langchain_core.prompts import ChatPromptTemplate\n",
    "from langchain_core.output_parsers import StrOutputParser\n",
    "\n",
    "# 아웃라인 생성용 모델 (더 정확한 결과를 위해 gpt-4o 사용)\n",
    "llm = ChatOpenAI(model=\"gpt-4o\", temperature=0)\n",
    "\n",
    "def generate_outline(state: AgentState) -> AgentState:\n",
    "    \"\"\"\n",
    "    추출된 텍스트를 바탕으로 구조화된 마크다운 아웃라인을 생성하는 함수\n",
    "    \"\"\"\n",
    "    # 상태에서 트랜스크립트 가져오기\n",
    "    transcript = state[\"transcript\"]\n",
    "    \n",
    "    # 마크다운 아웃라인 생성을 위한 프롬프트 템플릿 설정\n",
    "    outline_prompt = ChatPromptTemplate.from_messages([\n",
    "        (\"system\", \"\"\"You are a helpful assistant that generates an outline for a transcript. \n",
    "Your outline must be in the markdown format using necessary headings and subheadings.\n",
    "You can also use bullet points and numbered lists where you think necessary.\n",
    "Make sure to use Korean when you generate the outline.\"\"\"),\n",
    "        (\"user\", \"Generate an outline for the following transcript: {transcript}\"),\n",
    "    ])\n",
    "    \n",
    "    # 체인 구성: 프롬프트 -> LLM -> 문자열 파서\n",
    "    outline_chain = outline_prompt | llm | StrOutputParser()\n",
    "    \n",
    "    # 마크다운 아웃라인 생성\n",
    "    outline = outline_chain.invoke({\"transcript\": transcript})\n",
    "    \n",
    "    # 결과를 상태로 반환\n",
    "    return {\"outline\": outline}"
   ]
  },
  {
   "cell_type": "markdown",
   "id": "472f6737",
   "metadata": {
    "vscode": {
     "languageId": "raw"
    }
   },
   "source": [
    "### 4.3 MCP 클라이언트 설정\n",
    "\n",
    "Model Context Protocol (MCP)를 사용하여 Notion API와 통신하는 클라이언트를 설정합니다. 이는 26번 노트북의 직접 API 호출 방식과 다른 고급 연동 방식입니다.\n"
   ]
  },
  {
   "cell_type": "code",
   "execution_count": null,
   "id": "4e133035",
   "metadata": {},
   "outputs": [],
   "source": [
    "import os\n",
    "from langchain_mcp_adapters.client import MultiServerMCPClient\n",
    "\n",
    "# 환경 변수에서 Notion API 키 가져오기\n",
    "notion_api_key = os.getenv(\"NOTION_API_KEY\")\n",
    "\n",
    "# MCP (Model Context Protocol) 클라이언트 설정\n",
    "# Notion API와 통신하기 위한 다중 서버 MCP 클라이언트 생성\n",
    "mcp_client = MultiServerMCPClient({\n",
    "  \"notionApi\": {\n",
    "      \"command\": \"npx\",                                    \n",
    "      \"args\": [\"-y\", \"@notionhq/notion-mcp-server\"],      # Notion MCP 서버 패키지 실행 (자동 설치)\n",
    "      \"env\": {                                             # 환경 변수 설정\n",
    "        \"OPENAPI_MCP_HEADERS\": f\"{{\\\"Authorization\\\": \\\"Bearer {notion_api_key}\\\", \\\"Notion-Version\\\": \\\"2022-06-28\\\" }}\"\n",
    "      },\n",
    "      \"transport\": \"stdio\"                                 # 표준 입출력을 통한 통신\n",
    "    }  \n",
    "})\n"
   ]
  },
  {
   "cell_type": "markdown",
   "id": "2dc4dad9",
   "metadata": {
    "vscode": {
     "languageId": "raw"
    }
   },
   "source": [
    "### 4.4 MCP 도구 목록 가져오기\n",
    "\n",
    "MCP 클라이언트에서 사용 가능한 도구들의 목록을 가져옵니다. 이 도구들은 나중에 ReAct 에이전트에서 사용됩니다.\n"
   ]
  },
  {
   "cell_type": "code",
   "execution_count": null,
   "id": "a7f70af7",
   "metadata": {},
   "outputs": [],
   "source": [
    "# MCP 클라이언트에서 사용 가능한 도구 목록 가져오기 (비동기 함수)\n",
    "# 이 도구들은 ReAct 에이전트가 Notion API와 상호작용하는 데 사용됩니다\n",
    "tool_list = await mcp_client.get_tools()"
   ]
  },
  {
   "cell_type": "markdown",
   "id": "9854f815",
   "metadata": {
    "vscode": {
     "languageId": "raw"
    }
   },
   "source": [
    "### 4.5 ReAct 에이전트 생성\n",
    "\n",
    "ReAct (Reasoning and Acting) 에이전트를 생성합니다. 이 에이전트는 추론과 행동을 결합하여 복잡한 작업을 수행할 수 있는 지능형 시스템입니다.\n"
   ]
  },
  {
   "cell_type": "code",
   "execution_count": null,
   "id": "e88d351d",
   "metadata": {},
   "outputs": [],
   "source": [
    "from langgraph.prebuilt import create_react_agent\n",
    "\n",
    "# ReAct 에이전트 생성\n",
    "# 이 에이전트는 추론(Reasoning)과 행동(Acting)을 결합하여 복잡한 작업을 수행\n",
    "agent = create_react_agent(\n",
    "    model=llm,                                                    # 사용할 언어 모델\n",
    "    tools=tool_list,                                             # MCP에서 가져온 도구 목록\n",
    "    prompt=\"Use the tools provided to you to answer the user's question\"  # 에이전트에게 주는 기본 지시사항\n",
    ")"
   ]
  },
  {
   "cell_type": "markdown",
   "id": "c2d6723e",
   "metadata": {
    "vscode": {
     "languageId": "raw"
    }
   },
   "source": [
    "### 4.6 스트림 처리 함수\n",
    "\n",
    "에이전트의 실행 과정을 실시간으로 모니터링하기 위한 스트림 처리 함수입니다. 이 함수는 에이전트의 추론과 도구 호출 과정을 실시간으로 출력합니다.\n"
   ]
  },
  {
   "cell_type": "code",
   "execution_count": null,
   "id": "54bfdd7c",
   "metadata": {},
   "outputs": [],
   "source": [
    "async def process_stream(stream_generator):\n",
    "    \"\"\"\n",
    "    에이전트의 실행 과정을 실시간으로 모니터링하고 결과를 수집하는 함수\n",
    "    \"\"\"\n",
    "    results = []  # 모든 결과를 저장할 리스트\n",
    "    try:\n",
    "        # 스트림 생성기에서 청크 단위로 데이터를 비동기적으로 처리\n",
    "        async for chunk in stream_generator:\n",
    "            # 각 청크에서 첫 번째 키를 가져와 메시지 타입 확인\n",
    "            key = list(chunk.keys())[0]\n",
    "            \n",
    "            if key == 'agent':\n",
    "                # Agent 메시지의 내용을 가져옴. 메시지가 비어있는 경우 어떤 도구를 어떻게 호출할지 정보를 가져옴\n",
    "                content = chunk['agent']['messages'][0].content if chunk['agent']['messages'][0].content != '' else chunk['agent']['messages'][0].additional_kwargs\n",
    "                print(f\"'agent': '{content}'\")\n",
    "            \n",
    "            elif key == 'tools':\n",
    "                # 도구 메시지의 내용을 가져옴 (도구 실행 결과)\n",
    "                for tool_msg in chunk['tools']['messages']:\n",
    "                    print(f\"'tools': '{tool_msg.content}'\")\n",
    "            \n",
    "            # 모든 청크를 결과 리스트에 추가\n",
    "            results.append(chunk)\n",
    "        return results\n",
    "    except Exception as e:\n",
    "        print(f\"Error processing stream: {e}\")\n",
    "        return results"
   ]
  },
  {
   "cell_type": "markdown",
   "id": "2f4b36b5",
   "metadata": {
    "vscode": {
     "languageId": "raw"
    }
   },
   "source": [
    "### 4.7 Notion 페이지 생성 함수\n",
    "\n",
    "Notion 데이터베이스에 새로운 페이지를 생성하는 함수입니다. 이는 2단계 업로드 프로세스의 첫 번째 단계입니다.\n"
   ]
  },
  {
   "cell_type": "code",
   "execution_count": null,
   "id": "b72106b9",
   "metadata": {},
   "outputs": [],
   "source": [
    "import requests\n",
    "import os\n",
    "\n",
    "def create_notion_page(state: AgentState) -> AgentState:\n",
    "    \"\"\"\n",
    "    Notion 데이터베이스에 새로운 페이지를 생성하는 함수 (2단계 업로드의 첫 번째 단계)\n",
    "    \"\"\"\n",
    "    # 상태에서 필요한 정보 가져오기\n",
    "    database_id = state['database_id']  # Notion 데이터베이스 ID\n",
    "    title = state['title']              # 페이지 제목\n",
    "    \n",
    "    # 환경 변수에서 Notion API 키 가져오기\n",
    "    notion_api_key = os.getenv(\"NOTION_API_KEY\")\n",
    "    \n",
    "    # Notion API 요청 헤더 설정\n",
    "    headers = {\n",
    "        'Authorization': f'Bearer {notion_api_key}',\n",
    "        'Content-Type': 'application/json',\n",
    "        'Notion-Version': '2022-06-28'  # Notion API 버전 지정\n",
    "    }\n",
    "    \n",
    "    # 새 페이지 생성을 위한 데이터 구성 (제목만 포함)\n",
    "    data = {\n",
    "        'parent': {'database_id': database_id},  # 부모 데이터베이스 지정\n",
    "        'properties': {\n",
    "            'Title': {'title': [{'text': {'content': title}}]},  # 페이지 제목 설정\n",
    "        },\n",
    "    }\n",
    "    \n",
    "    # Notion API에 페이지 생성 요청\n",
    "    response = requests.post(\n",
    "        'https://api.notion.com/v1/pages',\n",
    "        headers=headers,\n",
    "        json=data\n",
    "    )\n",
    "    \n",
    "    # 응답 결과 출력\n",
    "    print(response.json())\n",
    "    \n",
    "    # 생성된 페이지 ID를 상태로 반환 (두 번째 단계에서 사용)\n",
    "    return {'page_id': response.json()['id']}"
   ]
  },
  {
   "cell_type": "markdown",
   "id": "0f0f489f",
   "metadata": {
    "vscode": {
     "languageId": "raw"
    }
   },
   "source": [
    "### 4.8 Notion 콘텐츠 업로드 함수\n",
    "\n",
    "생성된 Notion 페이지에 마크다운 아웃라인을 구조화된 블록으로 업로드하는 함수입니다. 이는 2단계 업로드 프로세스의 두 번째 단계로, ReAct 에이전트를 활용하여 지능적으로 내용을 업로드합니다.\n"
   ]
  },
  {
   "cell_type": "code",
   "execution_count": null,
   "id": "3e5b0248",
   "metadata": {},
   "outputs": [],
   "source": [
    "from langchain_core.messages import HumanMessage\n",
    "from langchain_core.prompts import PromptTemplate\n",
    "\n",
    "async def upload_to_notion(state: AgentState) -> AgentState:\n",
    "    \"\"\"\n",
    "    생성된 Notion 페이지에 마크다운 아웃라인을 구조화된 블록으로 업로드하는 함수\n",
    "    ReAct 에이전트를 활용하여 지능적으로 내용을 업로드\n",
    "    \"\"\"\n",
    "    # 상태에서 필요한 정보 가져오기\n",
    "    page_id = state['page_id']    # 첫 번째 단계에서 생성된 페이지 ID\n",
    "    outline = state['outline']    # 생성된 마크다운 아웃라인\n",
    "    \n",
    "    # 에이전트에게 전달할 메시지 템플릿 생성\n",
    "    human_message_prompt = PromptTemplate.from_template(\"\"\"Add block to the page of which id is {page_id}\n",
    "and add the outline as children blocks to the page. \n",
    "Make sure to follow the format of the outline which is in markdown format\n",
    "When you use headings, make sure to follow the format below:\n",
    "{{\n",
    "  //...other keys excluded\n",
    "  \"type\": \"heading_1\", # heading_1, heading_2, heading_3\n",
    "  //...other keys excluded\n",
    "  \"heading_1\": {{\n",
    "    \"rich_text\": [{{\n",
    "      \"type\": \"text\",\n",
    "      \"text\": {{\n",
    "        \"content\": \"Lacinato kale\",\n",
    "        \"link\": null\n",
    "      }}\n",
    "    }}],\n",
    "    \"color\": \"default\",\n",
    "    \"is_toggleable\": false\n",
    "  }}\n",
    "}}\n",
    "\n",
    "The outline is as follows: \n",
    "{outline}\"\"\")\n",
    "    \n",
    "    # 템플릿을 사용하여 실제 메시지 생성\n",
    "    human_message = human_message_prompt.format(page_id=page_id, outline=outline)\n",
    "    \n",
    "    # 에이전트에 메시지를 전달하고 스트림 모드로 실행\n",
    "    stream_generator = agent.astream({\"messages\": [HumanMessage(human_message)]}, stream_mode=\"updates\")\n",
    "    \n",
    "    # 스트림을 처리하여 모든 결과 수집\n",
    "    all_chunks = await process_stream(stream_generator)\n",
    "\n",
    "    # 최종 결과 출력\n",
    "    if all_chunks:\n",
    "        final_result = all_chunks[-1]\n",
    "        print(\"\\nFinal result:\", final_result)"
   ]
  },
  {
   "cell_type": "markdown",
   "id": "466e8b74",
   "metadata": {
    "vscode": {
     "languageId": "raw"
    }
   },
   "source": [
    "## 5. 워크플로우 그래프 구성\n",
    "\n",
    "### 5.1 노드 추가\n",
    "\n",
    "정의한 함수들을 그래프의 노드로 추가합니다. 26번 노트북과 달리 4개의 노드를 사용하여 2단계 업로드 프로세스를 구현합니다.\n"
   ]
  },
  {
   "cell_type": "code",
   "execution_count": null,
   "id": "7704480d",
   "metadata": {},
   "outputs": [
    {
     "data": {
      "text/plain": [
       "<langgraph.graph.state.StateGraph at 0x104fba990>"
      ]
     },
     "execution_count": 12,
     "metadata": {},
     "output_type": "execute_result"
    }
   ],
   "source": [
    "# 워크플로우 그래프에 노드 추가\n",
    "graph_builder.add_node(extract_transcript)    # 트랜스크립트 추출 노드\n",
    "graph_builder.add_node(generate_outline)      # 마크다운 아웃라인 생성 노드\n",
    "graph_builder.add_node(create_notion_page)    # Notion 페이지 생성 노드 (1단계)\n",
    "graph_builder.add_node(upload_to_notion)      # Notion 콘텐츠 업로드 노드 (2단계)"
   ]
  },
  {
   "cell_type": "markdown",
   "id": "d20af1bb",
   "metadata": {
    "vscode": {
     "languageId": "raw"
    }
   },
   "source": [
    "### 5.2 워크플로우 엣지 연결 및 그래프 컴파일\n",
    "\n",
    "노드들 간의 실행 순서를 정의하고 그래프를 컴파일합니다. 26번 노트북과 달리 4단계 프로세스를 구현합니다.\n"
   ]
  },
  {
   "cell_type": "code",
   "execution_count": null,
   "id": "8a5549ad",
   "metadata": {},
   "outputs": [],
   "source": [
    "from langgraph.graph import START, END\n",
    "\n",
    "# 워크플로우 실행 순서 정의 (엣지 연결)\n",
    "graph_builder.add_edge(START, 'extract_transcript')                          # 시작 → 트랜스크립트 추출\n",
    "graph_builder.add_edge('extract_transcript', 'generate_outline')             # 트랜스크립트 추출 → 마크다운 아웃라인 생성\n",
    "graph_builder.add_edge('generate_outline', 'create_notion_page')             # 아웃라인 생성 → Notion 페이지 생성\n",
    "graph_builder.add_edge('create_notion_page', 'upload_to_notion')             # 페이지 생성 → 콘텐츠 업로드\n",
    "graph_builder.add_edge('upload_to_notion', END)                              # 콘텐츠 업로드 → 종료\n",
    "\n",
    "# 그래프 컴파일 (실행 가능한 상태로 변환)\n",
    "graph = graph_builder.compile()"
   ]
  },
  {
   "cell_type": "markdown",
   "id": "c1db1c8c",
   "metadata": {
    "vscode": {
     "languageId": "raw"
    }
   },
   "source": [
    "## 6. 워크플로우 시각화\n",
    "\n",
    "구성된 워크플로우를 시각적으로 확인할 수 있습니다.\n"
   ]
  },
  {
   "cell_type": "code",
   "execution_count": null,
   "id": "e932962e",
   "metadata": {},
   "outputs": [
    {
     "data": {
      "image/png": "[encoded data removed]",
      "text/plain": [
       "<langgraph.graph.state.CompiledStateGraph object at 0x120832570>"
      ]
     },
     "execution_count": 14,
     "metadata": {},
     "output_type": "execute_result"
    }
   ],
   "source": [
    "# 워크플로우 그래프 시각화\n",
    "graph"
   ]
  },
  {
   "cell_type": "markdown",
   "id": "ad4fbe7b",
   "metadata": {
    "vscode": {
     "languageId": "raw"
    }
   },
   "source": [
    "## 7. 워크플로우 실행\n",
    "\n",
    "실제 영상 파일을 처리하여 전체 워크플로우를 비동기적으로 실행합니다.\n",
    "\n",
    "### 실행 파라미터\n",
    "- `file_path`: 처리할 영상 파일 경로\n",
    "- `database_id`: Notion 데이터베이스 ID\n",
    "- `title`: 생성될 페이지 제목\n",
    "\n",
    "### 실행 순서\n",
    "1. 영상 파일에서 음성 추출 및 텍스트 변환\n",
    "2. 추출된 텍스트를 바탕으로 구조화된 마크다운 아웃라인 생성\n",
    "3. Notion 데이터베이스에 새로운 페이지 생성\n",
    "4. ReAct 에이전트를 활용하여 마크다운 아웃라인을 구조화된 블록으로 업로드"
   ]
  },
  {
   "cell_type": "code",
   "execution_count": null,
   "id": "8e47be84",
   "metadata": {},
   "outputs": [
    {
     "name": "stdout",
     "output_type": "stream",
     "text": [
      "Transcribing part 1!\n",
      "Transcribing part 2!\n",
      "{'object': 'page', 'id': '22fe40c4-77c5-8128-af77-fc79e7eb1d98', 'created_time': '2025-07-13T09:34:00.000Z', 'last_edited_time': '2025-07-13T09:34:00.000Z', 'created_by': {'object': 'user', 'id': 'afb99aa5-48e7-4e20-b8ea-e9c736064885'}, 'last_edited_by': {'object': 'user', 'id': 'afb99aa5-48e7-4e20-b8ea-e9c736064885'}, 'cover': None, 'icon': None, 'parent': {'type': 'database_id', 'database_id': '22fe40c4-77c5-8067-98a7-f51edc0ab976'}, 'archived': False, 'in_trash': False, 'properties': {'Title': {'id': 'title', 'type': 'title', 'title': [{'type': 'text', 'text': {'content': 'Naver에서 뉴스 스크랩 에이전트', 'link': None}, 'annotations': {'bold': False, 'italic': False, 'strikethrough': False, 'underline': False, 'code': False, 'color': 'default'}, 'plain_text': 'Naver에서 뉴스 스크랩 에이전트', 'href': None}]}}, 'url': 'https://www.notion.so/Naver-22fe40c477c58128af77fc79e7eb1d98', 'public_url': None, 'request_id': '76a2c2a4-4c43-431c-9efb-c5d4df3b158f'}\n",
      "'agent': '{'tool_calls': [{'id': 'call_44FQausYhx4D4Q4FgcNDvXec', 'function': {'arguments': '{\"block_id\":\"22fe40c4-77c5-8128-af77-fc79e7eb1d98\",\"children\":[{\"type\":\"heading_1\",\"heading_1\":{\"rich_text\":[{\"type\":\"text\",\"text\":{\"content\":\"네이버 뉴스 크롤링 및 분석\",\"link\":null}}],\"color\":\"default\",\"is_toggleable\":false}},{\"type\":\"heading_2\",\"heading_2\":{\"rich_text\":[{\"type\":\"text\",\"text\":{\"content\":\"1. 시작하기\",\"link\":null}}],\"color\":\"default\",\"is_toggleable\":false}},{\"type\":\"bulleted_list_item\",\"bulleted_list_item\":{\"rich_text\":[{\"type\":\"text\",\"text\":{\"content\":\"네이버에서 뉴스를 긁어오는 방법 소개\",\"link\":null}}]}},{\"type\":\"bulleted_list_item\",\"bulleted_list_item\":{\"rich_text\":[{\"type\":\"text\",\"text\":{\"content\":\"무한 스크롤 문제 해결 방법\",\"link\":null}}]}},{\"type\":\"heading_2\",\"heading_2\":{\"rich_text\":[{\"type\":\"text\",\"text\":{\"content\":\"2. 네이버 뉴스 크롤링\",\"link\":null}}],\"color\":\"default\",\"is_toggleable\":false}},{\"type\":\"heading_3\",\"heading_3\":{\"rich_text\":[{\"type\":\"text\",\"text\":{\"content\":\"2.1. 네트워크 탭 활용\",\"link\":null}}],\"color\":\"default\",\"is_toggleable\":false}},{\"type\":\"bulleted_list_item\",\"bulleted_list_item\":{\"rich_text\":[{\"type\":\"text\",\"text\":{\"content\":\"개발자 도구의 네트워크 탭을 사용하여 URL 추출\",\"link\":null}}]}},{\"type\":\"bulleted_list_item\",\"bulleted_list_item\":{\"rich_text\":[{\"type\":\"text\",\"text\":{\"content\":\"`스타트` 쿼리 파라미터를 이용한 페이지네이션\",\"link\":null}}]}},{\"type\":\"heading_3\",\"heading_3\":{\"rich_text\":[{\"type\":\"text\",\"text\":{\"content\":\"2.2. HTTP 요청 설정\",\"link\":null}}],\"color\":\"default\",\"is_toggleable\":false}},{\"type\":\"bulleted_list_item\",\"bulleted_list_item\":{\"rich_text\":[{\"type\":\"text\",\"text\":{\"content\":\"HTTP 노드를 추가하여 URL 설정\",\"link\":null}}]}},{\"type\":\"bulleted_list_item\",\"bulleted_list_item\":{\"rich_text\":[{\"type\":\"text\",\"text\":{\"content\":\"페이지네이션 옵션 설정\",\"link\":null}}]}},{\"type\":\"bulleted_list_item\",\"bulleted_list_item\":{\"rich_text\":[{\"type\":\"text\",\"text\":{\"content\":\"무한 스크롤 문제 해결을 위한 리밋 설정\",\"link\":null}}]}},{\"type\":\"heading_3\",\"heading_3\":{\"rich_text\":[{\"type\":\"text\",\"text\":{\"content\":\"2.3. 크롤링 속도 조절\",\"link\":null}}],\"color\":\"default\",\"is_toggleable\":false}},{\"type\":\"bulleted_list_item\",\"bulleted_list_item\":{\"rich_text\":[{\"type\":\"text\",\"text\":{\"content\":\"`robots.txt` 파일을 통한 크롤링 딜레이 확인\",\"link\":null}}]}},{\"type\":\"bulleted_list_item\",\"bulleted_list_item\":{\"rich_text\":[{\"type\":\"text\",\"text\":{\"content\":\"500 밀리세컨드 인터벌 설정\",\"link\":null}}]}},{\"type\":\"heading_2\",\"heading_2\":{\"rich_text\":[{\"type\":\"text\",\"text\":{\"content\":\"3. HTML 데이터 추출\",\"link\":null}}],\"color\":\"default\",\"is_toggleable\":false}},{\"type\":\"heading_3\",\"heading_3\":{\"rich_text\":[{\"type\":\"text\",\"text\":{\"content\":\"3.1. HTML 노드 활용\",\"link\":null}}],\"color\":\"default\",\"is_toggleable\":false}},{\"type\":\"bulleted_list_item\",\"bulleted_list_item\":{\"rich_text\":[{\"type\":\"text\",\"text\":{\"content\":\"HTML 노드를 사용하여 데이터 추출\",\"link\":null}}]}},{\"type\":\"bulleted_list_item\",\"bulleted_list_item\":{\"rich_text\":[{\"type\":\"text\",\"text\":{\"content\":\"CSS 셀렉터를 통한 제목 및 URL 추출\",\"link\":null}}]}},{\"type\":\"heading_3\",\"heading_3\":{\"rich_text\":[{\"type\":\"text\",\"text\":{\"content\":\"3.2. 데이터 리스트화\",\"link\":null}}],\"color\":\"default\",\"is_toggleable\":false}},{\"type\":\"bulleted_list_item\",\"bulleted_list_item\":{\"rich_text\":[{\"type\":\"text\",\"text\":{\"content\":\"자바스크립트를 사용하여 제목과 URL 리스트 생성\",\"link\":null}}]}},{\"type\":\"heading_2\",\"heading_2\":{\"rich_text\":[{\"type\":\"text\",\"text\":{\"content\":\"4. 뉴스 기사 분석\",\"link\":null}}],\"color\":\"default\",\"is_toggleable\":false}},{\"type\":\"heading_3\",\"heading_3\":{\"rich_text\":[{\"type\":\"text\",\"text\":{\"content\":\"4.1. HTTP 요청을 통한 기사 내용 가져오기\",\"link\":null}}],\"color\":\"default\",\"is_toggleable\":false}},{\"type\":\"bulleted_list_item\",\"bulleted_list_item\":{\"rich_text\":[{\"type\":\"text\",\"text\":{\"content\":\"각 뉴스 URL에 HTTP 요청을 보내 기사 내용 가져오기\",\"link\":null}}]}},{\"type\":\"heading_3\",\"heading_3\":{\"rich_text\":[{\"type\":\"text\",\"text\":{\"content\":\"4.2. HTML 구조 파악 및 데이터 추출\",\"link\":null}}],\"color\":\"default\",\"is_toggleable\":false}},{\"type\":\"bulleted_list_item\",\"bulleted_list_item\":{\"rich_text\":[{\"type\":\"text\",\"text\":{\"content\":\"HTML 바디에서 기사 내용 추출\",\"link\":null}}]}},{\"type\":\"bulleted_list_item\",\"bulleted_list_item\":{\"rich_text\":[{\"type\":\"text\",\"text\":{\"content\":\"다양한 뉴스 사이트에 대한 대응 방법\",\"link\":null}}]}},{\"type\":\"heading_3\",\"heading_3\":{\"rich_text\":[{\"type\":\"text\",\"text\":{\"content\":\"4.3. 감정 분석 및 요약\",\"link\":null}}],\"color\":\"default\",\"is_toggleable\":false}},{\"type\":\"bulleted_list_item\",\"bulleted_list_item\":{\"rich_text\":[{\"type\":\"text\",\"text\":{\"content\":\"LLM을 사용한 감정 분석 및 요약\",\"link\":null}}]}},{\"type\":\"bulleted_list_item\",\"bulleted_list_item\":{\"rich_text\":[{\"type\":\"text\",\"text\":{\"content\":\"관련성 필터링을 통한 기사 선별\",\"link\":null}}]}},{\"type\":\"heading_2\",\"heading_2\":{\"rich_text\":[{\"type\":\"text\",\"text\":{\"content\":\"5. 노션에 데이터 추가\",\"link\":null}}],\"color\":\"default\",\"is_toggleable\":false}},{\"type\":\"heading_3\",\"heading_3\":{\"rich_text\":[{\"type\":\"text\",\"text\":{\"content\":\"5.1. 노션 데이터베이스 설정\",\"link\":null}}],\"color\":\"default\",\"is_toggleable\":false}},{\"type\":\"bulleted_list_item\",\"bulleted_list_item\":{\"rich_text\":[{\"type\":\"text\",\"text\":{\"content\":\"노션 데이터베이스 및 페이지 생성\",\"link\":null}}]}},{\"type\":\"bulleted_list_item\",\"bulleted_list_item\":{\"rich_text\":[{\"type\":\"text\",\"text\":{\"content\":\"노션 인테그레이션 설정\",\"link\":null}}]}},{\"type\":\"heading_3\",\"heading_3\":{\"rich_text\":[{\"type\":\"text\",\"text\":{\"content\":\"5.2. 노션에 데이터 추가\",\"link\":null}}],\"color\":\"default\",\"is_toggleable\":false}},{\"type\":\"bulleted_list_item\",\"bulleted_list_item\":{\"rich_text\":[{\"type\":\"text\",\"text\":{\"content\":\"노션 API를 사용하여 데이터베이스에 뉴스 데이터 추가\",\"link\":null}}]}},{\"type\":\"heading_2\",\"heading_2\":{\"rich_text\":[{\"type\":\"text\",\"text\":{\"content\":\"6. 에러 처리 및 고도화\",\"link\":null}}],\"color\":\"default\",\"is_toggleable\":false}},{\"type\":\"heading_3\",\"heading_3\":{\"rich_text\":[{\"type\":\"text\",\"text\":{\"content\":\"6.1. 에러 처리\",\"link\":null}}],\"color\":\"default\",\"is_toggleable\":false}},{\"type\":\"bulleted_list_item\",\"bulleted_list_item\":{\"rich_text\":[{\"type\":\"text\",\"text\":{\"content\":\"403 에러 등 접근 제한에 대한 처리 방법\",\"link\":null}}]}},{\"type\":\"bulleted_list_item\",\"bulleted_list_item\":{\"rich_text\":[{\"type\":\"text\",\"text\":{\"content\":\"에러 발생 시 스킵 설정\",\"link\":null}}]}},{\"type\":\"heading_3\",\"heading_3\":{\"rich_text\":[{\"type\":\"text\",\"text\":{\"content\":\"6.2. 고도화 계획\",\"link\":null}}],\"color\":\"default\",\"is_toggleable\":false}},{\"type\":\"bulleted_list_item\",\"bulleted_list_item\":{\"rich_text\":[{\"type\":\"text\",\"text\":{\"content\":\"랭그래프를 활용한 뉴스 크롤러 고도화 계획\",\"link\":null}}]}},{\"type\":\"bulleted_list_item\",\"bulleted_list_item\":{\"rich_text\":[{\"type\":\"text\",\"text\":{\"content\":\"파이썬을 활용한 추가 고도화\",\"link\":null}}]}},{\"type\":\"heading_2\",\"heading_2\":{\"rich_text\":[{\"type\":\"text\",\"text\":{\"content\":\"7. 결론\",\"link\":null}}],\"color\":\"default\",\"is_toggleable\":false}},{\"type\":\"bulleted_list_item\",\"bulleted_list_item\":{\"rich_text\":[{\"type\":\"text\",\"text\":{\"content\":\"네이버 뉴스 크롤링 및 분석 과정 요약\",\"link\":null}}]}},{\"type\":\"bulleted_list_item\",\"bulleted_list_item\":{\"rich_text\":[{\"type\":\"text\",\"text\":{\"content\":\"향후 계획 및 개선 방향\",\"link\":null}}]}},{\"type\":\"paragraph\",\"paragraph\":{\"rich_text\":[{\"type\":\"text\",\"text\":{\"content\":\"이 문서는 네이버 뉴스 크롤링 및 분석을 위한 전체적인 과정을 설명하며, 각 단계에서의 문제 해결 방법과 최적화 방안을 제시합니다.\",\"link\":null}}]}}]}', 'name': 'API-patch-block-children'}, 'type': 'function'}], 'refusal': None}'\n",
      "'tools': '{\"object\":\"list\",\"results\":[{\"object\":\"block\",\"id\":\"22fe40c4-77c5-81f0-8e5c-f5b878e60a0a\",\"parent\":{\"type\":\"page_id\",\"page_id\":\"22fe40c4-77c5-8128-af77-fc79e7eb1d98\"},\"created_time\":\"2025-07-13T09:35:00.000Z\",\"last_edited_time\":\"2025-07-13T09:35:00.000Z\",\"created_by\":{\"object\":\"user\",\"id\":\"afb99aa5-48e7-4e20-b8ea-e9c736064885\"},\"last_edited_by\":{\"object\":\"user\",\"id\":\"afb99aa5-48e7-4e20-b8ea-e9c736064885\"},\"has_children\":false,\"archived\":false,\"in_trash\":false,\"type\":\"heading_1\",\"heading_1\":{\"rich_text\":[{\"type\":\"text\",\"text\":{\"content\":\"네이버 뉴스 크롤링 및 분석\",\"link\":null},\"annotations\":{\"bold\":false,\"italic\":false,\"strikethrough\":false,\"underline\":false,\"code\":false,\"color\":\"default\"},\"plain_text\":\"네이버 뉴스 크롤링 및 분석\",\"href\":null}],\"is_toggleable\":false,\"color\":\"default\"}},{\"object\":\"block\",\"id\":\"22fe40c4-77c5-81e0-936d-e9445a160871\",\"parent\":{\"type\":\"page_id\",\"page_id\":\"22fe40c4-77c5-8128-af77-fc79e7eb1d98\"},\"created_time\":\"2025-07-13T09:35:00.000Z\",\"last_edited_time\":\"2025-07-13T09:35:00.000Z\",\"created_by\":{\"object\":\"user\",\"id\":\"afb99aa5-48e7-4e20-b8ea-e9c736064885\"},\"last_edited_by\":{\"object\":\"user\",\"id\":\"afb99aa5-48e7-4e20-b8ea-e9c736064885\"},\"has_children\":false,\"archived\":false,\"in_trash\":false,\"type\":\"heading_2\",\"heading_2\":{\"rich_text\":[{\"type\":\"text\",\"text\":{\"content\":\"1. 시작하기\",\"link\":null},\"annotations\":{\"bold\":false,\"italic\":false,\"strikethrough\":false,\"underline\":false,\"code\":false,\"color\":\"default\"},\"plain_text\":\"1. 시작하기\",\"href\":null}],\"is_toggleable\":false,\"color\":\"default\"}},{\"object\":\"block\",\"id\":\"22fe40c4-77c5-8198-9d29-fc5ee5115f90\",\"parent\":{\"type\":\"page_id\",\"page_id\":\"22fe40c4-77c5-8128-af77-fc79e7eb1d98\"},\"created_time\":\"2025-07-13T09:35:00.000Z\",\"last_edited_time\":\"2025-07-13T09:35:00.000Z\",\"created_by\":{\"object\":\"user\",\"id\":\"afb99aa5-48e7-4e20-b8ea-e9c736064885\"},\"last_edited_by\":{\"object\":\"user\",\"id\":\"afb99aa5-48e7-4e20-b8ea-e9c736064885\"},\"has_children\":false,\"archived\":false,\"in_trash\":false,\"type\":\"bulleted_list_item\",\"bulleted_list_item\":{\"rich_text\":[{\"type\":\"text\",\"text\":{\"content\":\"네이버에서 뉴스를 긁어오는 방법 소개\",\"link\":null},\"annotations\":{\"bold\":false,\"italic\":false,\"strikethrough\":false,\"underline\":false,\"code\":false,\"color\":\"default\"},\"plain_text\":\"네이버에서 뉴스를 긁어오는 방법 소개\",\"href\":null}],\"color\":\"default\"}},{\"object\":\"block\",\"id\":\"22fe40c4-77c5-81e8-b59e-c59ead2004d0\",\"parent\":{\"type\":\"page_id\",\"page_id\":\"22fe40c4-77c5-8128-af77-fc79e7eb1d98\"},\"created_time\":\"2025-07-13T09:35:00.000Z\",\"last_edited_time\":\"2025-07-13T09:35:00.000Z\",\"created_by\":{\"object\":\"user\",\"id\":\"afb99aa5-48e7-4e20-b8ea-e9c736064885\"},\"last_edited_by\":{\"object\":\"user\",\"id\":\"afb99aa5-48e7-4e20-b8ea-e9c736064885\"},\"has_children\":false,\"archived\":false,\"in_trash\":false,\"type\":\"bulleted_list_item\",\"bulleted_list_item\":{\"rich_text\":[{\"type\":\"text\",\"text\":{\"content\":\"무한 스크롤 문제 해결 방법\",\"link\":null},\"annotations\":{\"bold\":false,\"italic\":false,\"strikethrough\":false,\"underline\":false,\"code\":false,\"color\":\"default\"},\"plain_text\":\"무한 스크롤 문제 해결 방법\",\"href\":null}],\"color\":\"default\"}},{\"object\":\"block\",\"id\":\"22fe40c4-77c5-8165-af1d-f46407bf649c\",\"parent\":{\"type\":\"page_id\",\"page_id\":\"22fe40c4-77c5-8128-af77-fc79e7eb1d98\"},\"created_time\":\"2025-07-13T09:35:00.000Z\",\"last_edited_time\":\"2025-07-13T09:35:00.000Z\",\"created_by\":{\"object\":\"user\",\"id\":\"afb99aa5-48e7-4e20-b8ea-e9c736064885\"},\"last_edited_by\":{\"object\":\"user\",\"id\":\"afb99aa5-48e7-4e20-b8ea-e9c736064885\"},\"has_children\":false,\"archived\":false,\"in_trash\":false,\"type\":\"heading_2\",\"heading_2\":{\"rich_text\":[{\"type\":\"text\",\"text\":{\"content\":\"2. 네이버 뉴스 크롤링\",\"link\":null},\"annotations\":{\"bold\":false,\"italic\":false,\"strikethrough\":false,\"underline\":false,\"code\":false,\"color\":\"default\"},\"plain_text\":\"2. 네이버 뉴스 크롤링\",\"href\":null}],\"is_toggleable\":false,\"color\":\"default\"}},{\"object\":\"block\",\"id\":\"22fe40c4-77c5-81e1-a858-d8244a2595d0\",\"parent\":{\"type\":\"page_id\",\"page_id\":\"22fe40c4-77c5-8128-af77-fc79e7eb1d98\"},\"created_time\":\"2025-07-13T09:35:00.000Z\",\"last_edited_time\":\"2025-07-13T09:35:00.000Z\",\"created_by\":{\"object\":\"user\",\"id\":\"afb99aa5-48e7-4e20-b8ea-e9c736064885\"},\"last_edited_by\":{\"object\":\"user\",\"id\":\"afb99aa5-48e7-4e20-b8ea-e9c736064885\"},\"has_children\":false,\"archived\":false,\"in_trash\":false,\"type\":\"heading_3\",\"heading_3\":{\"rich_text\":[{\"type\":\"text\",\"text\":{\"content\":\"2.1. 네트워크 탭 활용\",\"link\":null},\"annotations\":{\"bold\":false,\"italic\":false,\"strikethrough\":false,\"underline\":false,\"code\":false,\"color\":\"default\"},\"plain_text\":\"2.1. 네트워크 탭 활용\",\"href\":null}],\"is_toggleable\":false,\"color\":\"default\"}},{\"object\":\"block\",\"id\":\"22fe40c4-77c5-81d2-82b1-dff235959952\",\"parent\":{\"type\":\"page_id\",\"page_id\":\"22fe40c4-77c5-8128-af77-fc79e7eb1d98\"},\"created_time\":\"2025-07-13T09:35:00.000Z\",\"last_edited_time\":\"2025-07-13T09:35:00.000Z\",\"created_by\":{\"object\":\"user\",\"id\":\"afb99aa5-48e7-4e20-b8ea-e9c736064885\"},\"last_edited_by\":{\"object\":\"user\",\"id\":\"afb99aa5-48e7-4e20-b8ea-e9c736064885\"},\"has_children\":false,\"archived\":false,\"in_trash\":false,\"type\":\"bulleted_list_item\",\"bulleted_list_item\":{\"rich_text\":[{\"type\":\"text\",\"text\":{\"content\":\"개발자 도구의 네트워크 탭을 사용하여 URL 추출\",\"link\":null},\"annotations\":{\"bold\":false,\"italic\":false,\"strikethrough\":false,\"underline\":false,\"code\":false,\"color\":\"default\"},\"plain_text\":\"개발자 도구의 네트워크 탭을 사용하여 URL 추출\",\"href\":null}],\"color\":\"default\"}},{\"object\":\"block\",\"id\":\"22fe40c4-77c5-8144-ba49-d3a025148bff\",\"parent\":{\"type\":\"page_id\",\"page_id\":\"22fe40c4-77c5-8128-af77-fc79e7eb1d98\"},\"created_time\":\"2025-07-13T09:35:00.000Z\",\"last_edited_time\":\"2025-07-13T09:35:00.000Z\",\"created_by\":{\"object\":\"user\",\"id\":\"afb99aa5-48e7-4e20-b8ea-e9c736064885\"},\"last_edited_by\":{\"object\":\"user\",\"id\":\"afb99aa5-48e7-4e20-b8ea-e9c736064885\"},\"has_children\":false,\"archived\":false,\"in_trash\":false,\"type\":\"bulleted_list_item\",\"bulleted_list_item\":{\"rich_text\":[{\"type\":\"text\",\"text\":{\"content\":\"`스타트` 쿼리 파라미터를 이용한 페이지네이션\",\"link\":null},\"annotations\":{\"bold\":false,\"italic\":false,\"strikethrough\":false,\"underline\":false,\"code\":false,\"color\":\"default\"},\"plain_text\":\"`스타트` 쿼리 파라미터를 이용한 페이지네이션\",\"href\":null}],\"color\":\"default\"}},{\"object\":\"block\",\"id\":\"22fe40c4-77c5-8162-919a-e862a202eded\",\"parent\":{\"type\":\"page_id\",\"page_id\":\"22fe40c4-77c5-8128-af77-fc79e7eb1d98\"},\"created_time\":\"2025-07-13T09:35:00.000Z\",\"last_edited_time\":\"2025-07-13T09:35:00.000Z\",\"created_by\":{\"object\":\"user\",\"id\":\"afb99aa5-48e7-4e20-b8ea-e9c736064885\"},\"last_edited_by\":{\"object\":\"user\",\"id\":\"afb99aa5-48e7-4e20-b8ea-e9c736064885\"},\"has_children\":false,\"archived\":false,\"in_trash\":false,\"type\":\"heading_3\",\"heading_3\":{\"rich_text\":[{\"type\":\"text\",\"text\":{\"content\":\"2.2. HTTP 요청 설정\",\"link\":null},\"annotations\":{\"bold\":false,\"italic\":false,\"strikethrough\":false,\"underline\":false,\"code\":false,\"color\":\"default\"},\"plain_text\":\"2.2. HTTP 요청 설정\",\"href\":null}],\"is_toggleable\":false,\"color\":\"default\"}},{\"object\":\"block\",\"id\":\"22fe40c4-77c5-810d-8323-e5057c7db319\",\"parent\":{\"type\":\"page_id\",\"page_id\":\"22fe40c4-77c5-8128-af77-fc79e7eb1d98\"},\"created_time\":\"2025-07-13T09:35:00.000Z\",\"last_edited_time\":\"2025-07-13T09:35:00.000Z\",\"created_by\":{\"object\":\"user\",\"id\":\"afb99aa5-48e7-4e20-b8ea-e9c736064885\"},\"last_edited_by\":{\"object\":\"user\",\"id\":\"afb99aa5-48e7-4e20-b8ea-e9c736064885\"},\"has_children\":false,\"archived\":false,\"in_trash\":false,\"type\":\"bulleted_list_item\",\"bulleted_list_item\":{\"rich_text\":[{\"type\":\"text\",\"text\":{\"content\":\"HTTP 노드를 추가하여 URL 설정\",\"link\":null},\"annotations\":{\"bold\":false,\"italic\":false,\"strikethrough\":false,\"underline\":false,\"code\":false,\"color\":\"default\"},\"plain_text\":\"HTTP 노드를 추가하여 URL 설정\",\"href\":null}],\"color\":\"default\"}},{\"object\":\"block\",\"id\":\"22fe40c4-77c5-8139-b302-dcb53b302214\",\"parent\":{\"type\":\"page_id\",\"page_id\":\"22fe40c4-77c5-8128-af77-fc79e7eb1d98\"},\"created_time\":\"2025-07-13T09:35:00.000Z\",\"last_edited_time\":\"2025-07-13T09:35:00.000Z\",\"created_by\":{\"object\":\"user\",\"id\":\"afb99aa5-48e7-4e20-b8ea-e9c736064885\"},\"last_edited_by\":{\"object\":\"user\",\"id\":\"afb99aa5-48e7-4e20-b8ea-e9c736064885\"},\"has_children\":false,\"archived\":false,\"in_trash\":false,\"type\":\"bulleted_list_item\",\"bulleted_list_item\":{\"rich_text\":[{\"type\":\"text\",\"text\":{\"content\":\"페이지네이션 옵션 설정\",\"link\":null},\"annotations\":{\"bold\":false,\"italic\":false,\"strikethrough\":false,\"underline\":false,\"code\":false,\"color\":\"default\"},\"plain_text\":\"페이지네이션 옵션 설정\",\"href\":null}],\"color\":\"default\"}},{\"object\":\"block\",\"id\":\"22fe40c4-77c5-81df-a855-da0b3bd87eb1\",\"parent\":{\"type\":\"page_id\",\"page_id\":\"22fe40c4-77c5-8128-af77-fc79e7eb1d98\"},\"created_time\":\"2025-07-13T09:35:00.000Z\",\"last_edited_time\":\"2025-07-13T09:35:00.000Z\",\"created_by\":{\"object\":\"user\",\"id\":\"afb99aa5-48e7-4e20-b8ea-e9c736064885\"},\"last_edited_by\":{\"object\":\"user\",\"id\":\"afb99aa5-48e7-4e20-b8ea-e9c736064885\"},\"has_children\":false,\"archived\":false,\"in_trash\":false,\"type\":\"bulleted_list_item\",\"bulleted_list_item\":{\"rich_text\":[{\"type\":\"text\",\"text\":{\"content\":\"무한 스크롤 문제 해결을 위한 리밋 설정\",\"link\":null},\"annotations\":{\"bold\":false,\"italic\":false,\"strikethrough\":false,\"underline\":false,\"code\":false,\"color\":\"default\"},\"plain_text\":\"무한 스크롤 문제 해결을 위한 리밋 설정\",\"href\":null}],\"color\":\"default\"}},{\"object\":\"block\",\"id\":\"22fe40c4-77c5-813a-af6d-e3ff91fb6987\",\"parent\":{\"type\":\"page_id\",\"page_id\":\"22fe40c4-77c5-8128-af77-fc79e7eb1d98\"},\"created_time\":\"2025-07-13T09:35:00.000Z\",\"last_edited_time\":\"2025-07-13T09:35:00.000Z\",\"created_by\":{\"object\":\"user\",\"id\":\"afb99aa5-48e7-4e20-b8ea-e9c736064885\"},\"last_edited_by\":{\"object\":\"user\",\"id\":\"afb99aa5-48e7-4e20-b8ea-e9c736064885\"},\"has_children\":false,\"archived\":false,\"in_trash\":false,\"type\":\"heading_3\",\"heading_3\":{\"rich_text\":[{\"type\":\"text\",\"text\":{\"content\":\"2.3. 크롤링 속도 조절\",\"link\":null},\"annotations\":{\"bold\":false,\"italic\":false,\"strikethrough\":false,\"underline\":false,\"code\":false,\"color\":\"default\"},\"plain_text\":\"2.3. 크롤링 속도 조절\",\"href\":null}],\"is_toggleable\":false,\"color\":\"default\"}},{\"object\":\"block\",\"id\":\"22fe40c4-77c5-819d-ac75-def616bcc6cd\",\"parent\":{\"type\":\"page_id\",\"page_id\":\"22fe40c4-77c5-8128-af77-fc79e7eb1d98\"},\"created_time\":\"2025-07-13T09:35:00.000Z\",\"last_edited_time\":\"2025-07-13T09:35:00.000Z\",\"created_by\":{\"object\":\"user\",\"id\":\"afb99aa5-48e7-4e20-b8ea-e9c736064885\"},\"last_edited_by\":{\"object\":\"user\",\"id\":\"afb99aa5-48e7-4e20-b8ea-e9c736064885\"},\"has_children\":false,\"archived\":false,\"in_trash\":false,\"type\":\"bulleted_list_item\",\"bulleted_list_item\":{\"rich_text\":[{\"type\":\"text\",\"text\":{\"content\":\"`robots.txt` 파일을 통한 크롤링 딜레이 확인\",\"link\":null},\"annotations\":{\"bold\":false,\"italic\":false,\"strikethrough\":false,\"underline\":false,\"code\":false,\"color\":\"default\"},\"plain_text\":\"`robots.txt` 파일을 통한 크롤링 딜레이 확인\",\"href\":null}],\"color\":\"default\"}},{\"object\":\"block\",\"id\":\"22fe40c4-77c5-815e-b30c-eeecb12f8240\",\"parent\":{\"type\":\"page_id\",\"page_id\":\"22fe40c4-77c5-8128-af77-fc79e7eb1d98\"},\"created_time\":\"2025-07-13T09:35:00.000Z\",\"last_edited_time\":\"2025-07-13T09:35:00.000Z\",\"created_by\":{\"object\":\"user\",\"id\":\"afb99aa5-48e7-4e20-b8ea-e9c736064885\"},\"last_edited_by\":{\"object\":\"user\",\"id\":\"afb99aa5-48e7-4e20-b8ea-e9c736064885\"},\"has_children\":false,\"archived\":false,\"in_trash\":false,\"type\":\"bulleted_list_item\",\"bulleted_list_item\":{\"rich_text\":[{\"type\":\"text\",\"text\":{\"content\":\"500 밀리세컨드 인터벌 설정\",\"link\":null},\"annotations\":{\"bold\":false,\"italic\":false,\"strikethrough\":false,\"underline\":false,\"code\":false,\"color\":\"default\"},\"plain_text\":\"500 밀리세컨드 인터벌 설정\",\"href\":null}],\"color\":\"default\"}},{\"object\":\"block\",\"id\":\"22fe40c4-77c5-8155-b0a2-c481dd4d0f39\",\"parent\":{\"type\":\"page_id\",\"page_id\":\"22fe40c4-77c5-8128-af77-fc79e7eb1d98\"},\"created_time\":\"2025-07-13T09:35:00.000Z\",\"last_edited_time\":\"2025-07-13T09:35:00.000Z\",\"created_by\":{\"object\":\"user\",\"id\":\"afb99aa5-48e7-4e20-b8ea-e9c736064885\"},\"last_edited_by\":{\"object\":\"user\",\"id\":\"afb99aa5-48e7-4e20-b8ea-e9c736064885\"},\"has_children\":false,\"archived\":false,\"in_trash\":false,\"type\":\"heading_2\",\"heading_2\":{\"rich_text\":[{\"type\":\"text\",\"text\":{\"content\":\"3. HTML 데이터 추출\",\"link\":null},\"annotations\":{\"bold\":false,\"italic\":false,\"strikethrough\":false,\"underline\":false,\"code\":false,\"color\":\"default\"},\"plain_text\":\"3. HTML 데이터 추출\",\"href\":null}],\"is_toggleable\":false,\"color\":\"default\"}},{\"object\":\"block\",\"id\":\"22fe40c4-77c5-8158-b40f-c0f00382ca2b\",\"parent\":{\"type\":\"page_id\",\"page_id\":\"22fe40c4-77c5-8128-af77-fc79e7eb1d98\"},\"created_time\":\"2025-07-13T09:35:00.000Z\",\"last_edited_time\":\"2025-07-13T09:35:00.000Z\",\"created_by\":{\"object\":\"user\",\"id\":\"afb99aa5-48e7-4e20-b8ea-e9c736064885\"},\"last_edited_by\":{\"object\":\"user\",\"id\":\"afb99aa5-48e7-4e20-b8ea-e9c736064885\"},\"has_children\":false,\"archived\":false,\"in_trash\":false,\"type\":\"heading_3\",\"heading_3\":{\"rich_text\":[{\"type\":\"text\",\"text\":{\"content\":\"3.1. HTML 노드 활용\",\"link\":null},\"annotations\":{\"bold\":false,\"italic\":false,\"strikethrough\":false,\"underline\":false,\"code\":false,\"color\":\"default\"},\"plain_text\":\"3.1. HTML 노드 활용\",\"href\":null}],\"is_toggleable\":false,\"color\":\"default\"}},{\"object\":\"block\",\"id\":\"22fe40c4-77c5-81b2-a26f-c56145821927\",\"parent\":{\"type\":\"page_id\",\"page_id\":\"22fe40c4-77c5-8128-af77-fc79e7eb1d98\"},\"created_time\":\"2025-07-13T09:35:00.000Z\",\"last_edited_time\":\"2025-07-13T09:35:00.000Z\",\"created_by\":{\"object\":\"user\",\"id\":\"afb99aa5-48e7-4e20-b8ea-e9c736064885\"},\"last_edited_by\":{\"object\":\"user\",\"id\":\"afb99aa5-48e7-4e20-b8ea-e9c736064885\"},\"has_children\":false,\"archived\":false,\"in_trash\":false,\"type\":\"bulleted_list_item\",\"bulleted_list_item\":{\"rich_text\":[{\"type\":\"text\",\"text\":{\"content\":\"HTML 노드를 사용하여 데이터 추출\",\"link\":null},\"annotations\":{\"bold\":false,\"italic\":false,\"strikethrough\":false,\"underline\":false,\"code\":false,\"color\":\"default\"},\"plain_text\":\"HTML 노드를 사용하여 데이터 추출\",\"href\":null}],\"color\":\"default\"}},{\"object\":\"block\",\"id\":\"22fe40c4-77c5-81c1-97a5-f48be17d7f40\",\"parent\":{\"type\":\"page_id\",\"page_id\":\"22fe40c4-77c5-8128-af77-fc79e7eb1d98\"},\"created_time\":\"2025-07-13T09:35:00.000Z\",\"last_edited_time\":\"2025-07-13T09:35:00.000Z\",\"created_by\":{\"object\":\"user\",\"id\":\"afb99aa5-48e7-4e20-b8ea-e9c736064885\"},\"last_edited_by\":{\"object\":\"user\",\"id\":\"afb99aa5-48e7-4e20-b8ea-e9c736064885\"},\"has_children\":false,\"archived\":false,\"in_trash\":false,\"type\":\"bulleted_list_item\",\"bulleted_list_item\":{\"rich_text\":[{\"type\":\"text\",\"text\":{\"content\":\"CSS 셀렉터를 통한 제목 및 URL 추출\",\"link\":null},\"annotations\":{\"bold\":false,\"italic\":false,\"strikethrough\":false,\"underline\":false,\"code\":false,\"color\":\"default\"},\"plain_text\":\"CSS 셀렉터를 통한 제목 및 URL 추출\",\"href\":null}],\"color\":\"default\"}},{\"object\":\"block\",\"id\":\"22fe40c4-77c5-81d9-8a5d-c309fe10f42b\",\"parent\":{\"type\":\"page_id\",\"page_id\":\"22fe40c4-77c5-8128-af77-fc79e7eb1d98\"},\"created_time\":\"2025-07-13T09:35:00.000Z\",\"last_edited_time\":\"2025-07-13T09:35:00.000Z\",\"created_by\":{\"object\":\"user\",\"id\":\"afb99aa5-48e7-4e20-b8ea-e9c736064885\"},\"last_edited_by\":{\"object\":\"user\",\"id\":\"afb99aa5-48e7-4e20-b8ea-e9c736064885\"},\"has_children\":false,\"archived\":false,\"in_trash\":false,\"type\":\"heading_3\",\"heading_3\":{\"rich_text\":[{\"type\":\"text\",\"text\":{\"content\":\"3.2. 데이터 리스트화\",\"link\":null},\"annotations\":{\"bold\":false,\"italic\":false,\"strikethrough\":false,\"underline\":false,\"code\":false,\"color\":\"default\"},\"plain_text\":\"3.2. 데이터 리스트화\",\"href\":null}],\"is_toggleable\":false,\"color\":\"default\"}},{\"object\":\"block\",\"id\":\"22fe40c4-77c5-815e-a02a-cf053423eb5d\",\"parent\":{\"type\":\"page_id\",\"page_id\":\"22fe40c4-77c5-8128-af77-fc79e7eb1d98\"},\"created_time\":\"2025-07-13T09:35:00.000Z\",\"last_edited_time\":\"2025-07-13T09:35:00.000Z\",\"created_by\":{\"object\":\"user\",\"id\":\"afb99aa5-48e7-4e20-b8ea-e9c736064885\"},\"last_edited_by\":{\"object\":\"user\",\"id\":\"afb99aa5-48e7-4e20-b8ea-e9c736064885\"},\"has_children\":false,\"archived\":false,\"in_trash\":false,\"type\":\"bulleted_list_item\",\"bulleted_list_item\":{\"rich_text\":[{\"type\":\"text\",\"text\":{\"content\":\"자바스크립트를 사용하여 제목과 URL 리스트 생성\",\"link\":null},\"annotations\":{\"bold\":false,\"italic\":false,\"strikethrough\":false,\"underline\":false,\"code\":false,\"color\":\"default\"},\"plain_text\":\"자바스크립트를 사용하여 제목과 URL 리스트 생성\",\"href\":null}],\"color\":\"default\"}},{\"object\":\"block\",\"id\":\"22fe40c4-77c5-819b-b3ea-f64d8582e928\",\"parent\":{\"type\":\"page_id\",\"page_id\":\"22fe40c4-77c5-8128-af77-fc79e7eb1d98\"},\"created_time\":\"2025-07-13T09:35:00.000Z\",\"last_edited_time\":\"2025-07-13T09:35:00.000Z\",\"created_by\":{\"object\":\"user\",\"id\":\"afb99aa5-48e7-4e20-b8ea-e9c736064885\"},\"last_edited_by\":{\"object\":\"user\",\"id\":\"afb99aa5-48e7-4e20-b8ea-e9c736064885\"},\"has_children\":false,\"archived\":false,\"in_trash\":false,\"type\":\"heading_2\",\"heading_2\":{\"rich_text\":[{\"type\":\"text\",\"text\":{\"content\":\"4. 뉴스 기사 분석\",\"link\":null},\"annotations\":{\"bold\":false,\"italic\":false,\"strikethrough\":false,\"underline\":false,\"code\":false,\"color\":\"default\"},\"plain_text\":\"4. 뉴스 기사 분석\",\"href\":null}],\"is_toggleable\":false,\"color\":\"default\"}},{\"object\":\"block\",\"id\":\"22fe40c4-77c5-81a5-a38d-cec41b206480\",\"parent\":{\"type\":\"page_id\",\"page_id\":\"22fe40c4-77c5-8128-af77-fc79e7eb1d98\"},\"created_time\":\"2025-07-13T09:35:00.000Z\",\"last_edited_time\":\"2025-07-13T09:35:00.000Z\",\"created_by\":{\"object\":\"user\",\"id\":\"afb99aa5-48e7-4e20-b8ea-e9c736064885\"},\"last_edited_by\":{\"object\":\"user\",\"id\":\"afb99aa5-48e7-4e20-b8ea-e9c736064885\"},\"has_children\":false,\"archived\":false,\"in_trash\":false,\"type\":\"heading_3\",\"heading_3\":{\"rich_text\":[{\"type\":\"text\",\"text\":{\"content\":\"4.1. HTTP 요청을 통한 기사 내용 가져오기\",\"link\":null},\"annotations\":{\"bold\":false,\"italic\":false,\"strikethrough\":false,\"underline\":false,\"code\":false,\"color\":\"default\"},\"plain_text\":\"4.1. HTTP 요청을 통한 기사 내용 가져오기\",\"href\":null}],\"is_toggleable\":false,\"color\":\"default\"}},{\"object\":\"block\",\"id\":\"22fe40c4-77c5-81e3-8c2f-d3c402cc102e\",\"parent\":{\"type\":\"page_id\",\"page_id\":\"22fe40c4-77c5-8128-af77-fc79e7eb1d98\"},\"created_time\":\"2025-07-13T09:35:00.000Z\",\"last_edited_time\":\"2025-07-13T09:35:00.000Z\",\"created_by\":{\"object\":\"user\",\"id\":\"afb99aa5-48e7-4e20-b8ea-e9c736064885\"},\"last_edited_by\":{\"object\":\"user\",\"id\":\"afb99aa5-48e7-4e20-b8ea-e9c736064885\"},\"has_children\":false,\"archived\":false,\"in_trash\":false,\"type\":\"bulleted_list_item\",\"bulleted_list_item\":{\"rich_text\":[{\"type\":\"text\",\"text\":{\"content\":\"각 뉴스 URL에 HTTP 요청을 보내 기사 내용 가져오기\",\"link\":null},\"annotations\":{\"bold\":false,\"italic\":false,\"strikethrough\":false,\"underline\":false,\"code\":false,\"color\":\"default\"},\"plain_text\":\"각 뉴스 URL에 HTTP 요청을 보내 기사 내용 가져오기\",\"href\":null}],\"color\":\"default\"}},{\"object\":\"block\",\"id\":\"22fe40c4-77c5-81da-91b7-ef2b6c78e47b\",\"parent\":{\"type\":\"page_id\",\"page_id\":\"22fe40c4-77c5-8128-af77-fc79e7eb1d98\"},\"created_time\":\"2025-07-13T09:35:00.000Z\",\"last_edited_time\":\"2025-07-13T09:35:00.000Z\",\"created_by\":{\"object\":\"user\",\"id\":\"afb99aa5-48e7-4e20-b8ea-e9c736064885\"},\"last_edited_by\":{\"object\":\"user\",\"id\":\"afb99aa5-48e7-4e20-b8ea-e9c736064885\"},\"has_children\":false,\"archived\":false,\"in_trash\":false,\"type\":\"heading_3\",\"heading_3\":{\"rich_text\":[{\"type\":\"text\",\"text\":{\"content\":\"4.2. HTML 구조 파악 및 데이터 추출\",\"link\":null},\"annotations\":{\"bold\":false,\"italic\":false,\"strikethrough\":false,\"underline\":false,\"code\":false,\"color\":\"default\"},\"plain_text\":\"4.2. HTML 구조 파악 및 데이터 추출\",\"href\":null}],\"is_toggleable\":false,\"color\":\"default\"}},{\"object\":\"block\",\"id\":\"22fe40c4-77c5-81c4-9bb7-c6beb7a77dd6\",\"parent\":{\"type\":\"page_id\",\"page_id\":\"22fe40c4-77c5-8128-af77-fc79e7eb1d98\"},\"created_time\":\"2025-07-13T09:35:00.000Z\",\"last_edited_time\":\"2025-07-13T09:35:00.000Z\",\"created_by\":{\"object\":\"user\",\"id\":\"afb99aa5-48e7-4e20-b8ea-e9c736064885\"},\"last_edited_by\":{\"object\":\"user\",\"id\":\"afb99aa5-48e7-4e20-b8ea-e9c736064885\"},\"has_children\":false,\"archived\":false,\"in_trash\":false,\"type\":\"bulleted_list_item\",\"bulleted_list_item\":{\"rich_text\":[{\"type\":\"text\",\"text\":{\"content\":\"HTML 바디에서 기사 내용 추출\",\"link\":null},\"annotations\":{\"bold\":false,\"italic\":false,\"strikethrough\":false,\"underline\":false,\"code\":false,\"color\":\"default\"},\"plain_text\":\"HTML 바디에서 기사 내용 추출\",\"href\":null}],\"color\":\"default\"}},{\"object\":\"block\",\"id\":\"22fe40c4-77c5-8120-a208-e672ffa08ed1\",\"parent\":{\"type\":\"page_id\",\"page_id\":\"22fe40c4-77c5-8128-af77-fc79e7eb1d98\"},\"created_time\":\"2025-07-13T09:35:00.000Z\",\"last_edited_time\":\"2025-07-13T09:35:00.000Z\",\"created_by\":{\"object\":\"user\",\"id\":\"afb99aa5-48e7-4e20-b8ea-e9c736064885\"},\"last_edited_by\":{\"object\":\"user\",\"id\":\"afb99aa5-48e7-4e20-b8ea-e9c736064885\"},\"has_children\":false,\"archived\":false,\"in_trash\":false,\"type\":\"bulleted_list_item\",\"bulleted_list_item\":{\"rich_text\":[{\"type\":\"text\",\"text\":{\"content\":\"다양한 뉴스 사이트에 대한 대응 방법\",\"link\":null},\"annotations\":{\"bold\":false,\"italic\":false,\"strikethrough\":false,\"underline\":false,\"code\":false,\"color\":\"default\"},\"plain_text\":\"다양한 뉴스 사이트에 대한 대응 방법\",\"href\":null}],\"color\":\"default\"}},{\"object\":\"block\",\"id\":\"22fe40c4-77c5-81b4-821b-e28585eb68bf\",\"parent\":{\"type\":\"page_id\",\"page_id\":\"22fe40c4-77c5-8128-af77-fc79e7eb1d98\"},\"created_time\":\"2025-07-13T09:35:00.000Z\",\"last_edited_time\":\"2025-07-13T09:35:00.000Z\",\"created_by\":{\"object\":\"user\",\"id\":\"afb99aa5-48e7-4e20-b8ea-e9c736064885\"},\"last_edited_by\":{\"object\":\"user\",\"id\":\"afb99aa5-48e7-4e20-b8ea-e9c736064885\"},\"has_children\":false,\"archived\":false,\"in_trash\":false,\"type\":\"heading_3\",\"heading_3\":{\"rich_text\":[{\"type\":\"text\",\"text\":{\"content\":\"4.3. 감정 분석 및 요약\",\"link\":null},\"annotations\":{\"bold\":false,\"italic\":false,\"strikethrough\":false,\"underline\":false,\"code\":false,\"color\":\"default\"},\"plain_text\":\"4.3. 감정 분석 및 요약\",\"href\":null}],\"is_toggleable\":false,\"color\":\"default\"}},{\"object\":\"block\",\"id\":\"22fe40c4-77c5-8164-b52c-daf498c70862\",\"parent\":{\"type\":\"page_id\",\"page_id\":\"22fe40c4-77c5-8128-af77-fc79e7eb1d98\"},\"created_time\":\"2025-07-13T09:35:00.000Z\",\"last_edited_time\":\"2025-07-13T09:35:00.000Z\",\"created_by\":{\"object\":\"user\",\"id\":\"afb99aa5-48e7-4e20-b8ea-e9c736064885\"},\"last_edited_by\":{\"object\":\"user\",\"id\":\"afb99aa5-48e7-4e20-b8ea-e9c736064885\"},\"has_children\":false,\"archived\":false,\"in_trash\":false,\"type\":\"bulleted_list_item\",\"bulleted_list_item\":{\"rich_text\":[{\"type\":\"text\",\"text\":{\"content\":\"LLM을 사용한 감정 분석 및 요약\",\"link\":null},\"annotations\":{\"bold\":false,\"italic\":false,\"strikethrough\":false,\"underline\":false,\"code\":false,\"color\":\"default\"},\"plain_text\":\"LLM을 사용한 감정 분석 및 요약\",\"href\":null}],\"color\":\"default\"}},{\"object\":\"block\",\"id\":\"22fe40c4-77c5-814b-b3d2-f324df570686\",\"parent\":{\"type\":\"page_id\",\"page_id\":\"22fe40c4-77c5-8128-af77-fc79e7eb1d98\"},\"created_time\":\"2025-07-13T09:35:00.000Z\",\"last_edited_time\":\"2025-07-13T09:35:00.000Z\",\"created_by\":{\"object\":\"user\",\"id\":\"afb99aa5-48e7-4e20-b8ea-e9c736064885\"},\"last_edited_by\":{\"object\":\"user\",\"id\":\"afb99aa5-48e7-4e20-b8ea-e9c736064885\"},\"has_children\":false,\"archived\":false,\"in_trash\":false,\"type\":\"bulleted_list_item\",\"bulleted_list_item\":{\"rich_text\":[{\"type\":\"text\",\"text\":{\"content\":\"관련성 필터링을 통한 기사 선별\",\"link\":null},\"annotations\":{\"bold\":false,\"italic\":false,\"strikethrough\":false,\"underline\":false,\"code\":false,\"color\":\"default\"},\"plain_text\":\"관련성 필터링을 통한 기사 선별\",\"href\":null}],\"color\":\"default\"}},{\"object\":\"block\",\"id\":\"22fe40c4-77c5-81fe-9183-c641ab039a07\",\"parent\":{\"type\":\"page_id\",\"page_id\":\"22fe40c4-77c5-8128-af77-fc79e7eb1d98\"},\"created_time\":\"2025-07-13T09:35:00.000Z\",\"last_edited_time\":\"2025-07-13T09:35:00.000Z\",\"created_by\":{\"object\":\"user\",\"id\":\"afb99aa5-48e7-4e20-b8ea-e9c736064885\"},\"last_edited_by\":{\"object\":\"user\",\"id\":\"afb99aa5-48e7-4e20-b8ea-e9c736064885\"},\"has_children\":false,\"archived\":false,\"in_trash\":false,\"type\":\"heading_2\",\"heading_2\":{\"rich_text\":[{\"type\":\"text\",\"text\":{\"content\":\"5. 노션에 데이터 추가\",\"link\":null},\"annotations\":{\"bold\":false,\"italic\":false,\"strikethrough\":false,\"underline\":false,\"code\":false,\"color\":\"default\"},\"plain_text\":\"5. 노션에 데이터 추가\",\"href\":null}],\"is_toggleable\":false,\"color\":\"default\"}},{\"object\":\"block\",\"id\":\"22fe40c4-77c5-818f-ac73-f9f54f567c94\",\"parent\":{\"type\":\"page_id\",\"page_id\":\"22fe40c4-77c5-8128-af77-fc79e7eb1d98\"},\"created_time\":\"2025-07-13T09:35:00.000Z\",\"last_edited_time\":\"2025-07-13T09:35:00.000Z\",\"created_by\":{\"object\":\"user\",\"id\":\"afb99aa5-48e7-4e20-b8ea-e9c736064885\"},\"last_edited_by\":{\"object\":\"user\",\"id\":\"afb99aa5-48e7-4e20-b8ea-e9c736064885\"},\"has_children\":false,\"archived\":false,\"in_trash\":false,\"type\":\"heading_3\",\"heading_3\":{\"rich_text\":[{\"type\":\"text\",\"text\":{\"content\":\"5.1. 노션 데이터베이스 설정\",\"link\":null},\"annotations\":{\"bold\":false,\"italic\":false,\"strikethrough\":false,\"underline\":false,\"code\":false,\"color\":\"default\"},\"plain_text\":\"5.1. 노션 데이터베이스 설정\",\"href\":null}],\"is_toggleable\":false,\"color\":\"default\"}},{\"object\":\"block\",\"id\":\"22fe40c4-77c5-812f-a66b-d1fa5e88509e\",\"parent\":{\"type\":\"page_id\",\"page_id\":\"22fe40c4-77c5-8128-af77-fc79e7eb1d98\"},\"created_time\":\"2025-07-13T09:35:00.000Z\",\"last_edited_time\":\"2025-07-13T09:35:00.000Z\",\"created_by\":{\"object\":\"user\",\"id\":\"afb99aa5-48e7-4e20-b8ea-e9c736064885\"},\"last_edited_by\":{\"object\":\"user\",\"id\":\"afb99aa5-48e7-4e20-b8ea-e9c736064885\"},\"has_children\":false,\"archived\":false,\"in_trash\":false,\"type\":\"bulleted_list_item\",\"bulleted_list_item\":{\"rich_text\":[{\"type\":\"text\",\"text\":{\"content\":\"노션 데이터베이스 및 페이지 생성\",\"link\":null},\"annotations\":{\"bold\":false,\"italic\":false,\"strikethrough\":false,\"underline\":false,\"code\":false,\"color\":\"default\"},\"plain_text\":\"노션 데이터베이스 및 페이지 생성\",\"href\":null}],\"color\":\"default\"}},{\"object\":\"block\",\"id\":\"22fe40c4-77c5-81e2-9940-c9a1ebd3951e\",\"parent\":{\"type\":\"page_id\",\"page_id\":\"22fe40c4-77c5-8128-af77-fc79e7eb1d98\"},\"created_time\":\"2025-07-13T09:35:00.000Z\",\"last_edited_time\":\"2025-07-13T09:35:00.000Z\",\"created_by\":{\"object\":\"user\",\"id\":\"afb99aa5-48e7-4e20-b8ea-e9c736064885\"},\"last_edited_by\":{\"object\":\"user\",\"id\":\"afb99aa5-48e7-4e20-b8ea-e9c736064885\"},\"has_children\":false,\"archived\":false,\"in_trash\":false,\"type\":\"bulleted_list_item\",\"bulleted_list_item\":{\"rich_text\":[{\"type\":\"text\",\"text\":{\"content\":\"노션 인테그레이션 설정\",\"link\":null},\"annotations\":{\"bold\":false,\"italic\":false,\"strikethrough\":false,\"underline\":false,\"code\":false,\"color\":\"default\"},\"plain_text\":\"노션 인테그레이션 설정\",\"href\":null}],\"color\":\"default\"}},{\"object\":\"block\",\"id\":\"22fe40c4-77c5-81c4-a45a-d9c4aefb7e41\",\"parent\":{\"type\":\"page_id\",\"page_id\":\"22fe40c4-77c5-8128-af77-fc79e7eb1d98\"},\"created_time\":\"2025-07-13T09:35:00.000Z\",\"last_edited_time\":\"2025-07-13T09:35:00.000Z\",\"created_by\":{\"object\":\"user\",\"id\":\"afb99aa5-48e7-4e20-b8ea-e9c736064885\"},\"last_edited_by\":{\"object\":\"user\",\"id\":\"afb99aa5-48e7-4e20-b8ea-e9c736064885\"},\"has_children\":false,\"archived\":false,\"in_trash\":false,\"type\":\"heading_3\",\"heading_3\":{\"rich_text\":[{\"type\":\"text\",\"text\":{\"content\":\"5.2. 노션에 데이터 추가\",\"link\":null},\"annotations\":{\"bold\":false,\"italic\":false,\"strikethrough\":false,\"underline\":false,\"code\":false,\"color\":\"default\"},\"plain_text\":\"5.2. 노션에 데이터 추가\",\"href\":null}],\"is_toggleable\":false,\"color\":\"default\"}},{\"object\":\"block\",\"id\":\"22fe40c4-77c5-8197-85b4-e40eba6fc959\",\"parent\":{\"type\":\"page_id\",\"page_id\":\"22fe40c4-77c5-8128-af77-fc79e7eb1d98\"},\"created_time\":\"2025-07-13T09:35:00.000Z\",\"last_edited_time\":\"2025-07-13T09:35:00.000Z\",\"created_by\":{\"object\":\"user\",\"id\":\"afb99aa5-48e7-4e20-b8ea-e9c736064885\"},\"last_edited_by\":{\"object\":\"user\",\"id\":\"afb99aa5-48e7-4e20-b8ea-e9c736064885\"},\"has_children\":false,\"archived\":false,\"in_trash\":false,\"type\":\"bulleted_list_item\",\"bulleted_list_item\":{\"rich_text\":[{\"type\":\"text\",\"text\":{\"content\":\"노션 API를 사용하여 데이터베이스에 뉴스 데이터 추가\",\"link\":null},\"annotations\":{\"bold\":false,\"italic\":false,\"strikethrough\":false,\"underline\":false,\"code\":false,\"color\":\"default\"},\"plain_text\":\"노션 API를 사용하여 데이터베이스에 뉴스 데이터 추가\",\"href\":null}],\"color\":\"default\"}},{\"object\":\"block\",\"id\":\"22fe40c4-77c5-8182-ade1-d8e4300c82e9\",\"parent\":{\"type\":\"page_id\",\"page_id\":\"22fe40c4-77c5-8128-af77-fc79e7eb1d98\"},\"created_time\":\"2025-07-13T09:35:00.000Z\",\"last_edited_time\":\"2025-07-13T09:35:00.000Z\",\"created_by\":{\"object\":\"user\",\"id\":\"afb99aa5-48e7-4e20-b8ea-e9c736064885\"},\"last_edited_by\":{\"object\":\"user\",\"id\":\"afb99aa5-48e7-4e20-b8ea-e9c736064885\"},\"has_children\":false,\"archived\":false,\"in_trash\":false,\"type\":\"heading_2\",\"heading_2\":{\"rich_text\":[{\"type\":\"text\",\"text\":{\"content\":\"6. 에러 처리 및 고도화\",\"link\":null},\"annotations\":{\"bold\":false,\"italic\":false,\"strikethrough\":false,\"underline\":false,\"code\":false,\"color\":\"default\"},\"plain_text\":\"6. 에러 처리 및 고도화\",\"href\":null}],\"is_toggleable\":false,\"color\":\"default\"}},{\"object\":\"block\",\"id\":\"22fe40c4-77c5-8107-8334-f4d8c90574ca\",\"parent\":{\"type\":\"page_id\",\"page_id\":\"22fe40c4-77c5-8128-af77-fc79e7eb1d98\"},\"created_time\":\"2025-07-13T09:35:00.000Z\",\"last_edited_time\":\"2025-07-13T09:35:00.000Z\",\"created_by\":{\"object\":\"user\",\"id\":\"afb99aa5-48e7-4e20-b8ea-e9c736064885\"},\"last_edited_by\":{\"object\":\"user\",\"id\":\"afb99aa5-48e7-4e20-b8ea-e9c736064885\"},\"has_children\":false,\"archived\":false,\"in_trash\":false,\"type\":\"heading_3\",\"heading_3\":{\"rich_text\":[{\"type\":\"text\",\"text\":{\"content\":\"6.1. 에러 처리\",\"link\":null},\"annotations\":{\"bold\":false,\"italic\":false,\"strikethrough\":false,\"underline\":false,\"code\":false,\"color\":\"default\"},\"plain_text\":\"6.1. 에러 처리\",\"href\":null}],\"is_toggleable\":false,\"color\":\"default\"}},{\"object\":\"block\",\"id\":\"22fe40c4-77c5-81b5-83e5-c6c23f597f91\",\"parent\":{\"type\":\"page_id\",\"page_id\":\"22fe40c4-77c5-8128-af77-fc79e7eb1d98\"},\"created_time\":\"2025-07-13T09:35:00.000Z\",\"last_edited_time\":\"2025-07-13T09:35:00.000Z\",\"created_by\":{\"object\":\"user\",\"id\":\"afb99aa5-48e7-4e20-b8ea-e9c736064885\"},\"last_edited_by\":{\"object\":\"user\",\"id\":\"afb99aa5-48e7-4e20-b8ea-e9c736064885\"},\"has_children\":false,\"archived\":false,\"in_trash\":false,\"type\":\"bulleted_list_item\",\"bulleted_list_item\":{\"rich_text\":[{\"type\":\"text\",\"text\":{\"content\":\"403 에러 등 접근 제한에 대한 처리 방법\",\"link\":null},\"annotations\":{\"bold\":false,\"italic\":false,\"strikethrough\":false,\"underline\":false,\"code\":false,\"color\":\"default\"},\"plain_text\":\"403 에러 등 접근 제한에 대한 처리 방법\",\"href\":null}],\"color\":\"default\"}},{\"object\":\"block\",\"id\":\"22fe40c4-77c5-8170-bb47-f0ecdc8bbdbe\",\"parent\":{\"type\":\"page_id\",\"page_id\":\"22fe40c4-77c5-8128-af77-fc79e7eb1d98\"},\"created_time\":\"2025-07-13T09:35:00.000Z\",\"last_edited_time\":\"2025-07-13T09:35:00.000Z\",\"created_by\":{\"object\":\"user\",\"id\":\"afb99aa5-48e7-4e20-b8ea-e9c736064885\"},\"last_edited_by\":{\"object\":\"user\",\"id\":\"afb99aa5-48e7-4e20-b8ea-e9c736064885\"},\"has_children\":false,\"archived\":false,\"in_trash\":false,\"type\":\"bulleted_list_item\",\"bulleted_list_item\":{\"rich_text\":[{\"type\":\"text\",\"text\":{\"content\":\"에러 발생 시 스킵 설정\",\"link\":null},\"annotations\":{\"bold\":false,\"italic\":false,\"strikethrough\":false,\"underline\":false,\"code\":false,\"color\":\"default\"},\"plain_text\":\"에러 발생 시 스킵 설정\",\"href\":null}],\"color\":\"default\"}},{\"object\":\"block\",\"id\":\"22fe40c4-77c5-811e-a059-cee670f9d8b3\",\"parent\":{\"type\":\"page_id\",\"page_id\":\"22fe40c4-77c5-8128-af77-fc79e7eb1d98\"},\"created_time\":\"2025-07-13T09:35:00.000Z\",\"last_edited_time\":\"2025-07-13T09:35:00.000Z\",\"created_by\":{\"object\":\"user\",\"id\":\"afb99aa5-48e7-4e20-b8ea-e9c736064885\"},\"last_edited_by\":{\"object\":\"user\",\"id\":\"afb99aa5-48e7-4e20-b8ea-e9c736064885\"},\"has_children\":false,\"archived\":false,\"in_trash\":false,\"type\":\"heading_3\",\"heading_3\":{\"rich_text\":[{\"type\":\"text\",\"text\":{\"content\":\"6.2. 고도화 계획\",\"link\":null},\"annotations\":{\"bold\":false,\"italic\":false,\"strikethrough\":false,\"underline\":false,\"code\":false,\"color\":\"default\"},\"plain_text\":\"6.2. 고도화 계획\",\"href\":null}],\"is_toggleable\":false,\"color\":\"default\"}},{\"object\":\"block\",\"id\":\"22fe40c4-77c5-81cd-83b7-e7518d88ab04\",\"parent\":{\"type\":\"page_id\",\"page_id\":\"22fe40c4-77c5-8128-af77-fc79e7eb1d98\"},\"created_time\":\"2025-07-13T09:35:00.000Z\",\"last_edited_time\":\"2025-07-13T09:35:00.000Z\",\"created_by\":{\"object\":\"user\",\"id\":\"afb99aa5-48e7-4e20-b8ea-e9c736064885\"},\"last_edited_by\":{\"object\":\"user\",\"id\":\"afb99aa5-48e7-4e20-b8ea-e9c736064885\"},\"has_children\":false,\"archived\":false,\"in_trash\":false,\"type\":\"bulleted_list_item\",\"bulleted_list_item\":{\"rich_text\":[{\"type\":\"text\",\"text\":{\"content\":\"랭그래프를 활용한 뉴스 크롤러 고도화 계획\",\"link\":null},\"annotations\":{\"bold\":false,\"italic\":false,\"strikethrough\":false,\"underline\":false,\"code\":false,\"color\":\"default\"},\"plain_text\":\"랭그래프를 활용한 뉴스 크롤러 고도화 계획\",\"href\":null}],\"color\":\"default\"}},{\"object\":\"block\",\"id\":\"22fe40c4-77c5-8115-838e-d04d0ef66409\",\"parent\":{\"type\":\"page_id\",\"page_id\":\"22fe40c4-77c5-8128-af77-fc79e7eb1d98\"},\"created_time\":\"2025-07-13T09:35:00.000Z\",\"last_edited_time\":\"2025-07-13T09:35:00.000Z\",\"created_by\":{\"object\":\"user\",\"id\":\"afb99aa5-48e7-4e20-b8ea-e9c736064885\"},\"last_edited_by\":{\"object\":\"user\",\"id\":\"afb99aa5-48e7-4e20-b8ea-e9c736064885\"},\"has_children\":false,\"archived\":false,\"in_trash\":false,\"type\":\"bulleted_list_item\",\"bulleted_list_item\":{\"rich_text\":[{\"type\":\"text\",\"text\":{\"content\":\"파이썬을 활용한 추가 고도화\",\"link\":null},\"annotations\":{\"bold\":false,\"italic\":false,\"strikethrough\":false,\"underline\":false,\"code\":false,\"color\":\"default\"},\"plain_text\":\"파이썬을 활용한 추가 고도화\",\"href\":null}],\"color\":\"default\"}},{\"object\":\"block\",\"id\":\"22fe40c4-77c5-81bb-a84f-c1dc206a899c\",\"parent\":{\"type\":\"page_id\",\"page_id\":\"22fe40c4-77c5-8128-af77-fc79e7eb1d98\"},\"created_time\":\"2025-07-13T09:35:00.000Z\",\"last_edited_time\":\"2025-07-13T09:35:00.000Z\",\"created_by\":{\"object\":\"user\",\"id\":\"afb99aa5-48e7-4e20-b8ea-e9c736064885\"},\"last_edited_by\":{\"object\":\"user\",\"id\":\"afb99aa5-48e7-4e20-b8ea-e9c736064885\"},\"has_children\":false,\"archived\":false,\"in_trash\":false,\"type\":\"heading_2\",\"heading_2\":{\"rich_text\":[{\"type\":\"text\",\"text\":{\"content\":\"7. 결론\",\"link\":null},\"annotations\":{\"bold\":false,\"italic\":false,\"strikethrough\":false,\"underline\":false,\"code\":false,\"color\":\"default\"},\"plain_text\":\"7. 결론\",\"href\":null}],\"is_toggleable\":false,\"color\":\"default\"}},{\"object\":\"block\",\"id\":\"22fe40c4-77c5-81b5-99dd-e9e6b0f2fc51\",\"parent\":{\"type\":\"page_id\",\"page_id\":\"22fe40c4-77c5-8128-af77-fc79e7eb1d98\"},\"created_time\":\"2025-07-13T09:35:00.000Z\",\"last_edited_time\":\"2025-07-13T09:35:00.000Z\",\"created_by\":{\"object\":\"user\",\"id\":\"afb99aa5-48e7-4e20-b8ea-e9c736064885\"},\"last_edited_by\":{\"object\":\"user\",\"id\":\"afb99aa5-48e7-4e20-b8ea-e9c736064885\"},\"has_children\":false,\"archived\":false,\"in_trash\":false,\"type\":\"bulleted_list_item\",\"bulleted_list_item\":{\"rich_text\":[{\"type\":\"text\",\"text\":{\"content\":\"네이버 뉴스 크롤링 및 분석 과정 요약\",\"link\":null},\"annotations\":{\"bold\":false,\"italic\":false,\"strikethrough\":false,\"underline\":false,\"code\":false,\"color\":\"default\"},\"plain_text\":\"네이버 뉴스 크롤링 및 분석 과정 요약\",\"href\":null}],\"color\":\"default\"}},{\"object\":\"block\",\"id\":\"22fe40c4-77c5-813a-bf1b-c8ebcf071ae7\",\"parent\":{\"type\":\"page_id\",\"page_id\":\"22fe40c4-77c5-8128-af77-fc79e7eb1d98\"},\"created_time\":\"2025-07-13T09:35:00.000Z\",\"last_edited_time\":\"2025-07-13T09:35:00.000Z\",\"created_by\":{\"object\":\"user\",\"id\":\"afb99aa5-48e7-4e20-b8ea-e9c736064885\"},\"last_edited_by\":{\"object\":\"user\",\"id\":\"afb99aa5-48e7-4e20-b8ea-e9c736064885\"},\"has_children\":false,\"archived\":false,\"in_trash\":false,\"type\":\"bulleted_list_item\",\"bulleted_list_item\":{\"rich_text\":[{\"type\":\"text\",\"text\":{\"content\":\"향후 계획 및 개선 방향\",\"link\":null},\"annotations\":{\"bold\":false,\"italic\":false,\"strikethrough\":false,\"underline\":false,\"code\":false,\"color\":\"default\"},\"plain_text\":\"향후 계획 및 개선 방향\",\"href\":null}],\"color\":\"default\"}},{\"object\":\"block\",\"id\":\"22fe40c4-77c5-8193-a99e-f5cae3d4747d\",\"parent\":{\"type\":\"page_id\",\"page_id\":\"22fe40c4-77c5-8128-af77-fc79e7eb1d98\"},\"created_time\":\"2025-07-13T09:35:00.000Z\",\"last_edited_time\":\"2025-07-13T09:35:00.000Z\",\"created_by\":{\"object\":\"user\",\"id\":\"afb99aa5-48e7-4e20-b8ea-e9c736064885\"},\"last_edited_by\":{\"object\":\"user\",\"id\":\"afb99aa5-48e7-4e20-b8ea-e9c736064885\"},\"has_children\":false,\"archived\":false,\"in_trash\":false,\"type\":\"paragraph\",\"paragraph\":{\"rich_text\":[{\"type\":\"text\",\"text\":{\"content\":\"이 문서는 네이버 뉴스 크롤링 및 분석을 위한 전체적인 과정을 설명하며, 각 단계에서의 문제 해결 방법과 최적화 방안을 제시합니다.\",\"link\":null},\"annotations\":{\"bold\":false,\"italic\":false,\"strikethrough\":false,\"underline\":false,\"code\":false,\"color\":\"default\"},\"plain_text\":\"이 문서는 네이버 뉴스 크롤링 및 분석을 위한 전체적인 과정을 설명하며, 각 단계에서의 문제 해결 방법과 최적화 방안을 제시합니다.\",\"href\":null}],\"color\":\"default\"}}],\"next_cursor\":null,\"has_more\":false,\"type\":\"block\",\"block\":{},\"request_id\":\"7fb51a62-5d85-46d9-b711-6d59a590cefc\"}'\n",
      "'agent': 'The outline has been successfully added to the page with ID `22fe40c4-77c5-8128-af77-fc79e7eb1d98`. If you need any further modifications or additions, feel free to let me know!'\n",
      "\n",
      "Final result: {'agent': {'messages': [AIMessage(content='The outline has been successfully added to the page with ID `22fe40c4-77c5-8128-af77-fc79e7eb1d98`. If you need any further modifications or additions, feel free to let me know!', additional_kwargs={'refusal': None}, response_metadata={'token_usage': {'completion_tokens': 53, 'prompt_tokens': 18502, 'total_tokens': 18555, 'completion_tokens_details': {'accepted_prediction_tokens': 0, 'audio_tokens': 0, 'reasoning_tokens': 0, 'rejected_prediction_tokens': 0}, 'prompt_tokens_details': {'audio_tokens': 0, 'cached_tokens': 0}}, 'model_name': 'gpt-4o-2024-08-06', 'system_fingerprint': 'fp_07871e2ad8', 'id': 'chatcmpl-BsnP7fvfSNcxccEOiCelxRkzgJfVE', 'service_tier': 'default', 'finish_reason': 'stop', 'logprobs': None}, id='run--908bb2a0-827c-401c-b8d2-9ebf811a4415-0', usage_metadata={'input_tokens': 18502, 'output_tokens': 53, 'total_tokens': 18555, 'input_token_details': {'audio': 0, 'cache_read': 0}, 'output_token_details': {'audio': 0, 'reasoning': 0}})]}}\n"
     ]
    },
    {
     "data": {
      "text/plain": [
       "{'file_path': './videos/news_scrap_with_naver.mp4',\n",
       " 'transcript': '하나 둘 셋 네 다음은 네이버에서 한번 뉴스를 긁어오보겠습니다 제가 사실 이걸 할까 말까 조금 망설였던 게 그 네이버에서 뉴스를 하나 둘 셋 네이버에서 뉴스를 긁어오는게 쉽지가 않더라구요 왜냐면 검색을 한번 해보면 여기 자세히 보세요 이게 무한 스크롤 이거든요 그래서 흔히 그냥 1,2 눌러서는 페이지네이션이 안되는 거예요 그래서 이걸 어떻게 해야되냐면 새로 취한 번 하고 개발자 도구를 열어서 네트워크 탭에 가서 스크롤을 하면 여기 모어 보이시나요 모어? 이게 그 정보예요 여기 URL이 뉴스리스트를 가져오는 거에요 리스판스를 딱 보면 여기 URL이 다음 페이지 거든요 보시면은 스타트라는 쿼리 파라미터가 있어요 좀만 기다려주세요 여기 다음 URL은 스타트가 21 그리고 지금 URL은 스타트가 11 그쵸? 그래서 요거를 복사해다가 탭을 열고 스타트를 1로 바꿔주면 이게 우리가 처음 불러오는 뉴스리스트인거에요 그러면 여기로 와서 트리거를 추가하고 오너 스케줄 한 다음에 여기는 HTTP 노드가 있습니다 얘를 추가해서 URL에 넣어주면 긁어오죠 그쵸? 그리고 여기 옵션에 보면 페이지 네이션이 있어요 그래서 요거를 넣어 줘야 되는데 리스판스는 왠지 모르게 안 긁어져 오더라구요 그래서 리스판스 컨테인스 넥스트 URL 리스판스에 넥스트 URL이 있다 선택하시고 얘는 변수로 익스프레션 한 다음에 리스판스 점 바디에 URL 그러면은 다음게 들어가죠 그런 다음에 이게 무한 스크롤이잖아요 안 끝나거든요 그래서 리밋을 해줘야 돼요 뭐 한 10개 정도로 이렇게 그리고 인터벌비트윈도 넣어 줄게요 한 500 밀리 세컨드 해줄까요 아 근데 이거는 사실 막 정하는 것보다는 여기 로보트 다 TXT 라고 있는데 여기에 크롤링 정보가 들어가 있어요 상관이 없네요 가끔 여기에 그 딜레이가 적혀 있는 경우가 있거든요 그러 아 이게 방금 하나 둘 셋 이게 지금 다운받은 로봇 다 TXT 인데 가끔 여기에 딜레이 정보가 들어 있는 경우가 있어요 그러면은 그거를 안 지키면 어차피 에러나서 지켜줘야 되는데 네이버는 막아 놓지 않으셔가지고 여기서 그냥 500 밀리 세컨드 정도로 주겠습니다 그런 다음에 엑시큐트 하면 이런 식으로 들고 오죠 그렇죠 이렇게 할 수 있고 그러면 여기 html 에 있는 거를 꺼내와야 되는 거예요 걔는 또 어떻게 꺼내 오냐 노드 중에 html 이라고 있어요 근데 또 보시면 지금 아이템 10개죠 우리가 10개 가져왔으니까 그럼 편의상 이건 여러분들이 파라미터 조정 하시면 되니까 저는 3개만 해볼게요 시간이 오래 걸리니까 엑시큐트를 하고 그리고 한번 해보셨잖아요 루프 갑니다 루프 루프 가고 배치는 하나씩 한 다음에 리플레이스 해줘야죠 아까 여기에 html 을 해줘요 그런 다음에 익스트랙트 html 컨텐츠를 해줍니다 그럼 어떻게 할 수 있냐면 여기서 데이터 말고 html 을 꺼내 오는 거에요 그러면 크롤링 해보셨을 수도 있겠죠 그러면 그거랑 똑같이 여기 css 셀렉터로 집어 오는 거 거든요 그러면 이제 다시 여기로 가서 뉴스리스트로 가서 한번 보는 거에요 클래스가 뭔지 아까 브레이브랑 한번 차이점을 볼까요 브레이브랑 차이점을 한번 보자면 브레이브는 요약을 꽤 잘 해줘요 애플이 뭐 이런 일이 있었다 벌금 맞았다 그러면 이걸 기반으로 바로 그냥 분석하면 되잖아요 감정을 그런데 네이버에서는 그냥 앞에 잠깐 보여주고 잘리는 거 거든요 그렇기 때문에 이 내용을 쓸 수가 없어요 그래서 이거 어떻게 되냐면 타이틀을 클릭하면 기사로 넘어가요 그래서 이 기사를 꺼내 온 다음에 그 기사를 파싱해서 감정 분석을 해줘야 됩니다 그런데 여기 html 안에도 여러 개가 있어요 그래서 리스트 안에 또 리스트기 때문에 얘들을 꺼내 와서 기사의 리스트를 만들고 그거를 코드로 또 돌릴 겁니다 이걸 이제 한번 보여드릴께요 a를 가져야 되니까 보시면은 요거 sds sds-coms-text-type-headline1 요거가 타이틀이에요 제목 그리고 얘를 들고 온 다음에 클래스 이름이니까 점을 찍어 볼게요 텍스트 리턴하고 리턴 어레이 여러 개니까 그렇게 해서 돌리면 제목들만 잘 뽑아오죠 이렇게 그쵸 그리고 또 필요한 거는 우리는 url이 필요하죠 왜냐면 내용은 어차피 못 쓰는 거니까 그럼 url을 어떻게 가져오냐 여기 클래스에 요건데 지금 딱 보면 167개 있잖아요 그니까 저 클래스를 쓸 수가 없는 거에요 이게 지금 기사 제목인데 그래서 이때 어떻게 되냐면 요걸 들고야 되잖아요 요것도 되고 요것도 되죠 그러면 요거 div, 이 디브 이 디브에 요거 풀 레이아웃 요거 레이아웃을 한번 검색을 해보면 엄청 많네 이것도 하나 둘 셋 그러면 컨텐츠를 못 쓰니까 레이아웃을 url을 들고 와야 되잖아요 그럼 여기서 어떻게 하냐면 얘 있죠 얘 우리가 제목은 잘 들고 왔잖아요 그럼 이 제목의 아빠 를 찾는 거에요 페어런트 엘리먼트를 찾는 거에요 그래서 요거 요거를 하나 찝고 왜냐면 여기도 있고 여기 대충 보세요 b46 얘도 b46 이거든요 그래서 요거를 복사해다가 클래스 이름이니까 점 찍고 그런 다음에 해즈 아까 얘를 갖고 있는 애를 찾는 거에요 그런 다음에 리턴 벨류를 애트리뷰트 왜냐면 이제 내용이 아니라 href 를 긁어야 되니까요 그런 다음에 href 해주고 리턴 어레이 한 다음에 엑시큐트 하면은 url도 실패했습니다 아 제가 띄어쓰기를 했네요 돌리면 잘 긁어오죠 그쵸 그럼 잘 긁어왔어요 그리고 우리가 루프를 했으니까 페이지 3개 긁었잖아요 페이지 3개를 다 긁을 거에요 그런데 또 아이템 또 한개에요 한개 근데 우리는 지금 몇 개다 10개다 또 코드를 써서 이것들을 리스트로 만들어 주는 거죠 코드를 넣고 이거는 자바스크립트 문법입니다 먼저 타이틀 리스트를 긁어볼게요 왜냐면은 인덱스끼리는 똑같잖아요 그러니까 반복문을 돌리면서 이것들을 리스트 오브 오브젝트로 만들어 줄 거에요 개체 리스트로 이렇게 하면 위에 있는 거는 제목 리스트 아래 거는 url 리스트인거에요 헷갈리시면 긁어와도 됩니다 이렇게 이렇게 그런 다음에 전체 리스트를 봐야겠죠 근데 리스트는 페이지 네이션을 네이버가 해주니까 항상 10개긴 해요 근데 혹시 모르니까 그냥 변수를 하는 선을 해줍니다 세미콜론 찍을게요 혹시 좀 뭔가 불안정 하셨죠 그런 다음에 리스트에 담는 거죠 이렇게 해주면 10개가 나온 겁니다 이렇게 총 10개가 뭔가 이상한 것 같은데 잠시만요 하나 둘 셋 그러면은 지금 이 타이틀 url 10개가 나온 거에요 이런 식으로 그쵸 그러면 또 10개니까 이제 우리는 뭐를 하냐면 룹을 또 도는 거죠 그대로겠죠 배치 사이즈 그대로 두고 그런데 이번에는 어떤 차이가 있냐면 우리가 뉴스 내용을 다시 긁어와야 되잖아요 그러니까 여기서 http 리퀘스트를 날려서 이거 url의 내용을 가져와야 되는 거죠 이런 식으로 그런 다음에 두 가지 방법이 있어요 여기 html의 구조를 파악한 다음에 딱 뉴스 기사만 긁어다가 주는 수도 있는 거죠 lrm한테 토큰을 저감해야 되니까 근데 그게 조금 불안정한 이유가 뭐냐면 얘는 지금 뉴스시스 이건데 사이트가 다 다르잖아요 그쵸 얘는 yna 얘는 gdnet 이런 식이니까 그러면은 사이트마다 형식이 다 다를 거란 말이에요 그러면은 우리가 뉴스 리스트를 알 수가 없잖아요 어떤 웹사이트가 있는지 종류도 많을 거잖아요 그러니까 그걸 대응하기가 어렵기 때문에 가져오면 한 가지만 예를 들면 이거는 이런 식으로 긁어오는 거에요 아티클을 줘도 되거든요 근데 그렇지 않을 경우도 있기 때문에 저는 개인적으로 html에서 바디를 주는 게 안정적이라고 생각합니다 그런데 물론 이거는 테스트 해보시고 최적화를 하셔야겠죠 그러면 여기서 lrm을 또 쓰는 거에요 그 전에 html에서 바디만 골라야겠죠 그러면 또 html 노드를 넣어서 익스트랙트를 하고 여기 데이터에서 바디를 해보겠습니다 그럼 딱 컨텐트만 잘 긁어오죠 불필요한 내용이 참 많긴 많네요 그러면 이걸로 와서 lrm 체인에 프롬프트는 아까 쓴 것도 쓰면 되겠죠 브레이브로 가서 감정 분석을 들고 온 다음에 복사하시고 붙여 넣으시고 대신에 내용은 이거 제목은 요거 링크는 요거 앞에 노드에 있는 것들을 가져오는 겁니다 그런 다음에 마찬가지로 모델을 추가해 주고요 얘는 미니 한번 해볼까요 그리고 또 뭘 해줘야 되냐면 아까 브레이브는 디스크립션이 이미 요약이었잖아요 그러니까 여기서는 html을 다 넣을 수는 없으니 요약을 또 해줘야 됩니다 그래서 제가 권장대로 싶은 것은 뭐냐면 요약을 바로 하지 말고 뉴스 필터를 한 번 더 거는 거예요 이 기사가 우리한테 필요한 내용인지 아닌지 그래서 프롬프트를 이걸 바로 쓰지 말고 아 어차피 써야 되니까 남겨둘게요 그 전에 우리한테 필요한 기사인지 우리한테 관련이 있는지 없는지를 먼저 보는 거예요 이렇게 우리 회사 애플이랑 관련 있는지를 알아봐라 그런 다음에 프롬프트 하나 넣을게요 시스템 프롬프트를 하나 추가하겠습니다협박을 한번 해보는 거에요. 니가 제대로 분석하지 못하면 나 짤릴 수도 있다. 한번 넣어보고 오데를 추가하고 여기는 판단은 직접 하시는 거지만 왠지 이 relevant를 검증하는 게 조금 더 중요한 거 같아서 얘를 조금 비싼 모델을 써보겠습니다. 그리고 어차피 아웃풋은 간단하게 true, false 줄 거기 때문에 아웃풋 토큰이 더 비싼데 비용을 조금은 절일... 하나, 둘, 셋 그리고 어차피 아웃풋을 true, false만 할 거기 때문에 아웃풋 토큰이 비싸긴 하지만 토큰의 양이 적으니 어느 정도 비용도 아낄 수 있겠죠. 그러면 이름을 하고 여기도 파서 필요하죠. 관련이 있는지 없는지만 리턴하는 거에요. 한번 돌려볼까요? 관련이 있다네요. 그러면 여긴 또 if가 있어요. 그럼 조건문인데 이거는 if라기보다는 사실 필터에 가깝습니다. 왜냐하면 조건에 따라서 다른 작업을 하는 게 아니라 관련이 없으면 거를 거기 때문에 그럼 대신에 필터를 쓰고 relevant가 boolean의 is true라면 넘긴다. 넘어왔죠? 그러면 이제 분석을 하는 거에요. 대신에 기사 내용이 좀 바뀌어야 되네요. 요런 식으로 그리고 아웃풋은 요약도 해줘야 되겠죠? 여기서는 두 가지가 있습니다. 요약을 할 체인을 또 돌리거나 아니면 여기서 그냥 같이 하거나 여기서는 그냥 같이 한번 해볼게요. 제가 말씀드렸던 거는 가급적 태스크를 나누는 게 좋긴 하지만 이거는 어차피 분석하는 거기 때문에 그냥 한번에 가보겠습니다. 그런데 이것도 해보고 만약에 성능이 원하는 만큼 안 나오면 분기를 하면 돼요. 어차피 아웃풋 토큰의 수는 정해져 있기 때문에 물론 인풋을 두 번 쓰긴 하겠지만 인풋은 어차피 좀 싸잖아요 아웃풋에 비해서 그렇기 때문에 성능을 한번 보고 너무 별로다 싶으면 나눠 보겠습니다. 이렇게 놓고 모델은 이미 추가했으니까 아웃풋을 또 지정해야겠죠? 파설을 또 추가하고 마찬가지로 포맷은 브레이브에서 들고 올게요. 여기는 디스크립션 대신에 서머리 이렇게 넣겠습니다. 한번 돌려볼까요? 잘 나왔네요. 뉴트럴 하다고 하네요. 요약이 나왔어요. 그런데 우린 한국 사람이니까 요약은 한국말로 해줘야겠죠? 요약을 한국말로 했습니다. 잘 나왔네요. 그러면 이번엔 이걸 어떻게 해 볼 거냐면 이번에는 노션에 한번 추가해 볼게요. 사실 엑셀에 똑같이 넣어도 되는데 어차피 강의니까 다양한 활용법을 보시면 좋을 것 같아서 이번에는 노션에 한번 넣어 보겠습니다. 노션도 엠파렌에서 되게 쉽게 연동할 수가 있어요. 일단 이거 이름만 바꿀게요. 똑같이 여기 플러스 플러스 플러스를 해서 노션 검색하시면 여기서 Create 페이지를 할 거예요. 노션에 익숙하신지 모르겠는데 노션의 기본 개념이 데이터 관리를 할 때는 데이터 베이스 안에 데이터 베이스 안에 페이지들이 있어요. 그래서 뉴스 기사를 넣을 데이터 베이스를 먼저 생성한 다음에 여기서는 페이지를 생성해서 여기 추가하는 식으로 작업을 해 주셔야 됩니다. 그러면 노션의 페이지를 먼저 만들어 볼게요. 이거는 제가 이미 만들어 놓은 데이터 베이스에요. 하나 둘 셋 이거는 제가 만들어 놓은 페이지에요. 그리고 요게 데이터 베이스 거든요. 그렇기 때문에 URL에서 요거를 가져가시면 안 되고 기사를 여기서 일단 다 지어 볼게요. 여기서 클릭을 하시고 오픈하면 이렇게 가득 채울 수가 있거든요. 키우는 게 가능한데 하나 둘 셋 한번 만들어 볼게요. 일단 페이지를 먼저 만들어요. 그런 다음에 데이터 베이스가 여기 들어가는데 여기는 테이블을 만들어 줍니다. 이거 아니고 요거 테이블 뷰 해야 돼요. 데이터 베이스 써 있죠. 데이터 베이스. 누른 다음에 뭐 하나 써 주시고 필드를 주는 거예요. 요런 식으로 그리고 여기서 주의하실 점이 이거는 인프론 유사 기스 하나 둘 셋 하나 둘 셋 그리고 여기서 주의하실 점이 URL에 요거는 인프론 유스 기사 스크랩이라는 페이지 거든요. 그래서 데이터 베이스가 아니에요. 그 정보를 보려면 하나 만드시고 오픈하신 다음에 여기를 키우면 여기 보이시죠. 요거 이게 페이지고 제가 페이지가 DB 안에 있다고 했잖아요. 요걸 클릭할 때 요기 이게 DB 아이디에요. 요게 DB 아이디입니다. 얘를 복사해다가 다시 또 추가해 줘야 되죠. 노션 검색하시고 Create a page 한 다음에 아 이게 By ID URL도 되네요. 이거는 사실 저 몰랐습니다. 아이디만 되는 줄 알았어요. 아이디를 넣으시고 저는 또 어카운트를 해놨는데 여러분들 없을 수도 있잖아요. 그러면 Create new 하신 다음에 여기로 가시면 노션의 인테그레이션을 만들어줘야 돼요. 그거는 여기보다는 노션 인테그레이션으로 가신 다음에 여기 View my integration 보이시죠. 클릭하시고 하나 만들어주는 거예요. 워크스페이스 고르시고 이름도 하나 주세요. 그리고 그냥 Internal 해도 됩니다. Internal 하시고 왜냐면 하나 더 있는데 퍼블릭 하면 뭘 많이 넣어야 돼요. 그래가지고 Internal만 해도 되고 Save 한 다음에 요거 주죠. 얘를 복사해다가 요렇게 넣으시고 그리고 또 해주셔야 되는 게 뭐가 있냐면 여기 기사 목록에 와서 점점점 하신 다음에 커넥션을 해줘야 돼요. 방금 인프런 엔파렌 커넥션을 해줘야 우리가 방금 저 입력했던 시크릿을 활용해서 여기 DB에 접근할 수가 있어요. 그러면 시크릿 하면 되겠죠. 타이틀 넣고 왜 다 안 보여지는지 모르겠네요. 서머리랑 다 나와야 되는데 아 제가 프로포트 추가를 안 했군요. Add 옵션 하신 다음에 오 에러가 났네요. 에러가 나면 요아래를 된다니까 요아래를 들고 와서 넣어 줘보겠습니다. 아 원인을 찾았습니다. 리소스가 데이터베이스죠. 그리고 우리는 데이터베이스 페이지를 추가하니까 이렇게 해야되는데 제가 잘못했네요. 기사 목록 심지어 보여주는데 죄송합니다. 너무 이 아이디어 익숙해 가지고 여기서 클릭하시고 타이틀 있고 프로포티를 추가해 주세요. sentiment는 neutral summary는 요약한거 url은 긁어다가 엑시큐트를 하시면 잘 돌아갑니다. 여기서 잘 들어왔죠. 그러면 전체를 한번 다시 돌려 볼게요. 예쁘게 바꾸고 엑시큐트를 하면 이제 전체 뉴스는 30개고 거기서 관련 있는 것만 들어가겠죠. 여기 더는 빼겠습니다. 필요 없으니까 아 아니네요. 끝나야지 앞으로 도는 거죠. 하나 둘 셋 여기도 보시면 첫번째 아니 두번째 루비 끝 하나 둘 셋 하나 둘 셋 또 보시면 저희가 10개씩 3번 하잖아요. 10개 끝나려면은 하나 둘 셋 또 여기 보시면은 하나 둘 셋 또 여기 보시면은 저희가 10개씩 3번 하잖아요. 그러니까 10개가 끝나면 다시 앞에 루브로 돌아가는 구조라고 보시면 되겠습니다. 에러가 났네요. 방금 4비듬 보셨죠. 403 접근이 막힌 거예요. 그러면 이 사이트는 이렇게 브라우저에서는 접근이 되는데 보시면은 다 막아버렸죠. 여기 크롤 딜레이 여긴 있네요. 여기는 못 긁어 하게 해놓은 겁니다. 그래서 이렇게 막힌 사이트도 있다. 그렇기 때문에 여기서 세팅에 가셔서 에러가 나도 계속하게 해야 돼요. 스킵하게 어차피 걔는 못 가져오는 뉴스인 거잖아요. 그러니까 어차피 못 가져오니까 얘는 스킵하게 짜주는 겁니다. 이렇게 돌리시면 되고 그리고 방금 보신 이런 이유로 저는 한 번 더 뉴스 크롤러를 랭그래프를 활용해서 고도화를 할 거예요. 왜냐면 일단 방금 보신 것처럼 엠파렌에서는 방금 보신 403 케이스도 있고 그리고 구글 같은 경우는 링크를 리다이렉트를 하거든요. 하나 보여드리면 네 그럼 이렇게까지 해가지고 하나 둘 셋 네 그러면 다시 한 번 돌려 보겠습니다. 뉴스는 잘 들어가고 있죠 그러면 이렇게 해가지고 네이버를 활용한 뉴스 크롤을 맞춰 보고요. 그러면 다음에는 파이썬을 활용해서 한 번 고도화를 해 보도록 하겠습니다.',\n",
       " 'outline': '# 네이버 뉴스 크롤링 및 분석\\n\\n## 1. 시작하기\\n- 네이버에서 뉴스를 긁어오는 방법 소개\\n- 무한 스크롤 문제 해결 방법\\n\\n## 2. 네이버 뉴스 크롤링\\n### 2.1. 네트워크 탭 활용\\n- 개발자 도구의 네트워크 탭을 사용하여 URL 추출\\n- `스타트` 쿼리 파라미터를 이용한 페이지네이션\\n\\n### 2.2. HTTP 요청 설정\\n- HTTP 노드를 추가하여 URL 설정\\n- 페이지네이션 옵션 설정\\n- 무한 스크롤 문제 해결을 위한 리밋 설정\\n\\n### 2.3. 크롤링 속도 조절\\n- `robots.txt` 파일을 통한 크롤링 딜레이 확인\\n- 500 밀리세컨드 인터벌 설정\\n\\n## 3. HTML 데이터 추출\\n### 3.1. HTML 노드 활용\\n- HTML 노드를 사용하여 데이터 추출\\n- CSS 셀렉터를 통한 제목 및 URL 추출\\n\\n### 3.2. 데이터 리스트화\\n- 자바스크립트를 사용하여 제목과 URL 리스트 생성\\n\\n## 4. 뉴스 기사 분석\\n### 4.1. HTTP 요청을 통한 기사 내용 가져오기\\n- 각 뉴스 URL에 HTTP 요청을 보내 기사 내용 가져오기\\n\\n### 4.2. HTML 구조 파악 및 데이터 추출\\n- HTML 바디에서 기사 내용 추출\\n- 다양한 뉴스 사이트에 대한 대응 방법\\n\\n### 4.3. 감정 분석 및 요약\\n- LLM을 사용한 감정 분석 및 요약\\n- 관련성 필터링을 통한 기사 선별\\n\\n## 5. 노션에 데이터 추가\\n### 5.1. 노션 데이터베이스 설정\\n- 노션 데이터베이스 및 페이지 생성\\n- 노션 인테그레이션 설정\\n\\n### 5.2. 노션에 데이터 추가\\n- 노션 API를 사용하여 데이터베이스에 뉴스 데이터 추가\\n\\n## 6. 에러 처리 및 고도화\\n### 6.1. 에러 처리\\n- 403 에러 등 접근 제한에 대한 처리 방법\\n- 에러 발생 시 스킵 설정\\n\\n### 6.2. 고도화 계획\\n- 랭그래프를 활용한 뉴스 크롤러 고도화 계획\\n- 파이썬을 활용한 추가 고도화\\n\\n## 7. 결론\\n- 네이버 뉴스 크롤링 및 분석 과정 요약\\n- 향후 계획 및 개선 방향\\n\\n---\\n\\n이 문서는 네이버 뉴스 크롤링 및 분석을 위한 전체적인 과정을 설명하며, 각 단계에서의 문제 해결 방법과 최적화 방안을 제시합니다.',\n",
       " 'title': 'Naver에서 뉴스 스크랩 에이전트',\n",
       " 'database_id': '22fe40c477c5806798a7f51edc0ab976',\n",
       " 'page_id': '22fe40c4-77c5-8128-af77-fc79e7eb1d98'}"
      ]
     },
     "execution_count": 15,
     "metadata": {},
     "output_type": "execute_result"
    }
   ],
   "source": [
    "# 워크플로우 비동기 실행\n",
    "# 영상 파일 경로, Notion 데이터베이스 ID, 제목을 설정하여 전체 프로세스 실행\n",
    "await graph.ainvoke({\n",
    "    \"file_path\": \"./videos/news_scrap_with_naver.mp4\",           # 처리할 영상 파일 경로\n",
    "    \"database_id\": \"22fe40c477c5806798a7f51edc0ab976\",          # Notion 데이터베이스 ID\n",
    "    \"title\": \"Naver에서 뉴스 스크랩 에이전트\"                      # 페이지 제목\n",
    "})"
   ]
  },
  {
   "cell_type": "code",
   "execution_count": null,
   "id": "2a6562d3",
   "metadata": {},
   "outputs": [],
   "source": []
  }
 ],
 "metadata": {
  "kernelspec": {
   "display_name": ".venv",
   "language": "python",
   "name": "python3"
  },
  "language_info": {
   "codemirror_mode": {
    "name": "ipython",
    "version": 3
   },
   "file_extension": ".py",
   "mimetype": "text/x-python",
   "name": "python",
   "nbconvert_exporter": "python",
   "pygments_lexer": "ipython3",
   "version": "3.12.9"
  }
 },
 "nbformat": 4,
 "nbformat_minor": 5
}
