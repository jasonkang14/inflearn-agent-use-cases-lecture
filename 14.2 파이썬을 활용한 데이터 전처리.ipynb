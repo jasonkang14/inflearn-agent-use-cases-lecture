{
 "cells": [
  {
   "cell_type": "code",
   "execution_count": 1,
   "metadata": {},
   "outputs": [],
   "source": [
    "from langchain_text_splitters import MarkdownHeaderTextSplitter\n",
    "\n",
    "headers_to_split_on = [\n",
    "    (\"#\", \"title\"),    \n",
    "    (\"##\", \"chapter\"),    \n",
    "    (\"###\", \"section\"),   \n",
    "]\n",
    "\n",
    "markdown_splitter = MarkdownHeaderTextSplitter(headers_to_split_on)"
   ]
  },
  {
   "cell_type": "code",
   "execution_count": 7,
   "metadata": {},
   "outputs": [
    {
     "name": "stderr",
     "output_type": "stream",
     "text": [
      "/Users/jasonkang/inflearn/agent-use-cases/.venv/lib/python3.12/site-packages/tqdm/auto.py:21: TqdmWarning: IProgress not found. Please update jupyter and ipywidgets. See https://ipywidgets.readthedocs.io/en/stable/user_install.html\n",
      "  from .autonotebook import tqdm as notebook_tqdm\n"
     ]
    }
   ],
   "source": [
    "from dotenv import load_dotenv\n",
    "from langchain_pinecone import PineconeVectorStore\n",
    "from langchain_openai import OpenAIEmbeddings\n",
    "\n",
    "load_dotenv()\n",
    "embeddings = OpenAIEmbeddings(model=\"text-embedding-3-large\")\n",
    "index_name = \"inhouse-python-index\"\n",
    "\n",
    "vector_store = PineconeVectorStore(\n",
    "    index_name=index_name,\n",
    "    embedding=embeddings,\n",
    ")\n",
    "\n",
    "\n",
    "\n",
    "\n"
   ]
  },
  {
   "cell_type": "code",
   "execution_count": 12,
   "metadata": {},
   "outputs": [
    {
     "name": "stdout",
     "output_type": "stream",
     "text": [
      "page_content='- A: 연차 휴가는 본인 승인을 통해 자유롭게 사용할 수 있으며, 사내 HR 시스템에서 신청 가능합니다.' metadata={'title': '직원 복리후생 및 복지 FAQ', 'chapter': '1. 연차 유급 휴가 관련', 'section': 'Q1: 연차 휴가는 어떻게 사용하나요?', 'source': 'employee_benefits_and_welfare_faq'}\n"
     ]
    }
   ],
   "source": [
    "import os\n",
    "input_dir = './output'\n",
    "\n",
    "for filename in os.listdir(input_dir):\n",
    "    if filename.endswith('.md'):\n",
    "        md_path = os.path.join(input_dir, filename)\n",
    "        with open(md_path, 'r', encoding='utf-8') as f:\n",
    "            markdown_text = f.read()\n",
    "            \n",
    "        docs = markdown_splitter.split_text(markdown_text)\n",
    "        for doc in docs:\n",
    "            doc.metadata['source'] = filename.replace('.md', '')\n",
    "            print(doc)\n",
    "            break\n",
    "    break\n",
    "    vector_store.add_documents(docs)\n",
    "        \n",
    "        "
   ]
  },
  {
   "cell_type": "code",
   "execution_count": 10,
   "metadata": {},
   "outputs": [],
   "source": [
    "retriever = vector_store.as_retriever()"
   ]
  },
  {
   "cell_type": "code",
   "execution_count": 13,
   "metadata": {},
   "outputs": [
    {
     "data": {
      "text/plain": [
       "[Document(id='1bd85b06-53b0-4cee-991e-95fd2680c731', metadata={'chapter': '3. 경조 휴가 및 지원', 'section': '7. 문의 및 기타', 'source': 'employee_benefits_and_welfare_faq', 'title': '직원 복리후생 및 복지 FAQ'}, page_content='**Q14: 복리후생 관련 문의는 어디로 하면 되나요?**\\n- A: HR 담당자 김지현 (이메일: kimjh@company.com, 전화번호: 02-1234-5678)에게 문의 가능합니다.'),\n",
       " Document(id='4ee27549-398a-4d1d-ae07-1fab409a9011', metadata={'chapter': '제 1 장 복리후생 개요', 'section': '제 1조 (목적)', 'source': 'employee_benefits_and_welfare_guide', 'title': '직원 복리후생 및 복지 가이드'}, page_content='- 본 가이드는 직원들에게 제공되는 복리후생 제도를 명확히 안내하여, 회사 생활의 만족도를 높이고, 근로 의욕을 증진하기 위함이다.'),\n",
       " Document(id='28fe39a8-a233-49a6-b6f7-687821f80314', metadata={'chapter': '제 18조 (신청 절차)', 'source': 'employee_benefits_and_welfare_guide', 'title': '제 8장 복리후생 신청 및 문의'}, page_content='- 각 복리후생은 사내 HR 시스템을 통해 신청 가능\\n- 문의 사항은 인사팀 담당자에게 문의'),\n",
       " Document(id='636398fb-a20e-43f4-a66f-4c2c31607518', metadata={'chapter': '제 4장 급여 및 복리 후생', 'section': '제 13조 (복리 후생)', 'source': 'employee_handbook_and_hr_policy', 'title': '직원 핸드북 및 인사 정책'}, page_content='- 건강 보험: 전 직원 기본 건강 보험 제공\\n- 통신비 지원: 매월 50,000원\\n- 교육 지원: 외부 교육 프로그램 등록 시 50% 비용 지원\\n- 동호회 지원: 사내 동호회 활동 비용의 50% 지원, 최대 월 100,000원  \\n---')]"
      ]
     },
     "execution_count": 13,
     "metadata": {},
     "output_type": "execute_result"
    }
   ],
   "source": [
    "retriever.invoke(\"원 복리후생 및 복지 FAQ\")"
   ]
  },
  {
   "cell_type": "code",
   "execution_count": null,
   "metadata": {},
   "outputs": [],
   "source": []
  }
 ],
 "metadata": {
  "kernelspec": {
   "display_name": ".venv",
   "language": "python",
   "name": "python3"
  },
  "language_info": {
   "codemirror_mode": {
    "name": "ipython",
    "version": 3
   },
   "file_extension": ".py",
   "mimetype": "text/x-python",
   "name": "python",
   "nbconvert_exporter": "python",
   "pygments_lexer": "ipython3",
   "version": "3.12.9"
  }
 },
 "nbformat": 4,
 "nbformat_minor": 2
}
